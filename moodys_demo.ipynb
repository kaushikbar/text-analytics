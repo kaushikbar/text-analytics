{
 "cells": [
  {
   "cell_type": "markdown",
   "metadata": {},
   "source": [
    "# Web scraping stage"
   ]
  },
  {
   "cell_type": "markdown",
   "metadata": {},
   "source": [
    "## Newsapi.org"
   ]
  },
  {
   "cell_type": "code",
   "execution_count": null,
   "metadata": {},
   "outputs": [],
   "source": [
    "%run scraper.py"
   ]
  },
  {
   "cell_type": "markdown",
   "metadata": {},
   "source": [
    "# Text analytics stage"
   ]
  },
  {
   "cell_type": "markdown",
   "metadata": {},
   "source": [
    "## Imports"
   ]
  },
  {
   "cell_type": "code",
   "execution_count": 102,
   "metadata": {},
   "outputs": [
    {
     "name": "stdout",
     "output_type": "stream",
     "text": [
      "[nltk_data] Downloading package punkt to ./data/...\n",
      "[nltk_data]   Package punkt is already up-to-date!\n"
     ]
    },
    {
     "data": {
      "application/vnd.jupyter.widget-view+json": {
       "model_id": "da882839c43e4c24bd143c4b66187d1f",
       "version_major": 2,
       "version_minor": 0
      },
      "text/html": [
       "<p>Failed to display Jupyter Widget of type <code>HBox</code>.</p>\n",
       "<p>\n",
       "  If you're reading this message in the Jupyter Notebook or JupyterLab Notebook, it may mean\n",
       "  that the widgets JavaScript is still loading. If this message persists, it\n",
       "  likely means that the widgets JavaScript library is either not installed or\n",
       "  not enabled. See the <a href=\"https://ipywidgets.readthedocs.io/en/stable/user_install.html\">Jupyter\n",
       "  Widgets Documentation</a> for setup instructions.\n",
       "</p>\n",
       "<p>\n",
       "  If you're reading this message in another frontend (for example, a static\n",
       "  rendering on GitHub or <a href=\"https://nbviewer.jupyter.org/\">NBViewer</a>),\n",
       "  it may mean that your frontend doesn't currently support widgets.\n",
       "</p>\n"
      ],
      "text/plain": [
       "HBox(children=(IntProgress(value=1, bar_style='info', max=1), HTML(value='')))"
      ]
     },
     "metadata": {},
     "output_type": "display_data"
    }
   ],
   "source": [
    "import pandas as pd\n",
    "pd.options.display.max_columns = 200\n",
    "pd.options.mode.chained_assignment = None\n",
    "from collections import Counter\n",
    "import re\n",
    "import numpy as np\n",
    "from functools import reduce\n",
    "\n",
    "import warnings\n",
    "\n",
    "from nltk.tokenize import word_tokenize, sent_tokenize\n",
    "from nltk.corpus import stopwords\n",
    "# stop = set(stopwords.words('english'))\n",
    "from string import punctuation\n",
    "\n",
    "import nltk\n",
    "nltk.download('punkt', download_dir='./data/')\n",
    "\n",
    "warnings.filterwarnings(action='ignore', category=UserWarning, module='gensim')\n",
    "import gensim\n",
    "import gensim.corpora as corpora\n",
    "from gensim import matutils\n",
    "from gensim.models import CoherenceModel\n",
    "\n",
    "from sklearn.feature_extraction.text import TfidfVectorizer\n",
    "from sklearn.decomposition import TruncatedSVD\n",
    "from sklearn.manifold import TSNE\n",
    "\n",
    "from tqdm import tqdm_notebook\n",
    "tqdm_notebook().pandas()\n",
    "from wordcloud import WordCloud\n",
    "\n",
    "import bokeh.plotting as bp\n",
    "from bokeh.models import HoverTool, BoxSelectTool\n",
    "from bokeh.plotting import figure, show, output_notebook, reset_output\n",
    "from bokeh.palettes import d3\n",
    "import bokeh.models as bmo\n",
    "from bokeh.io import save, output_file\n",
    "\n",
    "warnings.filterwarnings(\"ignore\", category=DeprecationWarning)\n",
    "import pyLDAvis\n",
    "import pyLDAvis.gensim\n",
    "\n",
    "import matplotlib.pyplot as plt\n",
    "%matplotlib inline"
   ]
  },
  {
   "cell_type": "markdown",
   "metadata": {},
   "source": [
    "## UDFs"
   ]
  },
  {
   "cell_type": "markdown",
   "metadata": {},
   "source": [
    "The two functions below are borrowed from a <a href=\"https://www.kaggle.com/c/jigsaw-toxic-comment-classification-challenge\"> Kaggle competition </a>.\n",
    "\n",
    "They remove non ascii characters and standardize the text (can't -> cannot, i'm -> i am). This will make the tokenization process more efficient."
   ]
  },
  {
   "cell_type": "code",
   "execution_count": 30,
   "metadata": {},
   "outputs": [],
   "source": [
    "def _removeNonAscii(s): \n",
    "    return \"\".join(i for i in s if ord(i)<128)\n",
    "\n",
    "def clean_text(text):\n",
    "    text = text.lower()\n",
    "    text = re.sub(r\"what's\", \"what is \", text)\n",
    "    text = text.replace('(ap)', '')\n",
    "    text = re.sub(r\"\\'s\", \" is \", text)\n",
    "    text = re.sub(r\"\\'ve\", \" have \", text)\n",
    "    text = re.sub(r\"can't\", \"cannot \", text)\n",
    "    text = re.sub(r\"n't\", \" not \", text)\n",
    "    text = re.sub(r\"i'm\", \"i am \", text)\n",
    "    text = re.sub(r\"\\'re\", \" are \", text)\n",
    "    text = re.sub(r\"\\'d\", \" would \", text)\n",
    "    text = re.sub(r\"\\'ll\", \" will \", text)\n",
    "    text = re.sub(r'\\W+', ' ', text)\n",
    "    text = re.sub(r'\\s+', ' ', text)\n",
    "    text = re.sub(r\"\\\\\", \"\", text)\n",
    "    text = re.sub(r\"\\'\", \"\", text)    \n",
    "    text = re.sub(r\"\\\"\", \"\", text)\n",
    "    text = re.sub('[^a-zA-Z ?!]+', '', text)\n",
    "    text = _removeNonAscii(text)\n",
    "    text = text.strip()\n",
    "    return text"
   ]
  },
  {
   "cell_type": "markdown",
   "metadata": {},
   "source": [
    "Integrate these two functions into a tokenizing function."
   ]
  },
  {
   "cell_type": "code",
   "execution_count": 43,
   "metadata": {},
   "outputs": [],
   "source": [
    "def tokenizer(text, stop_words):\n",
    "    text = clean_text(text)    \n",
    "    tokens = [word_tokenize(sent) for sent in sent_tokenize(text)]\n",
    "    tokens = list(reduce(lambda x,y: x+y, tokens))\n",
    "    tokens = list(filter(lambda token: token not in (stop_words + list(punctuation)) , tokens))\n",
    "    return tokens"
   ]
  },
  {
   "cell_type": "markdown",
   "metadata": {},
   "source": [
    "Group the tokens by category, apply a word count and display the top N most frequent tokens. "
   ]
  },
  {
   "cell_type": "code",
   "execution_count": 44,
   "metadata": {},
   "outputs": [],
   "source": [
    "def word_count(category, top_n=10):\n",
    "    tokens = data[data['category'] == category]['tokens']\n",
    "    alltokens = []\n",
    "    for token_list in tokens:\n",
    "        alltokens += token_list\n",
    "    counter = Counter(alltokens)\n",
    "    return counter.most_common(top_n)"
   ]
  },
  {
   "cell_type": "code",
   "execution_count": 57,
   "metadata": {},
   "outputs": [],
   "source": [
    "def plot_word_cloud(terms):\n",
    "    text = terms.index\n",
    "    text = ' '.join(list(text))\n",
    "    wordcloud = WordCloud(max_font_size=40).generate(text)\n",
    "    # plt.figure(figsize=(25, 25))\n",
    "    plt.imshow(wordcloud, interpolation=\"bilinear\")\n",
    "    plt.axis(\"off\")\n",
    "    plt.show()"
   ]
  },
  {
   "cell_type": "code",
   "execution_count": 99,
   "metadata": {},
   "outputs": [],
   "source": [
    "# Define the LDA modeling function that takes the number of topics as a parameter\n",
    "def LDA_model(num_topics, passes=1):\n",
    "    return gensim.models.ldamodel.LdaModel(corpus=tqdm_notebook(corpus, leave=False),\n",
    "                                               id2word=id2word,\n",
    "                                               num_topics=num_topics, \n",
    "                                               random_state=100,\n",
    "                                               eval_every=10,\n",
    "                                               chunksize=2000,\n",
    "                                               passes=passes,\n",
    "                                               per_word_topics=True)\n",
    "\n",
    "# Define a metric to assess a good topic model: the coherence score\n",
    "def compute_coherence(model):\n",
    "    coherence = CoherenceModel(model=model, \n",
    "                           texts=df['tokens_bigram'].values,\n",
    "                           dictionary=id2word, coherence='c_v')\n",
    "    return coherence.get_coherence()\n",
    "\n",
    "# Vary the number of topics in an interval and pick the number that optimizes the coherence score\n",
    "def explore_models(topics_df, rg=range(5, 25)):\n",
    "    id2word = corpora.Dictionary(topics_df['tokens_bigram'])\n",
    "    texts = topics_df['tokens_bigram'].values\n",
    "    corpus = [id2word.doc2bow(text) for text in texts]\n",
    "\n",
    "    models = []\n",
    "    coherences = []\n",
    "    \n",
    "    for num_topics in tqdm_notebook(rg, leave=False):\n",
    "        lda_model = LDA_model(num_topics, passes=5)\n",
    "        models.append(lda_model)\n",
    "        coherence = compute_coherence(lda_model)\n",
    "        coherences.append(coherence)\n",
    "      \n",
    "\n",
    "    fig = plt.figure(figsize=(15, 5))\n",
    "    plt.title('Choosing the optimal number of topics')\n",
    "    plt.xlabel('Number of topics')\n",
    "    plt.ylabel('Coherence')\n",
    "    plt.grid(True)\n",
    "    plt.plot(rg, coherences)\n",
    "    \n",
    "    return coherences, models\n",
    "\n",
    "# Display topics and corresponding keywords\n",
    "def display_topics(model, num_words=10):\n",
    "    topics = model.show_topics(num_topics=model.num_topics, formatted=False, num_words=num_words)\n",
    "    topics = map(lambda c: map(lambda cc: cc[0], c[1]), topics)\n",
    "    topics_df = pd.DataFrame(list(topics))\n",
    "    topics_df.index = ['topic_{0}'.format(i) for i in range(model.num_topics)]\n",
    "    topics_df.columns = ['keyword_{0}'.format(i) for i in range(1, num_words+1)]\n",
    "    return topics_df\n",
    "\n",
    "# Build a document/topic matrix that will be uses for visualization, where a cell i,j contains the probabily of topic j in the document i\n",
    "def get_document_topic_matrix(corpus, num_topics=best_model.num_topics):\n",
    "    matrix = []\n",
    "    for row in tqdm_notebook(corpus):\n",
    "        output = np.zeros(num_topics)\n",
    "        doc_proba = best_model[row][0]\n",
    "        for doc, proba in doc_proba:\n",
    "            output[doc] = proba\n",
    "        matrix.append(output)\n",
    "    matrix = np.array(matrix)\n",
    "    return matrix"
   ]
  },
  {
   "cell_type": "markdown",
   "metadata": {},
   "source": [
    "## Load the data"
   ]
  },
  {
   "cell_type": "code",
   "execution_count": 32,
   "metadata": {},
   "outputs": [
    {
     "name": "stdout",
     "output_type": "stream",
     "text": [
      "(462, 9)\n"
     ]
    },
    {
     "data": {
      "text/html": [
       "<div>\n",
       "<style scoped>\n",
       "    .dataframe tbody tr th:only-of-type {\n",
       "        vertical-align: middle;\n",
       "    }\n",
       "\n",
       "    .dataframe tbody tr th {\n",
       "        vertical-align: top;\n",
       "    }\n",
       "\n",
       "    .dataframe thead th {\n",
       "        text-align: right;\n",
       "    }\n",
       "</style>\n",
       "<table border=\"1\" class=\"dataframe\">\n",
       "  <thead>\n",
       "    <tr style=\"text-align: right;\">\n",
       "      <th></th>\n",
       "      <th>author</th>\n",
       "      <th>description</th>\n",
       "      <th>publishedAt</th>\n",
       "      <th>source</th>\n",
       "      <th>title</th>\n",
       "      <th>url</th>\n",
       "      <th>urlToImage</th>\n",
       "      <th>category</th>\n",
       "      <th>scraping_date</th>\n",
       "    </tr>\n",
       "  </thead>\n",
       "  <tbody>\n",
       "    <tr>\n",
       "      <th>0</th>\n",
       "      <td>http://www.abc.net.au/news/louise--yaxley/5553226</td>\n",
       "      <td>Nationals are urging Barnaby Joyce to deal pri...</td>\n",
       "      <td>2018-06-04T01:53:38Z</td>\n",
       "      <td>abc-news-au</td>\n",
       "      <td>Nationals defend their character after Barnaby...</td>\n",
       "      <td>http://www.abc.net.au/news/2018-06-04/barnaby-...</td>\n",
       "      <td>http://www.abc.net.au/news/image/9830072-16x9-...</td>\n",
       "      <td>general</td>\n",
       "      <td>2018-06-04 11:07:53.129742</td>\n",
       "    </tr>\n",
       "    <tr>\n",
       "      <th>1</th>\n",
       "      <td>http://www.abc.net.au/news/sarah-ferguson/6970476</td>\n",
       "      <td>Felix Sater says he lived a double life, build...</td>\n",
       "      <td>2018-06-03T20:55:11Z</td>\n",
       "      <td>abc-news-au</td>\n",
       "      <td>The business partner Donald Trump wants nothin...</td>\n",
       "      <td>http://www.abc.net.au/news/2018-06-04/felix-sa...</td>\n",
       "      <td>http://www.abc.net.au/news/image/9816150-16x9-...</td>\n",
       "      <td>general</td>\n",
       "      <td>2018-06-04 11:07:53.129742</td>\n",
       "    </tr>\n",
       "  </tbody>\n",
       "</table>\n",
       "</div>"
      ],
      "text/plain": [
       "                                              author  \\\n",
       "0  http://www.abc.net.au/news/louise--yaxley/5553226   \n",
       "1  http://www.abc.net.au/news/sarah-ferguson/6970476   \n",
       "\n",
       "                                         description           publishedAt  \\\n",
       "0  Nationals are urging Barnaby Joyce to deal pri...  2018-06-04T01:53:38Z   \n",
       "1  Felix Sater says he lived a double life, build...  2018-06-03T20:55:11Z   \n",
       "\n",
       "        source                                              title  \\\n",
       "0  abc-news-au  Nationals defend their character after Barnaby...   \n",
       "1  abc-news-au  The business partner Donald Trump wants nothin...   \n",
       "\n",
       "                                                 url  \\\n",
       "0  http://www.abc.net.au/news/2018-06-04/barnaby-...   \n",
       "1  http://www.abc.net.au/news/2018-06-04/felix-sa...   \n",
       "\n",
       "                                          urlToImage category  \\\n",
       "0  http://www.abc.net.au/news/image/9830072-16x9-...  general   \n",
       "1  http://www.abc.net.au/news/image/9816150-16x9-...  general   \n",
       "\n",
       "                scraping_date  \n",
       "0  2018-06-04 11:07:53.129742  \n",
       "1  2018-06-04 11:07:53.129742  "
      ]
     },
     "execution_count": 32,
     "metadata": {},
     "output_type": "execute_result"
    }
   ],
   "source": [
    "data = pd.read_csv('./data/news.csv')\n",
    "print(data.shape)\n",
    "data.head(2)"
   ]
  },
  {
   "cell_type": "markdown",
   "metadata": {},
   "source": [
    "## Explore"
   ]
  },
  {
   "cell_type": "code",
   "execution_count": 33,
   "metadata": {},
   "outputs": [
    {
     "data": {
      "image/png": "[encoded data removed]",
      "text/plain": [
       "<matplotlib.figure.Figure at 0x28c22e5f748>"
      ]
     },
     "metadata": {},
     "output_type": "display_data"
    }
   ],
   "source": [
    "data.category.value_counts(normalize=True).plot(kind='bar', grid=True)\n",
    "plt.show()"
   ]
  },
  {
   "cell_type": "code",
   "execution_count": 34,
   "metadata": {},
   "outputs": [
    {
     "name": "stdout",
     "output_type": "stream",
     "text": [
      "(432, 9)\n"
     ]
    }
   ],
   "source": [
    "# Remove duplicate description columns\n",
    "data = data.drop_duplicates('description')\n",
    "\n",
    "# Remove rows with empty descriptions\n",
    "data = data[~data['description'].isnull()]\n",
    "print(data.shape)"
   ]
  },
  {
   "cell_type": "code",
   "execution_count": 35,
   "metadata": {},
   "outputs": [
    {
     "data": {
      "image/png": "[encoded data removed]",
      "text/plain": [
       "<matplotlib.figure.Figure at 0x28c22ffc588>"
      ]
     },
     "metadata": {},
     "output_type": "display_data"
    }
   ],
   "source": [
    "# Distribution of description lengths\n",
    "data.description.map(len).hist(bins=100);"
   ]
  },
  {
   "cell_type": "code",
   "execution_count": 36,
   "metadata": {},
   "outputs": [
    {
     "name": "stdout",
     "output_type": "stream",
     "text": [
      "(432, 9)\n"
     ]
    }
   ],
   "source": [
    "# Focus on the news articles with descriptions longer than 140 characters\n",
    "# data = data[(data.description.map(len) > 140)]\n",
    "\n",
    "data.reset_index(inplace=True, drop=True)\n",
    "print(data.shape)"
   ]
  },
  {
   "cell_type": "code",
   "execution_count": 37,
   "metadata": {},
   "outputs": [
    {
     "data": {
      "text/html": [
       "<div>\n",
       "<style scoped>\n",
       "    .dataframe tbody tr th:only-of-type {\n",
       "        vertical-align: middle;\n",
       "    }\n",
       "\n",
       "    .dataframe tbody tr th {\n",
       "        vertical-align: top;\n",
       "    }\n",
       "\n",
       "    .dataframe thead th {\n",
       "        text-align: right;\n",
       "    }\n",
       "</style>\n",
       "<table border=\"1\" class=\"dataframe\">\n",
       "  <thead>\n",
       "    <tr style=\"text-align: right;\">\n",
       "      <th></th>\n",
       "      <th>author</th>\n",
       "      <th>description</th>\n",
       "      <th>publishedAt</th>\n",
       "      <th>source</th>\n",
       "      <th>title</th>\n",
       "      <th>url</th>\n",
       "      <th>urlToImage</th>\n",
       "      <th>category</th>\n",
       "      <th>scraping_date</th>\n",
       "    </tr>\n",
       "  </thead>\n",
       "  <tbody>\n",
       "    <tr>\n",
       "      <th>0</th>\n",
       "      <td>Jason Rowley</td>\n",
       "      <td>Podcasts are television for the earbud generat...</td>\n",
       "      <td>2018-06-03T18:11:13Z</td>\n",
       "      <td>techcrunch</td>\n",
       "      <td>VCs like what they are hearing out of the podc...</td>\n",
       "      <td>https://techcrunch.com/2018/06/03/vcs-like-wha...</td>\n",
       "      <td>https://techcrunch.com/wp-content/themes/techc...</td>\n",
       "      <td>technology</td>\n",
       "      <td>2018-06-04 11:07:53.129742</td>\n",
       "    </tr>\n",
       "    <tr>\n",
       "      <th>1</th>\n",
       "      <td>TNW Deals</td>\n",
       "      <td>The shortest distance between two points is a ...</td>\n",
       "      <td>2018-06-01T08:50:13Z</td>\n",
       "      <td>the-next-web</td>\n",
       "      <td>Get Cisco certified with this IT network train...</td>\n",
       "      <td>https://thenextweb.com/offers/2018/06/03/get-c...</td>\n",
       "      <td>https://cdn0.tnwcdn.com/wp-content/blogs.dir/1...</td>\n",
       "      <td>technology</td>\n",
       "      <td>2018-06-04 11:07:53.129742</td>\n",
       "    </tr>\n",
       "  </tbody>\n",
       "</table>\n",
       "</div>"
      ],
      "text/plain": [
       "         author                                        description  \\\n",
       "0  Jason Rowley  Podcasts are television for the earbud generat...   \n",
       "1     TNW Deals  The shortest distance between two points is a ...   \n",
       "\n",
       "            publishedAt        source  \\\n",
       "0  2018-06-03T18:11:13Z    techcrunch   \n",
       "1  2018-06-01T08:50:13Z  the-next-web   \n",
       "\n",
       "                                               title  \\\n",
       "0  VCs like what they are hearing out of the podc...   \n",
       "1  Get Cisco certified with this IT network train...   \n",
       "\n",
       "                                                 url  \\\n",
       "0  https://techcrunch.com/2018/06/03/vcs-like-wha...   \n",
       "1  https://thenextweb.com/offers/2018/06/03/get-c...   \n",
       "\n",
       "                                          urlToImage    category  \\\n",
       "0  https://techcrunch.com/wp-content/themes/techc...  technology   \n",
       "1  https://cdn0.tnwcdn.com/wp-content/blogs.dir/1...  technology   \n",
       "\n",
       "                scraping_date  \n",
       "0  2018-06-04 11:07:53.129742  \n",
       "1  2018-06-04 11:07:53.129742  "
      ]
     },
     "execution_count": 37,
     "metadata": {},
     "output_type": "execute_result"
    }
   ],
   "source": [
    "# Sample some news due to memory constraints\n",
    "data = data.sample(400, random_state=1)\n",
    "data.reset_index(inplace=True, drop=True)\n",
    "data.head(2)"
   ]
  },
  {
   "cell_type": "markdown",
   "metadata": {},
   "source": [
    "## Preprocess"
   ]
  },
  {
   "cell_type": "code",
   "execution_count": 38,
   "metadata": {},
   "outputs": [],
   "source": [
    "data['description'] = data['description'].map(lambda d: str(d))"
   ]
  },
  {
   "cell_type": "markdown",
   "metadata": {},
   "source": [
    "### Define stopwords"
   ]
  },
  {
   "cell_type": "code",
   "execution_count": 39,
   "metadata": {},
   "outputs": [
    {
     "name": "stdout",
     "output_type": "stream",
     "text": [
      "668\n"
     ]
    }
   ],
   "source": [
    "stop_words = []\n",
    "\n",
    "f = open('./stopwords/stopwords.txt', 'r')\n",
    "for l in f.readlines():\n",
    "    stop_words.append(l.replace('\\n', ''))\n",
    "    \n",
    "additional_stop_words = ['t', 'will']\n",
    "stop_words += additional_stop_words\n",
    "\n",
    "print(len(stop_words))"
   ]
  },
  {
   "cell_type": "markdown",
   "metadata": {},
   "source": [
    "### Tokenize"
   ]
  },
  {
   "cell_type": "markdown",
   "metadata": {},
   "source": [
    "Build a tokenizer, which will, for every description, do the following:\n",
    "\n",
    "- lowercase the text and clean it (separate function)\n",
    "- break the descriptions into sentences and then break the sentences into tokens\n",
    "- remove punctuation, stop words\n",
    "\n",
    "We used to existing stopwords list that includes all stopwords in NLTK and more."
   ]
  },
  {
   "cell_type": "code",
   "execution_count": 42,
   "metadata": {},
   "outputs": [
    {
     "data": {
      "application/vnd.jupyter.widget-view+json": {
       "model_id": "55cfaa45588d4bf68ca9d7e5b1e86965",
       "version_major": 2,
       "version_minor": 0
      },
      "text/html": [
       "<p>Failed to display Jupyter Widget of type <code>HBox</code>.</p>\n",
       "<p>\n",
       "  If you're reading this message in the Jupyter Notebook or JupyterLab Notebook, it may mean\n",
       "  that the widgets JavaScript is still loading. If this message persists, it\n",
       "  likely means that the widgets JavaScript library is either not installed or\n",
       "  not enabled. See the <a href=\"https://ipywidgets.readthedocs.io/en/stable/user_install.html\">Jupyter\n",
       "  Widgets Documentation</a> for setup instructions.\n",
       "</p>\n",
       "<p>\n",
       "  If you're reading this message in another frontend (for example, a static\n",
       "  rendering on GitHub or <a href=\"https://nbviewer.jupyter.org/\">NBViewer</a>),\n",
       "  it may mean that your frontend doesn't currently support widgets.\n",
       "</p>\n"
      ],
      "text/plain": [
       "HBox(children=(IntProgress(value=0, max=400), HTML(value='')))"
      ]
     },
     "metadata": {},
     "output_type": "display_data"
    },
    {
     "name": "stdout",
     "output_type": "stream",
     "text": [
      "description: Podcasts are television for the earbud generation. And although many podcasters make money, typically through sponsorships, the podcasting industry (such as it is) hasn’t received much in the way of venture funding -- until quite recently.\n",
      "tokens: ['podcasts', 'television', 'earbud', 'generation', 'podcasters', 'money', 'typically', 'sponsorships', 'podcasting', 'industry', 'hasn', 'received', 'venture', 'funding']\n",
      "\n",
      "description: The shortest distance between two points is a straight line. And if you’re looking to break in or advance a career in IT network systems, here’s a straight line scenario for you. ...\n",
      "tokens: ['shortest', 'distance', 'points', 'straight', 'break', 'advance', 'career', 'network', 'systems', 'straight', 'scenario']\n",
      "\n",
      "description: Creators of science fiction and fantasy books, films, and TV shows present stories of possible or imaginary worlds – and their presentations can range from the realistic to the fantastical. ...\n",
      "tokens: ['creators', 'science', 'fiction', 'fantasy', 'books', 'films', 'tv', 'stories', 'imaginary', 'worlds', 'presentations', 'range', 'realistic', 'fantastical']\n",
      "\n"
     ]
    }
   ],
   "source": [
    "# Apply the tokenizer to each description through all rows\n",
    "data['tokens'] = data['description'].progress_map(lambda d: tokenizer(d, stop_words))\n",
    "\n",
    "# Let's check what the tokenization looks like for the first 3 descriptions\n",
    "for descripition, tokens in zip(data['description'].head(3), data['tokens'].head(3)):\n",
    "    print('description:', descripition)\n",
    "    print('tokens:', tokens)\n",
    "    print() "
   ]
  },
  {
   "cell_type": "code",
   "execution_count": 48,
   "metadata": {},
   "outputs": [
    {
     "name": "stdout",
     "output_type": "stream",
     "text": [
      "category : business\n",
      "top 10 keywords: [('trump', 12), ('president', 9), ('donald', 9), ('week', 5), ('economic', 4), ('year', 4), ('trade', 4), ('prime', 3), ('market', 3), ('years', 3)]\n",
      "---\n",
      "category : technology\n",
      "top 10 keywords: [('people', 73), ('money', 53), ('time', 27), ('things', 25), ('don', 22), ('hard', 22), ('years', 19), ('investing', 19), ('car', 17), ('financial', 17)]\n",
      "---\n",
      "category : entertainment\n",
      "top 10 keywords: [('year', 4), ('years', 3), ('bring', 3), ('life', 3), ('fans', 2), ('news', 2), ('well', 2), ('broke', 2), ('yesterday', 2), ('early', 2)]\n",
      "---\n",
      "category : general\n",
      "top 10 keywords: [('trump', 32), ('president', 29), ('sunday', 17), ('people', 17), ('year', 15), ('donald', 12), ('guatemala', 10), ('police', 9), ('officials', 8), ('washington', 8)]\n",
      "---\n",
      "category : science\n",
      "top 10 keywords: [('hold', 2), ('cancer', 2), ('brain', 2), ('study', 2), ('half', 2), ('dreams', 2), ('saturn', 1), ('rotating', 1), ('magnetic', 1), ('field', 1)]\n",
      "---\n",
      "category : sports\n",
      "top 10 keywords: [('cup', 15), ('league', 9), ('manchester', 8), ('united', 8), ('brazil', 8), ('england', 7), ('year', 7), ('move', 7), ('liverpool', 7), ('barcelona', 6)]\n",
      "---\n"
     ]
    }
   ],
   "source": [
    "for category in set(data['category']):\n",
    "    print('category :', category)\n",
    "    print('top 10 keywords:', word_count(category, 10))\n",
    "    print('---')"
   ]
  },
  {
   "cell_type": "markdown",
   "metadata": {},
   "source": [
    "Looking at these lists, can we formulate some hypotheses?"
   ]
  },
  {
   "cell_type": "markdown",
   "metadata": {},
   "source": [
    "### TFIDF"
   ]
  },
  {
   "cell_type": "code",
   "execution_count": 51,
   "metadata": {},
   "outputs": [
    {
     "data": {
      "text/plain": [
       "(400, 168)"
      ]
     },
     "execution_count": 51,
     "metadata": {},
     "output_type": "execute_result"
    }
   ],
   "source": [
    "# Create the TFIDF matrix, rows containing documents (descriptions) and columns containing unique terms (tokens) across the documents (descriptions)\n",
    "vectorizer = TfidfVectorizer(min_df=5, analyzer='word', ngram_range=(1, 2), stop_words='english')\n",
    "vz = vectorizer.fit_transform(list(data['tokens'].map(lambda tokens: ' '.join(tokens))))\n",
    "\n",
    "vz.shape"
   ]
  },
  {
   "cell_type": "code",
   "execution_count": 53,
   "metadata": {},
   "outputs": [],
   "source": [
    "# Create a dictionary mapping the tokens to their tfidf values\n",
    "tfidf = dict(zip(vectorizer.get_feature_names(), vectorizer.idf_))\n",
    "tfidf = pd.DataFrame(columns=['tfidf']).from_dict(dict(tfidf), orient='index')\n",
    "tfidf.columns = ['tfidf']"
   ]
  },
  {
   "cell_type": "markdown",
   "metadata": {},
   "source": [
    "#### Visualize"
   ]
  },
  {
   "cell_type": "code",
   "execution_count": 55,
   "metadata": {},
   "outputs": [
    {
     "data": {
      "image/png": "[encoded data removed]",
      "text/plain": [
       "<matplotlib.figure.Figure at 0x28c22a61cc0>"
      ]
     },
     "metadata": {},
     "output_type": "display_data"
    }
   ],
   "source": [
    "# Distribution of tfidf scores\n",
    "tfidf.tfidf.hist(bins=25);"
   ]
  },
  {
   "cell_type": "code",
   "execution_count": 58,
   "metadata": {
    "scrolled": false
   },
   "outputs": [
    {
     "data": {
      "image/png": "[encoded data removed]",
      "text/plain": [
       "<matplotlib.figure.Figure at 0x28c22bcf208>"
      ]
     },
     "metadata": {},
     "output_type": "display_data"
    }
   ],
   "source": [
    "# Display the 30 tokens that have the lowest tfidf scores\n",
    "plot_word_cloud(tfidf.sort_values(by=['tfidf'], ascending=True).head(30))"
   ]
  },
  {
   "cell_type": "markdown",
   "metadata": {},
   "source": [
    "Not surprisingly, we end up with a list of very generic words (e.g., year, week, economic, sunday, monday etc.). These are very common across many descriptions. tfidf attributes a low score to them as a penalty for not being relevant.\n",
    "\n",
    "We also notice that Trump, Donald, and president are part of this list for being mentioned in many articles."
   ]
  },
  {
   "cell_type": "code",
   "execution_count": 59,
   "metadata": {},
   "outputs": [
    {
     "data": {
      "image/png": "[encoded data removed]",
      "text/plain": [
       "<matplotlib.figure.Figure at 0x28c225dba90>"
      ]
     },
     "metadata": {},
     "output_type": "display_data"
    }
   ],
   "source": [
    "# Now display the 30 words with the highest tfidf scores\n",
    "plot_word_cloud(tfidf.sort_values(by=['tfidf'], ascending=False).head(30))"
   ]
  },
  {
   "cell_type": "markdown",
   "metadata": {},
   "source": [
    "We end up with less common words. These words naturally carry more meaning for the given description and may outline the underlying topic."
   ]
  },
  {
   "cell_type": "code",
   "execution_count": 69,
   "metadata": {},
   "outputs": [
    {
     "data": {
      "text/plain": [
       "(400, 50)"
      ]
     },
     "execution_count": 69,
     "metadata": {},
     "output_type": "execute_result"
    }
   ],
   "source": [
    "# Use SVD to reduce dimensions to 50\n",
    "svd = TruncatedSVD(n_components=50, random_state=1)\n",
    "svd_tfidf = svd.fit_transform(vz)\n",
    "\n",
    "svd_tfidf.shape"
   ]
  },
  {
   "cell_type": "code",
   "execution_count": 70,
   "metadata": {
    "scrolled": true
   },
   "outputs": [
    {
     "name": "stdout",
     "output_type": "stream",
     "text": [
      "[t-SNE] Computing 91 nearest neighbors...\n",
      "[t-SNE] Indexed 400 samples in 0.000s...\n",
      "[t-SNE] Computed neighbors for 400 samples in 0.031s...\n",
      "[t-SNE] Computed conditional probabilities for sample 400 / 400\n",
      "[t-SNE] Mean sigma: 0.000000\n",
      "[t-SNE] KL divergence after 250 iterations with early exaggeration: 66.511391\n",
      "[t-SNE] Error after 500 iterations: 0.742372\n",
      "(400, 2)\n"
     ]
    }
   ],
   "source": [
    "# Now use t-SNE to reduce dimensions to 2\n",
    "run = True\n",
    "\n",
    "if run:\n",
    " # run this (takes times)    \n",
    "    tsne_model = TSNE(n_components=2, verbose=1, random_state=1, n_iter=500)\n",
    "    tsne_tfidf = tsne_model.fit_transform(svd_tfidf)\n",
    "    print(tsne_tfidf.shape)\n",
    "    tsne_tfidf_df = pd.DataFrame(tsne_tfidf)\n",
    "    tsne_tfidf_df.columns = ['x', 'y']\n",
    "    tsne_tfidf_df['category'] = data['category']\n",
    "    tsne_tfidf_df['description'] = data['description']\n",
    "    tsne_tfidf_df.to_csv('./data/tsne_tfidf.csv', encoding='utf-8', index=False)\n",
    "else:\n",
    "    # or import the dataset directly\n",
    "    tsne_tfidf_df = pd.read_csv('./data/tsne_tfidf.csv')"
   ]
  },
  {
   "cell_type": "code",
   "execution_count": 71,
   "metadata": {},
   "outputs": [
    {
     "data": {
      "image/png": "[encoded data removed]",
      "text/plain": [
       "<matplotlib.figure.Figure at 0x28c25726240>"
      ]
     },
     "metadata": {},
     "output_type": "display_data"
    }
   ],
   "source": [
    "groups = tsne_tfidf_df.groupby('category')\n",
    "fig, ax = plt.subplots()\n",
    "for name, group in groups:\n",
    "    ax.plot(group.x, group.y, marker='o', linestyle='', label=name)\n",
    "ax.legend()\n",
    "plt.tight_layout()\n",
    "plt.show()"
   ]
  },
  {
   "cell_type": "markdown",
   "metadata": {},
   "source": [
    "We're having two float numbers per discription. This is not interpretable at first sight. What we need to do is find a way to display these points on a plot and also attribute the corresponding description to each point."
   ]
  },
  {
   "cell_type": "code",
   "execution_count": 77,
   "metadata": {},
   "outputs": [
    {
     "data": {
      "text/html": [
       "\n",
       "    <div class=\"bk-root\">\n",
       "        <a href=\"https://bokeh.pydata.org\" target=\"_blank\" class=\"bk-logo bk-logo-small bk-logo-notebook\"></a>\n",
       "        <span id=\"39503a2f-52ed-4034-9b5b-b5b1f06d0e72\">Loading BokehJS ...</span>\n",
       "    </div>"
      ]
     },
     "metadata": {},
     "output_type": "display_data"
    },
    {
     "data": {
      "application/javascript": [
       "\n",
       "(function(root) {\n",
       "  function now() {\n",
       "    return new Date();\n",
       "  }\n",
       "\n",
       "  var force = true;\n",
       "\n",
       "  if (typeof (root._bokeh_onload_callbacks) === \"undefined\" || force === true) {\n",
       "    root._bokeh_onload_callbacks = [];\n",
       "    root._bokeh_is_loading = undefined;\n",
       "  }\n",
       "\n",
       "  var JS_MIME_TYPE = 'application/javascript';\n",
       "  var HTML_MIME_TYPE = 'text/html';\n",
       "  var EXEC_MIME_TYPE = 'application/vnd.bokehjs_exec.v0+json';\n",
       "  var CLASS_NAME = 'output_bokeh rendered_html';\n",
       "\n",
       "  /**\n",
       "   * Render data to the DOM node\n",
       "   */\n",
       "  function render(props, node) {\n",
       "    var script = document.createElement(\"script\");\n",
       "    node.appendChild(script);\n",
       "  }\n",
       "\n",
       "  /**\n",
       "   * Handle when an output is cleared or removed\n",
       "   */\n",
       "  function handleClearOutput(event, handle) {\n",
       "    var cell = handle.cell;\n",
       "\n",
       "    var id = cell.output_area._bokeh_element_id;\n",
       "    var server_id = cell.output_area._bokeh_server_id;\n",
       "    // Clean up Bokeh references\n",
       "    if (id !== undefined) {\n",
       "      Bokeh.index[id].model.document.clear();\n",
       "      delete Bokeh.index[id];\n",
       "    }\n",
       "\n",
       "    if (server_id !== undefined) {\n",
       "      // Clean up Bokeh references\n",
       "      var cmd = \"from bokeh.io.state import curstate; print(curstate().uuid_to_server['\" + server_id + \"'].get_sessions()[0].document.roots[0]._id)\";\n",
       "      cell.notebook.kernel.execute(cmd, {\n",
       "        iopub: {\n",
       "          output: function(msg) {\n",
       "            var element_id = msg.content.text.trim();\n",
       "            Bokeh.index[element_id].model.document.clear();\n",
       "            delete Bokeh.index[element_id];\n",
       "          }\n",
       "        }\n",
       "      });\n",
       "      // Destroy server and session\n",
       "      var cmd = \"import bokeh.io.notebook as ion; ion.destroy_server('\" + server_id + \"')\";\n",
       "      cell.notebook.kernel.execute(cmd);\n",
       "    }\n",
       "  }\n",
       "\n",
       "  /**\n",
       "   * Handle when a new output is added\n",
       "   */\n",
       "  function handleAddOutput(event, handle) {\n",
       "    var output_area = handle.output_area;\n",
       "    var output = handle.output;\n",
       "\n",
       "    // limit handleAddOutput to display_data with EXEC_MIME_TYPE content only\n",
       "    if ((output.output_type != \"display_data\") || (!output.data.hasOwnProperty(EXEC_MIME_TYPE))) {\n",
       "      return\n",
       "    }\n",
       "\n",
       "    var toinsert = output_area.element.find(\".\" + CLASS_NAME.split(' ')[0]);\n",
       "\n",
       "    if (output.metadata[EXEC_MIME_TYPE][\"id\"] !== undefined) {\n",
       "      toinsert[toinsert.length - 1].firstChild.textContent = output.data[JS_MIME_TYPE];\n",
       "      // store reference to embed id on output_area\n",
       "      output_area._bokeh_element_id = output.metadata[EXEC_MIME_TYPE][\"id\"];\n",
       "    }\n",
       "    if (output.metadata[EXEC_MIME_TYPE][\"server_id\"] !== undefined) {\n",
       "      var bk_div = document.createElement(\"div\");\n",
       "      bk_div.innerHTML = output.data[HTML_MIME_TYPE];\n",
       "      var script_attrs = bk_div.children[0].attributes;\n",
       "      for (var i = 0; i < script_attrs.length; i++) {\n",
       "        toinsert[toinsert.length - 1].firstChild.setAttribute(script_attrs[i].name, script_attrs[i].value);\n",
       "      }\n",
       "      // store reference to server id on output_area\n",
       "      output_area._bokeh_server_id = output.metadata[EXEC_MIME_TYPE][\"server_id\"];\n",
       "    }\n",
       "  }\n",
       "\n",
       "  function register_renderer(events, OutputArea) {\n",
       "\n",
       "    function append_mime(data, metadata, element) {\n",
       "      // create a DOM node to render to\n",
       "      var toinsert = this.create_output_subarea(\n",
       "        metadata,\n",
       "        CLASS_NAME,\n",
       "        EXEC_MIME_TYPE\n",
       "      );\n",
       "      this.keyboard_manager.register_events(toinsert);\n",
       "      // Render to node\n",
       "      var props = {data: data, metadata: metadata[EXEC_MIME_TYPE]};\n",
       "      render(props, toinsert[toinsert.length - 1]);\n",
       "      element.append(toinsert);\n",
       "      return toinsert\n",
       "    }\n",
       "\n",
       "    /* Handle when an output is cleared or removed */\n",
       "    events.on('clear_output.CodeCell', handleClearOutput);\n",
       "    events.on('delete.Cell', handleClearOutput);\n",
       "\n",
       "    /* Handle when a new output is added */\n",
       "    events.on('output_added.OutputArea', handleAddOutput);\n",
       "\n",
       "    /**\n",
       "     * Register the mime type and append_mime function with output_area\n",
       "     */\n",
       "    OutputArea.prototype.register_mime_type(EXEC_MIME_TYPE, append_mime, {\n",
       "      /* Is output safe? */\n",
       "      safe: true,\n",
       "      /* Index of renderer in `output_area.display_order` */\n",
       "      index: 0\n",
       "    });\n",
       "  }\n",
       "\n",
       "  // register the mime type if in Jupyter Notebook environment and previously unregistered\n",
       "  if (root.Jupyter !== undefined) {\n",
       "    var events = require('base/js/events');\n",
       "    var OutputArea = require('notebook/js/outputarea').OutputArea;\n",
       "\n",
       "    if (OutputArea.prototype.mime_types().indexOf(EXEC_MIME_TYPE) == -1) {\n",
       "      register_renderer(events, OutputArea);\n",
       "    }\n",
       "  }\n",
       "\n",
       "  \n",
       "  if (typeof (root._bokeh_timeout) === \"undefined\" || force === true) {\n",
       "    root._bokeh_timeout = Date.now() + 5000;\n",
       "    root._bokeh_failed_load = false;\n",
       "  }\n",
       "\n",
       "  var NB_LOAD_WARNING = {'data': {'text/html':\n",
       "     \"<div style='background-color: #fdd'>\\n\"+\n",
       "     \"<p>\\n\"+\n",
       "     \"BokehJS does not appear to have successfully loaded. If loading BokehJS from CDN, this \\n\"+\n",
       "     \"may be due to a slow or bad network connection. Possible fixes:\\n\"+\n",
       "     \"</p>\\n\"+\n",
       "     \"<ul>\\n\"+\n",
       "     \"<li>re-rerun `output_notebook()` to attempt to load from CDN again, or</li>\\n\"+\n",
       "     \"<li>use INLINE resources instead, as so:</li>\\n\"+\n",
       "     \"</ul>\\n\"+\n",
       "     \"<code>\\n\"+\n",
       "     \"from bokeh.resources import INLINE\\n\"+\n",
       "     \"output_notebook(resources=INLINE)\\n\"+\n",
       "     \"</code>\\n\"+\n",
       "     \"</div>\"}};\n",
       "\n",
       "  function display_loaded() {\n",
       "    var el = document.getElementById(\"39503a2f-52ed-4034-9b5b-b5b1f06d0e72\");\n",
       "    if (el != null) {\n",
       "      el.textContent = \"BokehJS is loading...\";\n",
       "    }\n",
       "    if (root.Bokeh !== undefined) {\n",
       "      if (el != null) {\n",
       "        el.textContent = \"BokehJS \" + root.Bokeh.version + \" successfully loaded.\";\n",
       "      }\n",
       "    } else if (Date.now() < root._bokeh_timeout) {\n",
       "      setTimeout(display_loaded, 100)\n",
       "    }\n",
       "  }\n",
       "\n",
       "\n",
       "  function run_callbacks() {\n",
       "    try {\n",
       "      root._bokeh_onload_callbacks.forEach(function(callback) { callback() });\n",
       "    }\n",
       "    finally {\n",
       "      delete root._bokeh_onload_callbacks\n",
       "    }\n",
       "    console.info(\"Bokeh: all callbacks have finished\");\n",
       "  }\n",
       "\n",
       "  function load_libs(js_urls, callback) {\n",
       "    root._bokeh_onload_callbacks.push(callback);\n",
       "    if (root._bokeh_is_loading > 0) {\n",
       "      console.log(\"Bokeh: BokehJS is being loaded, scheduling callback at\", now());\n",
       "      return null;\n",
       "    }\n",
       "    if (js_urls == null || js_urls.length === 0) {\n",
       "      run_callbacks();\n",
       "      return null;\n",
       "    }\n",
       "    console.log(\"Bokeh: BokehJS not loaded, scheduling load and callback at\", now());\n",
       "    root._bokeh_is_loading = js_urls.length;\n",
       "    for (var i = 0; i < js_urls.length; i++) {\n",
       "      var url = js_urls[i];\n",
       "      var s = document.createElement('script');\n",
       "      s.src = url;\n",
       "      s.async = false;\n",
       "      s.onreadystatechange = s.onload = function() {\n",
       "        root._bokeh_is_loading--;\n",
       "        if (root._bokeh_is_loading === 0) {\n",
       "          console.log(\"Bokeh: all BokehJS libraries loaded\");\n",
       "          run_callbacks()\n",
       "        }\n",
       "      };\n",
       "      s.onerror = function() {\n",
       "        console.warn(\"failed to load library \" + url);\n",
       "      };\n",
       "      console.log(\"Bokeh: injecting script tag for BokehJS library: \", url);\n",
       "      document.getElementsByTagName(\"head\")[0].appendChild(s);\n",
       "    }\n",
       "  };var element = document.getElementById(\"39503a2f-52ed-4034-9b5b-b5b1f06d0e72\");\n",
       "  if (element == null) {\n",
       "    console.log(\"Bokeh: ERROR: autoload.js configured with elementid '39503a2f-52ed-4034-9b5b-b5b1f06d0e72' but no matching script tag was found. \")\n",
       "    return false;\n",
       "  }\n",
       "\n",
       "  var js_urls = [\"https://cdn.pydata.org/bokeh/release/bokeh-0.12.16.min.js\", \"https://cdn.pydata.org/bokeh/release/bokeh-widgets-0.12.16.min.js\", \"https://cdn.pydata.org/bokeh/release/bokeh-tables-0.12.16.min.js\", \"https://cdn.pydata.org/bokeh/release/bokeh-gl-0.12.16.min.js\"];\n",
       "\n",
       "  var inline_js = [\n",
       "    function(Bokeh) {\n",
       "      Bokeh.set_log_level(\"info\");\n",
       "    },\n",
       "    \n",
       "    function(Bokeh) {\n",
       "      \n",
       "    },\n",
       "    function(Bokeh) {\n",
       "      console.log(\"Bokeh: injecting CSS: https://cdn.pydata.org/bokeh/release/bokeh-0.12.16.min.css\");\n",
       "      Bokeh.embed.inject_css(\"https://cdn.pydata.org/bokeh/release/bokeh-0.12.16.min.css\");\n",
       "      console.log(\"Bokeh: injecting CSS: https://cdn.pydata.org/bokeh/release/bokeh-widgets-0.12.16.min.css\");\n",
       "      Bokeh.embed.inject_css(\"https://cdn.pydata.org/bokeh/release/bokeh-widgets-0.12.16.min.css\");\n",
       "      console.log(\"Bokeh: injecting CSS: https://cdn.pydata.org/bokeh/release/bokeh-tables-0.12.16.min.css\");\n",
       "      Bokeh.embed.inject_css(\"https://cdn.pydata.org/bokeh/release/bokeh-tables-0.12.16.min.css\");\n",
       "    }\n",
       "  ];\n",
       "\n",
       "  function run_inline_js() {\n",
       "    \n",
       "    if ((root.Bokeh !== undefined) || (force === true)) {\n",
       "      for (var i = 0; i < inline_js.length; i++) {\n",
       "        inline_js[i].call(root, root.Bokeh);\n",
       "      }if (force === true) {\n",
       "        display_loaded();\n",
       "      }} else if (Date.now() < root._bokeh_timeout) {\n",
       "      setTimeout(run_inline_js, 100);\n",
       "    } else if (!root._bokeh_failed_load) {\n",
       "      console.log(\"Bokeh: BokehJS failed to load within specified timeout.\");\n",
       "      root._bokeh_failed_load = true;\n",
       "    } else if (force !== true) {\n",
       "      var cell = $(document.getElementById(\"39503a2f-52ed-4034-9b5b-b5b1f06d0e72\")).parents('.cell').data().cell;\n",
       "      cell.output_area.append_execute_result(NB_LOAD_WARNING)\n",
       "    }\n",
       "\n",
       "  }\n",
       "\n",
       "  if (root._bokeh_is_loading === 0) {\n",
       "    console.log(\"Bokeh: BokehJS loaded, going straight to plotting\");\n",
       "    run_inline_js();\n",
       "  } else {\n",
       "    load_libs(js_urls, function() {\n",
       "      console.log(\"Bokeh: BokehJS plotting callback run at\", now());\n",
       "      run_inline_js();\n",
       "    });\n",
       "  }\n",
       "}(window));"
      ],
      "application/vnd.bokehjs_load.v0+json": "\n(function(root) {\n  function now() {\n    return new Date();\n  }\n\n  var force = true;\n\n  if (typeof (root._bokeh_onload_callbacks) === \"undefined\" || force === true) {\n    root._bokeh_onload_callbacks = [];\n    root._bokeh_is_loading = undefined;\n  }\n\n  \n\n  \n  if (typeof (root._bokeh_timeout) === \"undefined\" || force === true) {\n    root._bokeh_timeout = Date.now() + 5000;\n    root._bokeh_failed_load = false;\n  }\n\n  var NB_LOAD_WARNING = {'data': {'text/html':\n     \"<div style='background-color: #fdd'>\\n\"+\n     \"<p>\\n\"+\n     \"BokehJS does not appear to have successfully loaded. If loading BokehJS from CDN, this \\n\"+\n     \"may be due to a slow or bad network connection. Possible fixes:\\n\"+\n     \"</p>\\n\"+\n     \"<ul>\\n\"+\n     \"<li>re-rerun `output_notebook()` to attempt to load from CDN again, or</li>\\n\"+\n     \"<li>use INLINE resources instead, as so:</li>\\n\"+\n     \"</ul>\\n\"+\n     \"<code>\\n\"+\n     \"from bokeh.resources import INLINE\\n\"+\n     \"output_notebook(resources=INLINE)\\n\"+\n     \"</code>\\n\"+\n     \"</div>\"}};\n\n  function display_loaded() {\n    var el = document.getElementById(\"39503a2f-52ed-4034-9b5b-b5b1f06d0e72\");\n    if (el != null) {\n      el.textContent = \"BokehJS is loading...\";\n    }\n    if (root.Bokeh !== undefined) {\n      if (el != null) {\n        el.textContent = \"BokehJS \" + root.Bokeh.version + \" successfully loaded.\";\n      }\n    } else if (Date.now() < root._bokeh_timeout) {\n      setTimeout(display_loaded, 100)\n    }\n  }\n\n\n  function run_callbacks() {\n    try {\n      root._bokeh_onload_callbacks.forEach(function(callback) { callback() });\n    }\n    finally {\n      delete root._bokeh_onload_callbacks\n    }\n    console.info(\"Bokeh: all callbacks have finished\");\n  }\n\n  function load_libs(js_urls, callback) {\n    root._bokeh_onload_callbacks.push(callback);\n    if (root._bokeh_is_loading > 0) {\n      console.log(\"Bokeh: BokehJS is being loaded, scheduling callback at\", now());\n      return null;\n    }\n    if (js_urls == null || js_urls.length === 0) {\n      run_callbacks();\n      return null;\n    }\n    console.log(\"Bokeh: BokehJS not loaded, scheduling load and callback at\", now());\n    root._bokeh_is_loading = js_urls.length;\n    for (var i = 0; i < js_urls.length; i++) {\n      var url = js_urls[i];\n      var s = document.createElement('script');\n      s.src = url;\n      s.async = false;\n      s.onreadystatechange = s.onload = function() {\n        root._bokeh_is_loading--;\n        if (root._bokeh_is_loading === 0) {\n          console.log(\"Bokeh: all BokehJS libraries loaded\");\n          run_callbacks()\n        }\n      };\n      s.onerror = function() {\n        console.warn(\"failed to load library \" + url);\n      };\n      console.log(\"Bokeh: injecting script tag for BokehJS library: \", url);\n      document.getElementsByTagName(\"head\")[0].appendChild(s);\n    }\n  };var element = document.getElementById(\"39503a2f-52ed-4034-9b5b-b5b1f06d0e72\");\n  if (element == null) {\n    console.log(\"Bokeh: ERROR: autoload.js configured with elementid '39503a2f-52ed-4034-9b5b-b5b1f06d0e72' but no matching script tag was found. \")\n    return false;\n  }\n\n  var js_urls = [\"https://cdn.pydata.org/bokeh/release/bokeh-0.12.16.min.js\", \"https://cdn.pydata.org/bokeh/release/bokeh-widgets-0.12.16.min.js\", \"https://cdn.pydata.org/bokeh/release/bokeh-tables-0.12.16.min.js\", \"https://cdn.pydata.org/bokeh/release/bokeh-gl-0.12.16.min.js\"];\n\n  var inline_js = [\n    function(Bokeh) {\n      Bokeh.set_log_level(\"info\");\n    },\n    \n    function(Bokeh) {\n      \n    },\n    function(Bokeh) {\n      console.log(\"Bokeh: injecting CSS: https://cdn.pydata.org/bokeh/release/bokeh-0.12.16.min.css\");\n      Bokeh.embed.inject_css(\"https://cdn.pydata.org/bokeh/release/bokeh-0.12.16.min.css\");\n      console.log(\"Bokeh: injecting CSS: https://cdn.pydata.org/bokeh/release/bokeh-widgets-0.12.16.min.css\");\n      Bokeh.embed.inject_css(\"https://cdn.pydata.org/bokeh/release/bokeh-widgets-0.12.16.min.css\");\n      console.log(\"Bokeh: injecting CSS: https://cdn.pydata.org/bokeh/release/bokeh-tables-0.12.16.min.css\");\n      Bokeh.embed.inject_css(\"https://cdn.pydata.org/bokeh/release/bokeh-tables-0.12.16.min.css\");\n    }\n  ];\n\n  function run_inline_js() {\n    \n    if ((root.Bokeh !== undefined) || (force === true)) {\n      for (var i = 0; i < inline_js.length; i++) {\n        inline_js[i].call(root, root.Bokeh);\n      }if (force === true) {\n        display_loaded();\n      }} else if (Date.now() < root._bokeh_timeout) {\n      setTimeout(run_inline_js, 100);\n    } else if (!root._bokeh_failed_load) {\n      console.log(\"Bokeh: BokehJS failed to load within specified timeout.\");\n      root._bokeh_failed_load = true;\n    } else if (force !== true) {\n      var cell = $(document.getElementById(\"39503a2f-52ed-4034-9b5b-b5b1f06d0e72\")).parents('.cell').data().cell;\n      cell.output_area.append_execute_result(NB_LOAD_WARNING)\n    }\n\n  }\n\n  if (root._bokeh_is_loading === 0) {\n    console.log(\"Bokeh: BokehJS loaded, going straight to plotting\");\n    run_inline_js();\n  } else {\n    load_libs(js_urls, function() {\n      console.log(\"Bokeh: BokehJS plotting callback run at\", now());\n      run_inline_js();\n    });\n  }\n}(window));"
     },
     "metadata": {},
     "output_type": "display_data"
    },
    {
     "data": {
      "text/html": [
       "\n",
       "<div class=\"bk-root\">\n",
       "    <div class=\"bk-plotdiv\" id=\"64fd5f9f-fb80-43af-a374-608d9e1ddec6\"></div>\n",
       "</div>"
      ]
     },
     "metadata": {},
     "output_type": "display_data"
    },
    {
     "data": {
      "application/javascript": [
       "(function(root) {\n",
       "  function embed_document(root) {\n",
       "    \n",
       "  var docs_json = {\"855771db-981f-44ab-bc99-ba12746b32cc\":{\"roots\":{\"references\":[{\"attributes\":{},\"id\":\"b67be597-01f2-43e9-923a-1733f47253e0\",\"type\":\"UnionRenderers\"},{\"attributes\":{},\"id\":\"fe6b0424-d1b4-478b-86d0-a5a62e0dcfd4\",\"type\":\"LinearScale\"},{\"attributes\":{\"active_drag\":\"auto\",\"active_inspect\":\"auto\",\"active_scroll\":\"auto\",\"active_tap\":\"auto\",\"tools\":[{\"id\":\"9bcfe6f0-5569-414d-9d13-16e54c61197a\",\"type\":\"PanTool\"},{\"id\":\"0845b17f-6a55-4f62-8471-547f9344a106\",\"type\":\"WheelZoomTool\"},{\"id\":\"19867a8a-9f74-4818-9478-55f6ff438ea4\",\"type\":\"BoxZoomTool\"},{\"id\":\"b96a6a44-0503-49d2-8e0e-0c9f5d5321ba\",\"type\":\"ResetTool\"},{\"id\":\"286d6e5f-3e1d-426e-b85a-5136cc342dbe\",\"type\":\"HoverTool\"},{\"id\":\"6af8902a-f7dc-4088-959e-6923b588aaf0\",\"type\":\"SaveTool\"}]},\"id\":\"4a0e9194-6543-4bb6-bf8e-a751654dad8d\",\"type\":\"Toolbar\"},{\"attributes\":{},\"id\":\"6af8902a-f7dc-4088-959e-6923b588aaf0\",\"type\":\"SaveTool\"},{\"attributes\":{\"source\":{\"id\":\"80f40d6a-b2f5-49e5-823f-7a37522801b9\",\"type\":\"ColumnDataSource\"}},\"id\":\"3d52f548-f530-4b37-a60d-a1bf91911195\",\"type\":\"CDSView\"},{\"attributes\":{},\"id\":\"c71ba281-e8c7-46ea-b361-20d538291683\",\"type\":\"Selection\"},{\"attributes\":{\"label\":{\"field\":\"category\"},\"renderers\":[{\"id\":\"f50cd338-bfef-4957-bd38-71976134da2c\",\"type\":\"GlyphRenderer\"}]},\"id\":\"7e876e7e-e6b2-4bee-bd92-c7661bb87d6e\",\"type\":\"LegendItem\"},{\"attributes\":{\"callback\":null,\"renderers\":\"auto\",\"tooltips\":[[\"description\",\"@description\"],[\"category\",\"@category\"]]},\"id\":\"286d6e5f-3e1d-426e-b85a-5136cc342dbe\",\"type\":\"HoverTool\"},{\"attributes\":{},\"id\":\"b96a6a44-0503-49d2-8e0e-0c9f5d5321ba\",\"type\":\"ResetTool\"},{\"attributes\":{\"fill_alpha\":{\"value\":0.1},\"fill_color\":{\"value\":\"#1f77b4\"},\"line_alpha\":{\"value\":0.1},\"line_color\":{\"value\":\"#1f77b4\"},\"x\":{\"field\":\"x\"},\"y\":{\"field\":\"y\"}},\"id\":\"478dc6aa-e9c6-4dba-a491-834e2c982695\",\"type\":\"Circle\"},{\"attributes\":{\"overlay\":{\"id\":\"f47c96c3-15b7-45e1-9e68-f5999fb66120\",\"type\":\"BoxAnnotation\"}},\"id\":\"19867a8a-9f74-4818-9478-55f6ff438ea4\",\"type\":\"BoxZoomTool\"},{\"attributes\":{},\"id\":\"0eed9045-be1a-473e-9ea8-69af6e0c2729\",\"type\":\"LinearScale\"},{\"attributes\":{\"items\":[{\"id\":\"7e876e7e-e6b2-4bee-bd92-c7661bb87d6e\",\"type\":\"LegendItem\"}],\"plot\":{\"id\":\"35bea9f8-f2a0-4aa5-b3c8-7d873b1c2073\",\"subtype\":\"Figure\",\"type\":\"Plot\"}},\"id\":\"ef2a8f75-0ecf-4d3d-b639-2a9f9a2269f7\",\"type\":\"Legend\"},{\"attributes\":{\"plot\":null,\"text\":\"tf-idf clustering of the news\"},\"id\":\"553923ff-41b7-460a-a9dc-97d08e9c5c38\",\"type\":\"Title\"},{\"attributes\":{\"min_border\":1,\"plot_width\":700,\"renderers\":[{\"id\":\"f47c96c3-15b7-45e1-9e68-f5999fb66120\",\"type\":\"BoxAnnotation\"},{\"id\":\"ef2a8f75-0ecf-4d3d-b639-2a9f9a2269f7\",\"type\":\"Legend\"},{\"id\":\"f50cd338-bfef-4957-bd38-71976134da2c\",\"type\":\"GlyphRenderer\"}],\"title\":{\"id\":\"553923ff-41b7-460a-a9dc-97d08e9c5c38\",\"type\":\"Title\"},\"toolbar\":{\"id\":\"4a0e9194-6543-4bb6-bf8e-a751654dad8d\",\"type\":\"Toolbar\"},\"x_range\":{\"id\":\"7e7559b8-e5ba-4689-922d-33e93d238f81\",\"type\":\"DataRange1d\"},\"x_scale\":{\"id\":\"0eed9045-be1a-473e-9ea8-69af6e0c2729\",\"type\":\"LinearScale\"},\"y_range\":{\"id\":\"52c82196-4325-4c30-b1cb-3328eaca6e36\",\"type\":\"DataRange1d\"},\"y_scale\":{\"id\":\"fe6b0424-d1b4-478b-86d0-a5a62e0dcfd4\",\"type\":\"LinearScale\"}},\"id\":\"35bea9f8-f2a0-4aa5-b3c8-7d873b1c2073\",\"subtype\":\"Figure\",\"type\":\"Plot\"},{\"attributes\":{\"data_source\":{\"id\":\"80f40d6a-b2f5-49e5-823f-7a37522801b9\",\"type\":\"ColumnDataSource\"},\"glyph\":{\"id\":\"746a6a34-d24b-48d8-9587-31fbedf9d67c\",\"type\":\"Circle\"},\"hover_glyph\":null,\"muted_glyph\":null,\"nonselection_glyph\":{\"id\":\"478dc6aa-e9c6-4dba-a491-834e2c982695\",\"type\":\"Circle\"},\"selection_glyph\":null,\"view\":{\"id\":\"3d52f548-f530-4b37-a60d-a1bf91911195\",\"type\":\"CDSView\"}},\"id\":\"f50cd338-bfef-4957-bd38-71976134da2c\",\"type\":\"GlyphRenderer\"},{\"attributes\":{},\"id\":\"0845b17f-6a55-4f62-8471-547f9344a106\",\"type\":\"WheelZoomTool\"},{\"attributes\":{\"fill_color\":{\"field\":\"category\",\"transform\":{\"id\":\"23d645b4-4e11-4b69-91bf-51c172eff18a\",\"type\":\"CategoricalColorMapper\"}},\"line_color\":{\"field\":\"category\",\"transform\":{\"id\":\"23d645b4-4e11-4b69-91bf-51c172eff18a\",\"type\":\"CategoricalColorMapper\"}},\"x\":{\"field\":\"x\"},\"y\":{\"field\":\"y\"}},\"id\":\"746a6a34-d24b-48d8-9587-31fbedf9d67c\",\"type\":\"Circle\"},{\"attributes\":{\"callback\":null},\"id\":\"7e7559b8-e5ba-4689-922d-33e93d238f81\",\"type\":\"DataRange1d\"},{\"attributes\":{\"bottom_units\":\"screen\",\"fill_alpha\":{\"value\":0.5},\"fill_color\":{\"value\":\"lightgrey\"},\"left_units\":\"screen\",\"level\":\"overlay\",\"line_alpha\":{\"value\":1.0},\"line_color\":{\"value\":\"black\"},\"line_dash\":[4,4],\"line_width\":{\"value\":2},\"plot\":null,\"render_mode\":\"css\",\"right_units\":\"screen\",\"top_units\":\"screen\"},\"id\":\"f47c96c3-15b7-45e1-9e68-f5999fb66120\",\"type\":\"BoxAnnotation\"},{\"attributes\":{},\"id\":\"9bcfe6f0-5569-414d-9d13-16e54c61197a\",\"type\":\"PanTool\"},{\"attributes\":{\"callback\":null},\"id\":\"52c82196-4325-4c30-b1cb-3328eaca6e36\",\"type\":\"DataRange1d\"},{\"attributes\":{\"callback\":null,\"data\":{\"category\":[\"technology\",\"technology\",\"technology\",\"sports\",\"sports\",\"technology\",\"general\",\"general\",\"general\",\"general\",\"sports\",\"general\",\"technology\",\"entertainment\",\"technology\",\"general\",\"entertainment\",\"entertainment\",\"general\",\"technology\",\"general\",\"sports\",\"entertainment\",\"sports\",\"entertainment\",\"technology\",\"entertainment\",\"science\",\"general\",\"general\",\"entertainment\",\"general\",\"general\",\"entertainment\",\"entertainment\",\"technology\",\"general\",\"general\",\"business\",\"general\",\"business\",\"technology\",\"general\",\"general\",\"sports\",\"general\",\"business\",\"business\",\"sports\",\"technology\",\"entertainment\",\"general\",\"technology\",\"general\",\"technology\",\"general\",\"business\",\"sports\",\"business\",\"technology\",\"entertainment\",\"general\",\"sports\",\"general\",\"business\",\"general\",\"general\",\"sports\",\"business\",\"science\",\"sports\",\"general\",\"business\",\"business\",\"general\",\"technology\",\"general\",\"general\",\"technology\",\"general\",\"general\",\"technology\",\"general\",\"sports\",\"entertainment\",\"sports\",\"entertainment\",\"entertainment\",\"sports\",\"business\",\"entertainment\",\"general\",\"entertainment\",\"general\",\"technology\",\"general\",\"sports\",\"entertainment\",\"general\",\"general\",\"general\",\"general\",\"business\",\"business\",\"general\",\"technology\",\"sports\",\"science\",\"general\",\"business\",\"entertainment\",\"business\",\"business\",\"technology\",\"general\",\"general\",\"technology\",\"sports\",\"business\",\"sports\",\"entertainment\",\"general\",\"general\",\"general\",\"entertainment\",\"general\",\"sports\",\"business\",\"business\",\"sports\",\"technology\",\"general\",\"sports\",\"science\",\"sports\",\"entertainment\",\"technology\",\"sports\",\"general\",\"business\",\"general\",\"business\",\"business\",\"general\",\"business\",\"general\",\"general\",\"general\",\"sports\",\"business\",\"sports\",\"technology\",\"general\",\"business\",\"general\",\"sports\",\"entertainment\",\"general\",\"general\",\"entertainment\",\"general\",\"business\",\"general\",\"entertainment\",\"sports\",\"sports\",\"general\",\"technology\",\"general\",\"general\",\"sports\",\"sports\",\"entertainment\",\"business\",\"entertainment\",\"general\",\"entertainment\",\"technology\",\"general\",\"general\",\"general\",\"general\",\"general\",\"general\",\"technology\",\"business\",\"general\",\"general\",\"entertainment\",\"technology\",\"entertainment\",\"entertainment\",\"technology\",\"business\",\"sports\",\"business\",\"general\",\"general\",\"technology\",\"sports\",\"general\",\"entertainment\",\"general\",\"business\",\"general\",\"sports\",\"entertainment\",\"entertainment\",\"business\",\"sports\",\"general\",\"technology\",\"technology\",\"general\",\"general\",\"general\",\"entertainment\",\"general\",\"business\",\"sports\",\"general\",\"general\",\"technology\",\"general\",\"general\",\"general\",\"technology\",\"sports\",\"technology\",\"technology\",\"general\",\"science\",\"entertainment\",\"technology\",\"entertainment\",\"business\",\"business\",\"general\",\"entertainment\",\"general\",\"technology\",\"general\",\"sports\",\"business\",\"general\",\"general\",\"general\",\"general\",\"general\",\"business\",\"general\",\"general\",\"technology\",\"sports\",\"general\",\"general\",\"general\",\"general\",\"general\",\"business\",\"general\",\"sports\",\"business\",\"sports\",\"general\",\"general\",\"general\",\"general\",\"entertainment\",\"entertainment\",\"sports\",\"general\",\"general\",\"science\",\"sports\",\"technology\",\"general\",\"technology\",\"technology\",\"sports\",\"sports\",\"general\",\"business\",\"general\",\"general\",\"business\",\"general\",\"business\",\"technology\",\"sports\",\"sports\",\"general\",\"entertainment\",\"sports\",\"business\",\"general\",\"entertainment\",\"entertainment\",\"general\",\"entertainment\",\"general\",\"general\",\"sports\",\"business\",\"business\",\"business\",\"entertainment\",\"general\",\"technology\",\"science\",\"entertainment\",\"entertainment\",\"general\",\"general\",\"business\",\"science\",\"entertainment\",\"business\",\"technology\",\"general\",\"general\",\"general\",\"technology\",\"sports\",\"business\",\"entertainment\",\"business\",\"general\",\"general\",\"entertainment\",\"sports\",\"general\",\"business\",\"general\",\"technology\",\"technology\",\"general\",\"general\",\"general\",\"entertainment\",\"technology\",\"technology\",\"general\",\"business\",\"entertainment\",\"general\",\"entertainment\",\"sports\",\"general\",\"general\",\"general\",\"technology\",\"sports\",\"entertainment\",\"entertainment\",\"general\",\"general\",\"general\",\"sports\",\"sports\",\"entertainment\",\"general\",\"general\",\"general\",\"entertainment\",\"sports\",\"general\",\"technology\",\"general\",\"entertainment\",\"business\",\"technology\",\"technology\",\"technology\",\"entertainment\",\"general\",\"business\",\"general\",\"business\",\"sports\",\"sports\",\"general\",\"general\",\"sports\",\"entertainment\",\"general\",\"sports\",\"technology\",\"business\",\"general\",\"general\",\"science\",\"general\",\"general\",\"general\",\"general\",\"general\",\"general\",\"general\",\"general\"],\"description\":[\"Podcasts are television for the earbud generation. And although many podcasters make money, typically through sponsorships, the podcasting industry (such as it is) hasn\\u2019t received much in the way of venture funding -- until quite recently.\",\"The shortest distance between two points is a straight line. And if you\\u2019re looking to break in or advance a career in IT network systems, here\\u2019s a straight line scenario for you. ...\",\"Creators of science fiction and fantasy books, films, and TV shows present stories of possible or imaginary worlds \\u2013 and their presentations can range from the realistic to the fantastical. ...\",\"Lorenzo Insigne is set to be the captain on his birthday when Italy face the Netherlands in tomorrow&rsquo;s friendly.\",\"The 49ers boasted the league's most efficient offense with Jimmy Garoppolo starting. Teammate Cassius Marsh, who practiced against Jimmy G in New England, is the latest to testify that the small sample size is just the beginning.\",\"'Detroit: Become Human' is an an approximation of Motown, not a recreation.\",\"One of the most stable countries in Middle East is seeing growing frustration over tax increases and calls for the government to resign.\",\"Divisions and reversals on trade under President Trump have flummoxed U.S. allies and rivals, who are courting whichever advisers they think will listen.\",\"Former President Bill Clinton said that impeachment hearings would have begun if a Democratic president, instead of Donald Trump, were in power and the Russia investigation was as far along as it is now.\",\"President Donald Trump, under pressure from special counsel Robert Mueller's investigation into Russia's role in the 2016 U.S. election, probably has the power to pardon himself but does not plan to do so, his attorney Rudy Giuliani said on Sunday.\",\"Drew Brees turned 39 in January, but if you looked at his statistics, you wouldn't know it. Adrian Peterson couldn't believe it either when he spent a training camp alongside the All-Pro quarterback.\",\"There are some important clues about why everything is so quiet\",\"When Consumer Reports recently found that the braking distance on the Tesla Model 3 was worse than that of a Ford F-150, CEO Elon Musk took the criticism and found a solution, and shipped an over-the-air update. Experts say that it\\u2019s a sign of a larger problem with Tesla\\u2019s quality control.\",\"The developer said that there will be no noticeable change in operations for fans of Destiny 2. NetEase has earned a seat on the board of directors.\",\"Fen Zhao Contributor Share on Twitter Fen Zhao is an early stage investor at Alpha Edison who previously developed public private partnerships at the National Science Foundation in the areas of data science and cybersecurity. For most people, the thought of a smart device sharing their intimate con\\u2026\",\"Imgur: The magic of the Internet\",\"Fallout 76 and Rage 2 for sure, but maybe some Doom, Wolfenstein and Dishonored news as well. If there are any other rumors, we haven\\u2019t heard them.\",\"Creators have put in more than five years of work on New Vegas prequel\",\"One awe-inspiring look from every f\\u00eate that mattered.\",\"New reports out of Redmond this weekend have Microsoft set to purchase the popular coding site\\u00a0GitHub. Bloomberg is citing \\u201cpeople familiar with the matter,\\u201d stating that the deal could be announced as early as tomorrow. The new story follows similar reports late last week of discussions between th\\u2026\",\"Disaster agency fears death toll could climb even higher because some areas remain inaccessible by rescuers.\",\"Wigan suspend Joel Tomkins for four weeks after a video published on social media shows him being abusive to bar staff.\",\"Defence minister Tobias Ellwood broke ranks yesterday to publicly demand a statute of limitations for Northern Ireland veterans \\u2013 despite the Government already ruling it out.\",\"Samuel Umtiti has agreed a contract extension with Barcelona, the LaLiga champions have announced. The Cameroon-born France international's new deal ties him to the club until 2023 and he will put pen to paper at the Nou Camp on Monday morning. The 24-year-old defender, who had been linked with a move to Manchester United, has helped Barca win LaLiga, two Copa del Reys and the Spanish Supercopa during his two seasons in Catalonia. A Barcelona statement read: \\\"Some great news for Barcelona fans, and it's that Samuel Umtiti will continue wearing the shirt until 2023.\",\"36-year-old mother-of-two Carrie Hilton has admitted that her journey to becoming such a glamorous granny hasn't come cheap\",\"Suspect Michael A. Hancock has been removed from app, while Uber works with cops.\",\"Make ads, banners, and social media assets with ease.\",\"Saturn\\u2019s rotating magnetic field should reveal how fast the gas giant spins, but it has led to conflicting results. The planet\\u2019s rings may hold the true answer\",\"Another man was also hurt in the double shooting in Peckham.\",\"The Venezuela crisis is driving workers to flee the country\",\"Borussia Dortmund cancels licensing agreement two years early\",\"GMB union is demanding gig economy drivers get sick pay and national minimum wage\",\"The president will acknowledge the traditional Ramadan dinner on Wednesday.\",\"He thanked the contestants for sharing their talent, telling them: \\\"You actually help to bring some joy and happiness.\\\"\",\"This *needs* to become a full movie\",\"Global venture capital firm White Star Capital has closed a second fund of $180 million, money it plans to invest in \\u201ctransatlantic\\u201d companies that need help to go international. The VC already has a presence in London, New York, and Montreal, and as part if its new fund is adding Paris\\u2026\",\"Syco boss is going to rake in not just one but three acts this year, with two of them being stand-ups\",\"CHICAGO (AP) \\u2014 Most women with the most common form of early-stage breast cancer can safely skip chemotherapy without hurting their chances of beating the disease, doctors are reporting from a landmark study that used genetic testing to gauge each patient's risk. The study is the largest ever done of breast cancer treatment, and the results are expected to spare up to 70,000 patients a year in the United States and many more elsewhere the ordeal and expense of these drugs. \\\"The impact is tremendous,\\\" said the study leader, Dr. Joseph Sparano of Montefiore Medical Center in New York. Most women in this situation don't need treatment beyond surgery and hormone therapy, he said.\",\"BI PRIME: Deutsche Bank has lost another senior fixed-income executive as staff turnover continues to plague the German lender. Raj Bhattacharyya, the head of the emerging-market debt and foreign-exchange business in the Americas,\\u00a0is leaving the firm after 17 years, according to an internal memo.\",\"At Clusterfest, the Lonely Island ran through all their biggest songs for a hilarious, super fun evening.\",\"Stock indexes that rode accelerating global growth to fresh records in January are now hamstrung by a moderate but unmistakable slowdown in economic momentum in Europe and elsewhere.\",\"As Apple gears up for its developer keynote conference tomorrow, one of its bigger announcements is likely to be new changes coming to its augmented reality platform. Since announcing ARKit last year, the tech giant has hardly been sheepish about its belief in AR\\u2019s potential. \\u201cI think A\\u2026\",\"An estimated 25 people, including at least three children, were killed and nearly 300 injured on Sunday in the most violent eruption of Guatemala's Fuego volcano in more than four decades, officials said.\",\"We now know much more about the disadvantages of leaving the EU that we did first time around\",\"Manchester United target Fred will complete his medical with the Premier League side on Monday, according to reports. The Shakhtar Donetsk star, who has also been linked with rivals Manchester City in the past, is expected to sign in a \\u00a352 million \\u2013 including add-ons. According to The Sun\\u2019s Brazilian sources, Fred will leave the Brazil camp after their friendly with Croatia to undergo the medical. The midfielder is part of Tite\\u2019s squad to take to the World Cup in Russia later this month, so Jose Mourinho is keen to tie up a deal as quickly as possible.\",\"\\u2018All of a sudden, everything is gone and you don\\u2019t know what\\u2019s going to happen\\u2019\",\"Many people dream of packing it all in and...\",\"Totalitarian determination and modern technology have produced a massive abuse of human rights\",\"Pippo Inzaghi&rsquo;s Venezia are a step closer to promotion after beating Alessandro Nesta&rsquo;s Perugia 3-0, setting up a play-off semi-final with Palermo.\",\"It has reasons, though you may not like them.\",\"The Pilot whale died after ingesting 17 pounds of trash in Thailand. Officials said he thought they were food.\",\"Wigan Warriors player Joel Tomkins has also been handed a \\u00a310,000 fine after the abusive video emerged online.\",\"WWDC round the corner\",\"India News: hat\\u2019s the colour of the Taj Mahal? While you may have already guessed the answer, the Union culture and environment ministry is not taking any chances\",\"All WWDC 2018 keynote rumors will be confirmed next week\",\"UK should accept regulations in return for strong market access, argues Open Europe\",\"Canadian Prime Minister Justin Trudeau hit back at the recent tariffs imposed by President Donald Trump against Canada, Mexico, and the European Union. Meanwhile, a top Trump adviser said Trudeau was \\\"overreacting.\\\"\",\"Jonathan Agnew praises England after their victory over Pakistan, highlighting the impact of Jos Buttler and Dom Bess.\",\"Costco is a wholesale retail store known for its great bargains. It offers food samples, cheap gas, and sale items to attract customers and make their shopping experiences worthwhile. But strategies like these also encourage customers to stay longer and spend more.\",\"The company formed data-sharing partnerships with Apple, Samsung and dozens of other device makers, raising new concerns about its privacy protections.\",\"The Geordie Shore lass enjoyed a night with Josh Ritchie and Sophie Kasaei, until it was ruined.\",\"Report laments lost generation of younger workers stuck in low-paid, insecure jobs\",\"Former world heavyweight champion Tyson Fury discusses drugs, drinking and depression as he makes his comeback after 924 days out of the ring.\",\"Goalkeeper Mouez Hassen appeared to feign injuries in two World Cup friendlies to allow teammates to eat food mid-game.\",\"Turkey\\u2019s authoritarian president may be in a spot of bother\",\"The former president also suggested if Donald Trump were a Democrat, impeachment proceedings would be underway.\",\"A look ahead at how and why the Supreme Court might restrict abortion rights, and what that would mean to law and politics.\",\"Roma and Brazil goalkeeper Alisson Becker chose his all-time dream team, including Paolo Maldini, Fabio Cannavaro, Andrea Pirlo and Francesco Totti.\",\"Citigroup's Tobias Levkovich isn't blaming geopolitical tensions for his lackluster stock market forecast.\",\"Club-tailed scorpions in the Americas make a hissing sound, warning potential predators to back off, by rubbing a \\u201ccomb\\u201d against a sheet of sandpaper-like exoskeleton\",\"The former Chelsea midfielder plays for Jiangsu Suning in the Chinese Super League but is yet to play a minute in the league this season.\",\"Gavin Newsom and Antonio Villaraigosa, the leading Democratic contenders in Tuesday\\u2019s primary must contend with Jerry Brown\\u2019s long shadow and voters\\u2019 memories of past indiscretions.\",\"Bad publicity and headline-grabbing fines aren\\u2019t to blame.\",\"Growing tensions in Syria are testing Russia\\u2019s ability to manoeuvre\",\"INDORE: In a shocking incident, four persons broke into the government quarters of superintendent of police Sunil Rajore late on Saturday and robbed t.\",\"Bloomberg is reporting that Microsoft has acquired GitHub, and will announce the deal on Monday.\\r\\r\\r\\r\\r\\r\\n\\r\\r\\r\\r\\r\\r\\nGithub is an online service that allows developers to host their code in the cloud ...\",\"PM under pressure after home secretary distances himself from policy in TV interview\",\"The boss of the taxi firm said passengers, surprisingly, ring up all the time looking for their lost drugs\",\"We can be reached via Signal, PGP, Twitter, and even the faithful USPS.\",\"The suspect, reportedly a woman, allegedly fired shots near the finishing line of a marathon.\",\"Volcan de Fuego spewed a 5-mile stream of red hot lava and belched a thick plume of black smoke and ash that rained onto the capital and other regions.\",\"Here\\u2019s a first look at the most highly anticipated slide deck in Silicon Valley.\",\"Institutional investors with $26 trillion in assets under management called on Group of Seven leaders on Monday to phase out the use of coal in power generation to help limit climate change, despite strong opposition from Washington.\",\"The 16 year old Chelsea player is currently in France in the prestigious under 21 tournament and scored a brilliant goal against South Korea\",\"Studio head blames aversion to premium pricing on mobile titles\",\"With 10 days to go until the 2018 World Cup, BBC Sport remembers Diego Maradona's infamous \\\"hand of God\\\" goal against England at Mexico 1986.\",\"Oof, that's gotta hurt.\",\"Face it, we're all suckers for string lights.\",\"England storm to victory over Pakistan by an innings and 55 runs to win the second Test and draw the series 1-1.\",\"SpaceX has indicated it won\\u2019t launch a pair of space tourists to loop around the moon this year as previously announced, the latest sign that technical and production challenges are disrupting founder Elon Musk\\u2019s ambitious plans for human exploration of the solar system\",\"At least 87 homes have been destroyed on Hawaii's Big Island over the past month, and now another residential area is being inundated by lava.\",\"While most doctors, owners of nursing homes and experts say the advisory is harsh and may affect patient care, the Health Minister insists it will increase transparency\",\"For that ~dreamy~ lewk.\",\"A suspect is in custody.\",\"Also, Apple\\u2019s Worldwide Developers Conference kicks off\\u00a0Monday, June 4.\\u00a0Don\\u2019t expect any major new gadgets.\",\"Sophie Nagappa got into an unmarked taxi after a night out in Falmouth and quickly realised something was wrong.\",\"Luis Figo, like all Real Madrid fans, wants superstar Cristiano Ronaldo to continue in the Spanish capital.\",\"Transcend the waffle maker.\",\"WASHINGTON (AP) \\u2014 Medicare recipients filled fewer prescriptions for pricey brand-name drugs \\u2014 but spent more on such meds anyway, says a government report due out Monday. It blames rising manufacturer prices for squeezing older people and taxpayers. The Health and Human Services inspector general's office says it found a 17 percent drop in the overall number of prescriptions for brand-name medications under Medicare's \\\"Part D\\\" drug program over a recent five-year period.\",\"India News: The Centre has asked Jammu & Kashmir and other states to confine illegal Rohingya settlers to pre-identified locations within their respective jurisdi\",\"Medics and officials say swift action, awareness campaigns and central leadership key lessons in dealing with disease.\",\"Everything you to need know, from the listening party, to the credits, to what outlandish things he says.\",\"A special election forces a hard look at twin crises in one of America\\u2019s richest cities\",\"Friday's monthly employment report was great news for anyone looking for a job in America \\u2014 unless you happen to be a Democrat running for Congress.\",\"Congress would have to impeach Trump first before any criminal prosecution could move forward, the president\\u2019s lawyer says.\",\"Square Enix Montreal says that it will no longer make any more games in its Go series, and is shifting to focus on free-to-play games.\",\"England's emphatic victory over Pakistan in the second Test cannot be used to \\\"paper over cracks\\\", says captain Joe Root.\",\"Newspaper reports have hailed a blood test for detecting several types of cancer as the \\u201choly grail of cancer research\\u201d, but it is far from accurate enough\",\"\\u2018The public should decide who votes on our laws \\u2013 not a tiny clique of aristocrats,\\u2019\\u00a0say campaigners\",\"Hurricane season is back. Could this year's tropical storm total approach last year's record-setting and destructive season?\",\"In farcical scenes yesterday, officers left empty handed after Andrew Newton appeared to have fled the Surrey cul-de-sac hours earlier as neighbours confirmed he is alive and well.\",\"There is no constituency strong enough to wreck the European project, Michael Ivanovitch writes.\",\"Several cities that didn't make the cut for Amazon's second headquarters are aiming to become the next big tech hub, based on Amazon's criticism in postmortem calls. But some urban-planning experts say that it can be a big gamble to take Amazon's advice.\",\"Bloomberg has reported that Microsoft has announced GitHub. The ink has dried, and money has changed hands. Official confirmation of the deal is due on Monday, and not everybody is ...\",\"SAN DIEGO (AP) \\u2014 A San Diego police officer accidentally shot himself in the leg Sunday while pursuing a hit-and-run suspect who pointed a weapon at officers and was eventually arrested on the roof of a parking structure near the finish line of an annual marathon, authorities said. Officers fired at the woman but missed after she brandished the weapon at the parking facility at the edge of a downtown plaza shared by City Hall, police Chief David Nisleit told reporters.\",\"Black smoke and ash from the eruption forces closure of capital\\u2019s La Aurora airport\",\"Rocket will be expended to send a 5.4 ton communications satellite to GTO.\",\"The Barcelona midfielder returned to Liverpool to face Croatia in a World Cup warm up as Neymar returned to action.\",\"Former New York City mayor and current attorney for President Donald Trump Rudy Giuliani said on ABC's \\\"This Week\\\" that the president \\\"probably\\\" has the power to pardon himself.\",\"Former Barcelona manager Luis Enrique is set to be named as Antonio Conte\\u2019s successor at Chelsea, according to reports. Having been out of work since taking a sabbatical in 2017, Enrique has been constantly linked with jobs across the continent. A treble winner in his first season in charge of the Catalan side, reports suggesting Conte could be sacked earlier in the season only increased the speed of the rumour mill. But according to Spanish publication Sport, the 48-year-old is now the leading man to replace the Italian.\",\"It's basically like getting a three-year subscription at the two-year price.\",\"Move could suggest direct intervention by Kim Jong Un to remove leaders who oppose his outreach to Washington.\",\"President Donald Trump on Sunday questioned why the Justice Department or FBI did not notify him during the campaign that Paul Manafort was under investigation, insisting that Manafort would have never been hired if he had known.\",\"Italy's new interior minister pushes his tough line on immigration on a visit to southern ports.\",\"As the saying goes, it's better to be safe than sorry\",\"Piers Morgan led the criticism and slammed the sisterhood for their hypocrisy...\",\"The players have been warming up for the World Cup during Ramadan and their players have been waiting for the right time to drink.\",\"Tree-lined roads in rural France look idyllic but are deadly\",\"Asian stocks looked set to open higher on Monday after U.S. markets notched gains on the back of an expectation-topping U.S. jobs report.\",\"There's a battle between the Manchester City forward and the Liverpool striker to who will start at the World Cup for Brazil.\",\"Is your Windows PC playing up?\",\"The president's lawyer also defended Trump's shifting explanations for a 2016 Trump Tower meeting.\",\"NFL Network Insider Ian Rapoport reported Friday that free-agent receiver Dez Bryant is not expected to sign until at least the opening of training camps in late July.\",\"Many games and apps claim to identify the earliest signs of dementia \\u2013 if they work, we might be able to catch the condition early enough to treat it\",\"Udinese defender Jens Stryger Larsen and Atalanta striker Andreas Cornelius are in Denmark&rsquo;s 2018 World Cup squad.\",\"Someone even recreated it with Pok\\u00e9mon.\",\"Amazon\\u2019s Alexa digital assistant and Google Assistant are both coming to Microsoft\\u2019s Xbox One console according to a new report\",\"The Real Madrid trio are at Liverpool's ground for Brazil and Croatia's World Cup warm up match.\",\"CIUDAD CUAUHTEMOC, Mexico (AP) \\u2014 A pair of rubber-gloved hands carefully separates the red \\\"Evidence\\\" tape from a paper bag and empties the contents onto a table. Hundreds of burnt bone fragments spill out. The fragments look like bits of volcanic pumice. Yet for the hands that gently smooth them out over the table top, each one bears a name and holds a piece of a story that nobody knows, but that someone, somewhere is desperate to hear.\",\"Bilateral relations, already hit by trade tensions, may worsen if a high-ranking U.S. official attends the June 12 launch of the American Institute in Taiwan's new office.\",\"Dailts are reluctant to confront caste Hindu aggressors, fearing reprisal from the dominant community\",\"China was celebrating this week after new...\",\"BI PRIME: Failure to act on warning signs of mounting leverage in the stock market could be the difference between comfortable retirement and extra years of work, according to Brad Lamensdorf, a portfolio manager at Ranger Alternative Management.\",\"What an amazing finale!\",\"\\\"I absolutely want to empower other conservatives throughout Europe, other leaders,\\\" Breitbart News quoted U.S. Ambassador to Germany Richard Grenell as saying.\",\"The primary school teacher, from Leeds, repeated his line about how much he disliked the Wimbledon matriarch as part of his stand-up act...\",\"The car, a Lamborghini Countach, looked like it went up in flames after its middle-mounted V12 engine exploded into fire\",\"Guardian analysis finds large number of convicted terrorists are due for release this year\",\"Cittadella are through to the Serie B promotion play-off semi-finals against Frosinone after a 2-2 draw, but Bari ended with nine men in extra time.\",\"Cash demands from parent Tata Motors may undermine its ability to compete.\",\"Juventus and Napoli are on high alert after reports Bayern Munich are ready to sell defender Jerome Boateng.\",\"Follow the updates on iOS 12 and macOS 10.14 live as they happen.\",\"Manufacturing, services and investments are looking up, but the government\\u2019s hand clearly stands out\",\"As digital images proliferate, artists are making photos the slow, smelly way\",\"North Korea sacks top military brass \\u2026 generational pay gap jumps 50% \\u2026 former sex worker becomes a dame\",\"Anthony Joshua\\u2019s will fight his next opponent in September, according to his promoter Eddie Hearn. The IBF, WBA and WBO heavyweight titles holder last fought in his points victory over Joseph Parker in March. \\u2018AJ\\u2019 as he is known by his fans has expressed his desire to unify all the world heavyweight titles\\u00a0and a win over Deontay Wilder would see the British fighter claim the WBC title and complete the collection.\",\"It took nearly two dozen firefighters to bring the blaze under control\",\"Former Republican U.S. Senator Rick Santorum said President Barack Obama \\\"divided\\\" the country by siding against police when people of color have been shot by law enforcement.\",\"Bayer (BAYGn.DE) launched a 6 billion euros ($7 billion) rights issue on Sunday, a cornerstone of the financing package for its planned $62.5 billion takeover of seeds maker Monsanto (MON.N).\",\"There was a stopover in Detroit, but just two and a half hours later, \\u200beight-year-old Pomeranian Alejandro had passed away\",\"Singer, who was diagnosed with breast cancer, says she no longer speaks to \\\"diva\\\" sister Denise who she went through the rollercoaster ride of fame with\",\"The Trump administration is weighing an appeal from the United Arab Emirates for direct U.S. support to seize Yemen\\u2019s main port for humanitarian aid from Iranian-backed Houthi fighters, a move that American officials worry could have catastrophic effects on the country.\",\"\\u201cChina is the best place in the world to start your own laboratory,\\u201d said one researcher who left Yale for Beijing.\",\"Don't let those high schoolers fool ya.\",\"Liverpool are interested in Lyon captain and France international Nabil Fekir, according to his agent.\",\"Netherlands Coach Ronald Koeman expects a tough friendly in Turin, as Italy &ldquo;have a squad worthy of a place in the World Cup.&rdquo;\",\"North Korea's top three military officials have been removed from their posts, a senior U.S. official said, a move analysts said on Monday could support efforts by the North's young leader to jump-start economic development and engage with the world.\",\"Presenting Ars Frontlog, an attempt to work through our backlog of modern games.\",\"\\\"This is me just talking, but it\\u2019s based on my experience,\\\" said Clinton, who was impeached 20 years ago.\",\"The world should stand up to Washington's bullying behavior, Iran's foreign minister was quoted as saying on Sunday by state media in a letter to counterparts, as the top diplomat intensifies efforts to save a nuclear deal after a U.S. exit.\",\"Inter are ready to offer Antonio Candreva a new contract to June 2021, just weeks after reports he was on the market.\",\"Manchester United are reportedly set to sign Brazil international Fred from Shakhtar Donetsk, but the midfielder is giving no clues.\",\"British spin doctor Alastair Campbell (pictured) was standing in for Nigel Farage on LBC doing a phone-in on gender equality when he got a call from his daughter Grace.\",\"Group of Seven finance chiefs issued a rare rebuke of a member nation, claiming U.S. trade actions could undermine global economic confidence and threaten the effectiveness of the Western alliance.\",\"Controversial fire safety advice given to Grenfell Tower residents to \\u2018stay put\\u2019 during the inferno is still in place in all the high-rises nearby. The 'stay put' advice was blamed for contributing to 72 deaths.\",\"Following the quiet rollback of Obama-era Wall Street regulations, the US may be on the verge of yet another crash.\",\"\\u2018Untapped potential\\u2019 needs a new studio, spokesman says\",\"Acting admin: \\\"We are better positioned to make change now than ever before.\\\"\",\"Queensland police charged Nick Gordon, a 26-year-old landscaper, with attempted murder in Brisbane on Sunday\",\"Nationals are urging Barnaby Joyce to deal privately with the people he claims urged his partner to have an abortion.\",\"Some of the residents chose to stay, authorities said, and have lost power, cell reception, landlines and county water in the area.\",\"And how their new bosses reacted.\",\"Cleveland suffered a disastrous sequence of events that cost it Game 1. Can LeBron James and Cavs bounce back against Golden State? Or is this series all but over?\",\"Both the Centre and States must bite the bullet to cut taxes on petrol and diesel\",\"Third-party data is often obtained without explicit consent, so we can reasonably expect that all third-party activity will vanish now that GDPR is in effect, right? \\r\\r\\r\\r\\r\\r\\n\\r\\r\\r\\r\\r\\r\\nDon\\u2019t panic ...\",\"A \\\"doomsday\\\" style Brexit could see the country...\",\"3961 points and 77 comments so far on reddit\",\"Fans at Nick Cave's London show got to see a rare live rendition of the duet Where The Wild Roses Grow.\",\"Want to be in Japan? These games are the next best thing.\",\"Microsoft is reportedly buying the code-hosting service.\",\"Manufacturers could apparently retrieve user's friends' data, even if they believe they'd opted to not share it.\",\"2fa gets physical.\",\"Recently, headlines have been circulating speculation about what we need to do about the risks of self-driving vehicles. After one of its self-driving vehicles was responsible for a ...\",\"General Motors has told investors that GM Financial, its lending arm, is a budding profit driver and will help keep 2018 operating income close to the $12.8 billion it earned in each of the past two years.\",\"A charity softball game took a serious turn Saturday when Green Bay Packers linebacker Clay Matthews was struck in the face by a line drive. Matthews left for the hospital shortly after the incident.\",\"Wall Street is taking another step toward making social media as core to investment research as quarterly sales reports.\",\"Police say Mary Harrison, 47, admitted to the crime; she's being held on $100,000 bail\",\"The menu is filled with carefully rendered dishes drawn from the old French canon, which others might consider too quirky, expensive, or laborious.\",\"\\u201cDespite many pronouncements that 2016 was the year of VR, a more apt word for virtual reality might be absence,\\u201d The Economist observed caustically last summer, noting that during that year forecasts of combined sales of VR hardware and software dropped from $5.1bn to $3.6bn to the har\\u2026\",\"Shakhtar Donetsk midfielder Fred is expected to finalise his move to Manchester United early this week.\",\"Exclusive:\\u00a0Eleven umbrella organisations across the UK reiterate need for formal inquiry\",\"But after an intense 90-minute weightlifting session at the gym last week, he found himself in a concerning amount of pain\",\"According to a leaked letter, the president\\u2019s legal team is gearing up for a constitutional fight over Trump\\u2019s presidential powers.\",\"She\\u2019s the British journalist who revitalized glossy magazines. Now, she\\u2019s focused on her Women in the World summits and counts Meryl Streep, Hillary Clinton and Christine Lagarde as contacts\",\"The full-time mum was at home alone because one son was at work and the other was his at his dad's.\",\"Several Warriors players were bothered by Kendrick Perkins not moving out of the way after Stephen Curry backed into the Cavaliers bench during Game 2, which touched off a brief verbal exchange.\",\"The final three were whittled down to Lost Voice Guy, Donchez Dacres and Robert White\\u200b\",\"A woman stealing a package in the USA slipped and broke her leg, leaving her accomplice to carry her off\",\"A growing social movement is trying to bring scientific rigour to philanthropy\",\"John Dorsey continues to reshape Cleveland's roster in his image, and his latest addition comes at a familiar position: linebacker. The Browns are signing Mychal Kendricks, Ian Rapoport reported.\",\"Chinese officials refused to commit to buying more American goods without a Trump administration agreement not to impose further tariffs on Chinese exports.\",\"Let me tell you the story of two investors, neither of whom knew each other, but whose paths crossed in an interesting way. Grace Groner was orphaned at age 12. She never married. She never had kids. She never drove a car. She lived most of her life alone in a one-bedroom house and worked her whole career as a secretary. She was, by all accounts, a lovely lady. But she lived a humble and quiet life. That made the $7 million she left to charity after her death in 2010 at age 100 all the more confusing. People who knew her asked: Where did Grace get all that money? But there was no secret. There was no inheritance. Grace took humble savings from a meager salary and enjoyed eighty years of hands-off compounding in the stock market. That was it. Weeks after Grace died, an unrelated investing story hit the news. Richard Fuscone, former vice chairman of Merrill Lynch\\u2019s Latin America division, declared personal bankruptcy, fighting off foreclosure on two homes, one of which was nearly 20,000 square feet and had a $66,000 a month mortgage. Fuscone was the opposite of Grace Groner; educated at Harvard and University of Chicago, he became so successful in the investment industry that he retired in his 40s to \\u201cpursue personal and charitable interests.\\u201d But heavy borrowing and illiquid investments did him in. The same year Grace Goner left a veritable fortune to charity, Richard stood before a bankruptcy judge and declared: \\u201cI have been devastated by the financial crisis \\u2026 The only source of liquidity is whatever my wife is able to sell in terms of personal furnishings.\\u201d The purpose of these stories is not to say you should be like Grace and avoid being like Richard. It\\u2019s to point out that there is no other field where these stories are even possible. In what other field does someone with no education, no relevant experience, no resources, and no connections vastly outperform someone with the best education, the most relevant experiences, the best resources and the best connections? There will never be a story of a Grace Groner performing heart surgery better than a Harvard-trained cardiologist. Or building a faster chip than Apple\\u2019s engineers. Unthinkable. But these stories happen in investing. That\\u2019s because investing is not the study of finance. It\\u2019s the study of how people behave with money. And behavior is hard to teach, even to really smart people. You can\\u2019t sum up behavior with formulas to memorize or spreadsheet models to follow. Behavior is inborn, varies by person, is hard to measure, changes over time, and people are prone to deny its existence, especially when describing themselves. Grace and Richard show that managing money isn\\u2019t necessarily about what you know; it\\u2019s how you behave. But that\\u2019s not how finance is typically taught or discussed. The finance industry talks too much about what to do, and not enough about what happens in your head when you try to do it. This report describes 20 flaws, biases, and causes of bad behavior I\\u2019ve seen pop up often when people deal with money. 1. Earned success and deserved failure fallacy: A tendency to underestimate the role of luck and risk, and a failure to recognize that luck and risk are different sides of the same coin. I like to ask people, \\u201cWhat do you want to know about investing that we can\\u2019t know?\\u201d It\\u2019s not a practical question. So few people ask it. But it forces anyone you ask to think about what they intuitively think is true but don\\u2019t spend much time trying to answer because it\\u2019s futile. Years ago I asked economist Robert Shiller the question. He answered, \\u201cThe exact role of luck in successful outcomes.\\u201d I love that, because no one thinks luck doesn\\u2019t play role in financial success. But since it\\u2019s hard to quantify luck, and rude to suggest people\\u2019s success is owed to luck, the default stance is often to implicitly ignore luck as a factor. If I say, \\u201cThere are a billion investors in the world. By sheer chance, would you expect 100 of them to become billionaires predominately off luck?\\u201d You would reply, \\u201cOf course.\\u201d But then if I ask you to name those investors \\u2013 to their face \\u2013 you will back down. That\\u2019s the problem. The same goes for failure. Did failed businesses not try hard enough? Were bad investments not thought through well enough? Are wayward careers the product of laziness? In some parts, yes. Of course. But how much? It\\u2019s so hard to know. And when it\\u2019s hard to know we default to the extremes of assuming failures are predominantly caused by mistakes. Which itself is a mistake. People\\u2019s lives are a reflection of the experiences they\\u2019ve had and the people they\\u2019ve met, a lot of which are driven by luck, accident, and chance. The line between bold and reckless is thinner than people think, and you cannot believe in risk without believing in luck, because they are two sides of the same coin. They are both the simple idea that sometimes things happen that influence outcomes more than effort alone can achieve. After my son was born I wrote him a letter: Some people are born into families that encourage education; others are against it. Some are born into flourishing economies encouraging of entrepreneurship; others are born into war and destitution. I want you to be successful, and I want you to earn it. But realize that not all success is due to hard work, and not all poverty is due to laziness. Keep this in mind when judging people, including yourself. 2. Cost avoidance syndrome: A failure to identify the true costs of a situation, with too much emphasis on financial costs while ignoring the emotional price that must be paid to win a reward. Say you want a new car. It costs $30,000. You have a few options: 1) Pay $30,000 for it. 2) Buy a used one for less than $30,000. 3) Or steal it. In this case, 99% of people avoid the third option, because the consequences of stealing a car outweigh the upside. This is obvious. But say you want to earn a 10% annual return over the next 50 years. Does this reward come free? Of course not. Why would the world give you something amazing for free? Like the car, there\\u2019s a price that has to be paid. The price, in this case, is volatility and uncertainty. And like the car, you have a few options: You can pay it, accepting volatility and uncertainty. You can find an asset with less uncertainty and a lower payoff, the equivalent of a used car. Or you can attempt the equivalent of grand theft auto: Take the return while trying to avoid the volatility that comes along with it. Many people in this case choose the third option. Like a car thief \\u2013 though well-meaning and law-abiding \\u2013 they form tricks and strategies to get the return without paying the price. Trades. Rotations. Hedges. Arbitrages. Leverage. But the Money Gods do not look highly upon those who seek a reward without paying the price. Some car thieves will get away with it. Many more will be caught with their pants down. Same thing with money. This is obvious with the car and less obvious with investing because the true cost of investing \\u2013 or anything with money \\u2013 is rarely the financial fee that is easy to see and measure. It\\u2019s the emotional and physical price demanded by markets that are pretty efficient. Monster Beverage stock rose 211,000% from 1995 to 2016. But it lost more than half its value on five separate occasions during that time. That is an enormous psychological price to pay. Buffett made $90 billion. But he did it by reading SEC filings 12 hours a day for 70 years, often at the expense of paying attention to his family. Here too, a hidden cost. Every money reward has a price beyond the financial fee you can see and count. Accepting that is critical. Scott Adams once wrote: \\u201cOne of the best pieces of advice I\\u2019ve ever heard goes something like this: If you want success, figure out the price, then pay it. It sounds trivial and obvious, but if you unpack the idea it has extraordinary power.\\u201d Wonderful money advice. 3. Rich man in the car paradox. When you see someone driving a nice car, you rarely think, \\u201cWow, the guy driving that car is cool.\\u201d Instead, you think, \\u201cWow, if I had that car people would think I\\u2019m cool.\\u201d Subconscious or not, this is how people think. The paradox of wealth is that people tend to want it to signal to others that they should be liked and admired. But in reality those other people bypass admiring you, not because they don\\u2019t think wealth is admirable, but because they use your wealth solely as a benchmark for their own desire to be liked and admired. This stuff isn\\u2019t subtle. It is prevalent at every income and wealth level. There is a growing business of people renting private jets on the tarmac for 10 minutes to take a selfie inside the jet for Instagram. The people taking these selfies think they\\u2019re going to be loved without realizing that they probably don\\u2019t care about the person who actually owns the jet beyond the fact that they provided a jet to be photographed in. The point isn\\u2019t to abandon the pursuit of wealth, of course. Or even fancy cars \\u2013 I like both. It\\u2019s recognizing that people generally aspire to be respected by others, and humility, graciousness, intelligence, and empathy tend to generate more respect than fast cars. 4. A tendency to adjust to current circumstances in a way that makes forecasting your future desires and actions difficult, resulting in the inability to capture long-term compounding rewards that come from current decisions. Every five-year-old boy wants to drive a tractor when they grow up. Then you grow up and realize that driving a tractor maybe isn\\u2019t the best career. So as a teenager you dream of being a lawyer. Then you realize that lawyers work so hard they rarely see their families. So then you become a stay-at-home parent. Then at age 70 you realize you should have saved more money for retirement. Things change. And it\\u2019s hard to make long-term decisions when your view of what you\\u2019ll want in the future is so liable to shift. This gets back to the first rule of compounding: Never interrupt it unnecessarily. But how do you not interrupt a money plan \\u2013 careers, investments, spending, budgeting, whatever \\u2013 when your life plans change? It\\u2019s hard. Part of the reason people like Grace Groner and Warren Buffett become so successful is because they kept doing the same thing for decades on end, letting compounding run wild. But many of us evolve so much over a lifetime that we don\\u2019t want to keep doing the same thing for decades on end. Or anything close to it. So rather than one 80-something-year lifespan, our money has perhaps four distinct 20-year blocks. Compounding doesn\\u2019t work as well in that situation. There is no solution to this. But one thing I\\u2019ve learned that may help is coming back to balance and room for error. Too much devotion to one goal, one path, one outcome, is asking for regret when you\\u2019re so susceptible to change. 5. Anchored-to-your-own-history bias: Your personal experiences make up maybe 0.00000001% of what\\u2019s happened in the world but maybe 80% of how you think the world works. If you were born in 1970 the stock market went up 10-fold adjusted for inflation in your teens and 20s \\u2013 your young impressionable years when you were learning baseline knowledge about how investing and the economy work. If you were born in 1950, the same market went exactly nowhere in your teens and 20s: There are so many ways to cut this idea. Someone who grew up in Flint, Michigan got a very different view of the importance of manufacturing jobs than someone who grew up in Washington D.C. Coming of age during the Great Depression, or in war-ravaged 1940s Europe, set you on a path of beliefs, goals, and priorities that most people reading this, including myself, can\\u2019t fathom. The Great Depression scared a generation for the rest of their lives. Most of them, at least. In 1959 John F. Kennedy was asked by a reporter what he remembered from the depression, and answered: I have no first-hand knowledge of the depression. My family had one of the great fortunes of the world and it was worth more than ever then. We had bigger houses, more servants, we traveled more. About the only thing that I saw directly was when my father hired some extra gardeners just to give them a job so they could eat. I really did not learn about the depression until I read about it at Harvard. Since no amount of studying or open-mindedness can genuinely recreate the power of fear and uncertainty, people go through life with totally different views on how the economy works, what it\\u2019s capable of doing, how much we should protect other people, and what should and shouldn\\u2019t be valued. The problem is that everyone needs a clear explanation of how the world works to keep their sanity. It\\u2019s hard to be optimistic if you wake up in the morning and say, \\u201cI don\\u2019t know why most people think the way they do,\\u201d because people like the feeling of predictability and clean narratives. So they use the lessons of their own life experiences to create models of how they think the world should work \\u2013 particularly for things like luck, risk, effort, and values. And that\\u2019s a problem. When everyone has experienced a fraction of what\\u2019s out there but uses those experiences to explain everything they expect to happen, a lot of people eventually become disappointed, confused, or dumbfounded at others\\u2019 decisions. A team of economists once crunched the data on a century\\u2019s worth of people\\u2019s investing habits and concluded: \\u201cCurrent [investment] beliefs depend on the realizations experienced in the past.\\u201d Keep that quote in mind when debating people\\u2019s investing views. Or when you\\u2019re confused about their desire to hoard or blow money, their fear or greed in certain situations, or whenever else you can\\u2019t understand why people do what they do with money. Things will make more sense. 6. Historians are Prophets fallacy: Not seeing the irony that history is the study of surprises and changes while using it as a guide to the future. An overreliance on past data as a signal to future conditions in a field where innovation and change is the lifeblood of progress. Geologists can look at a billion years of historical data and form models of how the earth behaves. So can meteorologists. And doctors \\u2013 kidneys operate the same way in 2018 as they did in 1018. The idea that the past offers concrete directions about the future is tantalizing. It promotes the idea that the path of the future is buried within the data. Historians \\u2013 or anyone analyzing the past as a way to indicate the future \\u2013 are some of the most important members of many fields. I don\\u2019t think finance is one of them. At least not as much as we\\u2019d like to think. The cornerstone of economics is that things change over time, because the invisible hand hates anything staying too good or too bad indefinitely. Bill Bonner once described how Mr. Market works: \\u201cHe\\u2019s got a \\u2018Capitalism at Work\\u2019 T-shirt on and a sledgehammer in his hand.\\u201d Few things stay the same for very long, which makes historians something far less useful than prophets. Consider a few big ones. The 401(K) is 39 years old \\u2013 barely old enough to run for president. The Roth IRA isn\\u2019t old enough to drink. So personal financial advice and analysis about how Americans save for retirement today is not directly comparable to what made sense just a generation ago. Things changed. The venture capital industry barely existed 25 years ago. There are single funds today that are larger than the entire industry was a generation ago. Phil Knight wrote about his early days after starting Nike: \\u201cThere was no such thing as venture capital. An aspiring young entrepreneur had very few places to turn, and those places were all guarded by risk-averse gatekeepers with zero imagination. In other words, bankers.\\u201d So our knowledge of backing entrepreneurs, investment cycles, and failure rates, is not something we have a deep base of history to learn from. Things changed. Or take public markets. The S&P 500 did not include financial stocks until 1976; today, financials make up 16% of the index. Technology stocks were virtually nonexistent 50 years ago. Today, they\\u2019re more than a fifth of the index. Accounting rules have changed over time. So have disclosures, auditing, and market liquidity. Things changed. The most important driver of anything tied to money is the stories people tell themselves and the preferences they have for goods and services. Those things don\\u2019t tend to sit still. They change with culture and generation. And they\\u2019ll keep changing. The mental trick we play on ourselves here is an over-admiration of people who have been there, done that, when it comes to money. Experiencing specific events does not necessarily qualify you to know what will happen next. In fact it rarely does, because experience leads to more overconfidence than prophetic ability. That doesn\\u2019t mean we should ignore history when thinking about money. But there\\u2019s an important nuance: The further back in history you look, the more general your takeaways should be. General things like people\\u2019s relationship to greed and fear, how they behave under stress, and how they respond to incentives tends to be stable in time. The history of money is useful for that kind of stuff. But specific trends, specific trades, specific sectors, and specific causal relationships are always a showcase of evolution in progress. 7. The seduction of pessimism in a world where optimism is the most reasonable stance. Historian Deirdre McCloskey says, \\u201cFor reasons I have never understood, people like to hear that the world is going to hell.\\u201d This isn\\u2019t new. John Stuart Mill wrote in the 1840s: \\u201cI have observed that not the man who hopes when others despair, but the man who despairs when others hope, is admired by a large class of persons as a sage.\\u201d Part of this is natural. We\\u2019ve evolved to treat threats as more urgent than opportunities. Buffett says, \\u201cIn order to succeed, you must first survive.\\u201d But pessimism about money takes a different level of allure. Say there\\u2019s going to be a recession and you will get retweeted. Say we\\u2019ll have a big recession and newspapers will call you. Say we\\u2019re nearing the next Great Depression and you\\u2019ll get on TV. But mention that good times are ahead, or markets have room to run, or that a company has huge potential, and a common reaction from commentators and spectators alike is that you are either a salesman or comically aloof of risks. A few things are going on here. One is that money is ubiquitous, so something bad happening tends to affect everyone, albeit in different ways. That isn\\u2019t true of, say, weather. A hurricane barreling down on Florida poses no direct risk to 92% of Americans. But a recession barreling down on the economy could impact every single person \\u2013 including you, so pay attention. This goes for something as specific as the stock market: More than half of all households directly own stocks. Another is that pessimism requires action \\u2013 Move! Get out! Run! Sell! Hide! Optimism is mostly a call to stay the course and enjoy the ride. So it\\u2019s not nearly as urgent. A third is that there is a lot of money to be made in the finance industry, which \\u2013 despite regulations \\u2013 has attracted armies of scammers, hucksters, and truth-benders promising the moon. A big enough bonus can convince even honest, law-abiding finance workers selling garbage products that they\\u2019re doing good for their customers. Enough people have been bamboozled by the finance industry that a sense of, \\u201cIf it sounds too good to be true, it probably is\\u201d has enveloped even rational promotions of optimism. Most promotions of optimism, by the way, are rational. Not all, of course. But we need to understand what optimism is. Real optimists don\\u2019t believe that everything will be great. That\\u2019s complacency. Optimism is a belief that the odds of a good outcome are in your favor over time, even when there will be setbacks along the way. The simple idea that most people wake up in the morning trying to make things a little better and more productive than wake up looking to cause trouble is the foundation of optimism. It\\u2019s not complicated. It\\u2019s not guaranteed, either. It\\u2019s just the most reasonable bet for most people. The late statistician Hans Rosling put it differently: \\u201cI am not an optimist. I am a very serious possibilist.\\u201d 8. Underappreciating the power of compounding, driven by the tendency to intuitively think about exponential growth in linear terms. IBM made a 3.5 megabyte hard drive in the 1950s. By the 1960s things were moving into a few dozen megabytes. By the 1970s, IBM\\u2019s Winchester drive held 70 megabytes. Then drives got exponentially smaller in size with more storage. A typical PC in the early 1990s held 200-500 megabytes. And then \\u2026 wham. Things exploded. 1999 \\u2013 Apple\\u2019s iMac comes with a 6 gigabyte hard drive. 2003 \\u2013 120 gigs on the Power Mac. 2006 \\u2013 250 gigs on the new iMac. 2011 \\u2013 first 4 terabyte hard drive. 2017 \\u2013 60 terabyte hard drives. Now put it together. From 1950 to 1990 we gained 296 megabytes. From 1990 through today we gained 60 million megabytes. The punchline of compounding is never that it\\u2019s just big. It\\u2019s always \\u2013 no matter how many times you study it \\u2013 so big that you can barely wrap your head around it. In 2004 Bill Gates criticized the new Gmail, wondering why anyone would need a gig of storage. Author Steven Levy wrote, \\u201cDespite his currency with cutting-edge technologies, his mentality was anchored in the old paradigm of storage being a commodity that must be conserved.\\u201d You never get accustomed to how quickly things can grow. I have heard many people say the first time they saw a compound interest table \\u2013 or one of those stories about how much more you\\u2019d have for retirement if you began saving in your 20s vs. your 30s \\u2013 changed their life. But it probably didn\\u2019t. What it likely did was surprise them, because the results intuitively didn\\u2019t seem right. Linear thinking is so much more intuitive than exponential thinking. Michael Batnick once explained it. If I ask you to calculate 8+8+8+8+8+8+8+8+8 in your head, you can do it in a few seconds (it\\u2019s 72). If I ask you to calculate 8x8x8x8x8x8x8x8x8, your head will explode (it\\u2019s 134,217,728). The danger here is that when compounding isn\\u2019t intuitive, we often ignore its potential and focus on solving problems through other means. Not because we\\u2019re overthinking, but because we rarely stop to consider compounding potential. There are over 2,000 books picking apart how Warren Buffett built his fortune. But none are called \\u201cThis Guy Has Been Investing Consistently for Three-Quarters of a Century.\\u201d But we know that\\u2019s the key to the majority of his success; it\\u2019s just hard to wrap your head around that math because it\\u2019s not intuitive. There are books on economic cycles, trading strategies, and sector bets. But the most powerful and important book should be called \\u201cShut Up And Wait.\\u201d It\\u2019s just one page with a long-term chart of economic growth. Physicist Albert Bartlett put it: \\u201cThe greatest shortcoming of the human race is our inability to understand the exponential function.\\u201d The counterintuitiveness of compounding is responsible for the majority of disappointing trades, bad strategies, and successful investing attempts. Good investing isn\\u2019t necessarily about earning the highest returns, because the highest returns tend to be one-off hits that kill your confidence when they end. It\\u2019s about earning pretty good returns that you can stick with for a long period of time. That\\u2019s when compounding runs wild. 9. Attachment to social proof in a field that demands contrarian thinking to achieve above-average results. The Berkshire Hathaway annual meeting in Omaha attracts 40,000 people, all of whom consider themselves contrarians. People show up at 4 am to wait in line with thousands of other people to tell each other about their lifelong commitment to not following the crowd. Few see the irony. Anything worthwhile with money has high stakes. High stakes entail risks of being wrong and losing money. Losing money is emotional. And the desire to avoid being wrong is best countered by surrounding yourself with people who agree with you. Social proof is powerful. Someone else agreeing with you is like evidence of being right that doesn\\u2019t have to prove itself with facts. Most people\\u2019s views have holes and gaps in them, if only subconsciously. Crowds and social proof help fill those gaps, reducing doubt that you could be wrong. The problem with viewing crowds as evidence of accuracy when dealing with money is that opportunity is almost always inversely correlated with popularity. What really drives outsized returns over time is an increase in valuation multiples, and increasing valuation multiples relies on an investment getting more popular in the future \\u2013 something that is always anchored by current popularity. Here\\u2019s the thing: Most attempts at contrarianism is just irrational cynicism in disguise \\u2013 and cynicism can be popular and draw crowds. Real contrarianism is when your views are so uncomfortable and belittled that they cause you to second guess whether they\\u2019re right. Very few people can do that. But of course that\\u2019s the case. Most people can\\u2019t be contrarian, by definition. Embrace with both hands that, statistically, you are one of those people. 10. An appeal to academia in a field that is governed not by clean rules but loose and unpredictable trends. Harry Markowitz won the Nobel Prize in economics for creating formulas that tell you exactly how much of your portfolio should be in stocks vs. bonds depending on your ideal level of risk. A few years ago the Wall Street Journal asked him how, given his work, he invests his own money. He replied: I visualized my grief if the stock market went way up and I wasn\\u2019t in it \\u2013 or if it went way down and I was completely in it. My intention was to minimize my future regret. So I split my contributions 50/50 between bonds and equities. There are many things in academic finance that are technically right but fail to describe how people actually act in the real world. Plenty of academic finance work is useful and has pushed the industry in the right direction. But its main purpose is often intellectual stimulation and to impress other academics. I don\\u2019t blame them for this or look down upon them for it. We should just recognize it for what it is. One study I remember showed that young investors should use 2x leverage in the stock market, because \\u2013 statistically \\u2013 even if you get wiped out you\\u2019re still likely to earn superior returns over time, as long as you dust yourself off and keep investing after a wipeout. Which, in the real world, no one would actually do. They\\u2019d swear off investing for life. What works on a spreadsheet and what works at the kitchen table are ten miles apart. The disconnect here is that academics typically desire very precise rules and formulas. But real-world people use it as a crutch to try to make sense of a messy and confusing world that, by its nature, eschews precision. Those are opposite things. You cannot explain randomness and emotion with precision and reason. People are also attracted to the titles and degrees of academics because finance is not a credential-sanctioned field like, say, medicine is. So the appearance of a Ph.D stands out. And that creates an intense appeal to academia when making arguments and justifying beliefs \\u2013 \\u201cAccording to this Harvard study \\u2026\\u201d or \\u201cAs Nobel Prize winner so and so showed \\u2026\\u201d It carries so much weight when other people cite, \\u201cSome guy on CNBC from an eponymous firm with a tie and a smile.\\u201d A hard reality is that what often matters most in finance will never win a Nobel Prize: Humility and room for error. 11. The social utility of money coming at the direct expense of growing money; wealth is what you don\\u2019t see. I used to park cars at a hotel. This was in the mid-2000s in Los Angeles, when real estate money flowed. I assumed that a customer driving a Ferrari was rich. Many were. But as I got to know some of these people, I realized they weren\\u2019t that successful. At least not nearly what I assumed. Many were mediocre successes who spent most of their money on a car. If you see someone driving a $200,000 car, the only data point you have about their wealth is that they have $200,000 less than they did before they bought the car. Or they\\u2019re leasing the car, which truly offers no indication of wealth. We tend to judge wealth by what we see. We can\\u2019t see people\\u2019s bank accounts or brokerage statements. So we rely on outward appearances to gauge financial success. Cars. Homes. Vacations. Instagram photos. But this is America, and one of our cherished industries is helping people fake it until they make it. Wealth, in fact, is what you don\\u2019t see. It\\u2019s the cars not purchased. The diamonds not bought. The renovations postponed, the clothes forgone and the first-class upgrade declined. It\\u2019s assets in the bank that haven\\u2019t yet been converted into the stuff you see. But that\\u2019s not how we think about wealth, because you can\\u2019t contextualize what you can\\u2019t see. Singer Rihanna nearly went broke after overspending and sued her financial advisor. The advisor responded: \\u201cWas it really necessary to tell her that if you spend money on things, you will end up with the things and not the money?\\u201d You can laugh. But the truth is, yes, people need to be told that. When most people say they want to be a millionaire, what they really mean is \\u201cI want to spend a million dollars,\\u201d which is literally the opposite of being a millionaire. This is especially true for young people. A key use of wealth is using it to control your time and providing you with options. Financial assets on a balance sheet offer that. But they come at the direct expense of showing people how much wealth you have with material stuff. 12. A tendency toward action in a field where the first rule of compounding is to never interrupt it unnecessarily. If your sink breaks, you grab a wrench and fix it. If your arm breaks, you put it in a cast. What do you do when your financial plan breaks? The first question \\u2013 and this goes for personal finance, business finance, and investing plans \\u2013 is how do you know when it\\u2019s broken? A broken sink is obvious. But a broken investment plan is open to interpretation. Maybe it\\u2019s just temporarily out of favor? Maybe you\\u2019re experiencing normal volatility? Maybe you had a bunch of one-off expenses this quarter but your savings rate is still adequate? It\\u2019s hard to know. When it\\u2019s hard to distinguish broken from temporarily out of favor, the tendency is to default to the former, and spring into action. You start fiddling with the knobs to find a fix. This seems like the responsible thing to do, because when virtually everything else in your life is broken, the correct action is to fix it. There are times when money plans need to be fixed. Oh, are there ever. But there is also no such thing as a long-term money plan that isn\\u2019t susceptible to volatility. Occasional upheaval is usually part of a standard plan. When volatility is guaranteed and normal, but is often treated as something that needs to be fixed, people take actions that ultimately just interrupts the execution of a good plan. \\u201cDon\\u2019t do anything,\\u201d are the most powerful words in finance. But they are both hard for individuals to accept and hard for professionals to charge a fee for. So, we fiddle. Far too much. 13. Underestimating the need for room for error, not just financially but mentally and physically. Ben Graham once said, \\u201cThe purpose of the margin of safety is to render the forecast unnecessary.\\u201d There is so much wisdom in this quote. But the most common response, even if subconsciously, is, \\u201cThanks Ben. But I\\u2019m good at forecasting.\\u201d People underestimate the need for room for error in almost everything they do that involves money. Two things cause this: One is the idea that your view of the future is right, driven by the uncomfortable feeling that comes from admitting the opposite. The second is that you\\u2019re therefore doing yourself economic harm by not taking actions that exploit your view of the future coming true. But room for error is underappreciated and misunderstood. It\\u2019s often viewed as a conservative hedge, used by those who don\\u2019t want to take much risk or aren\\u2019t confident in their views. But when used appropriately it\\u2019s the opposite. Room for error lets you endure, and endurance lets you stick around long enough to let the odds of benefiting from a low-probability outcome fall in your favor. The biggest gains occur infrequently, either because they don\\u2019t happen often or because they take time to compound. So the person with enough room for error in part of their strategy to let them endure hardship in the other part of their strategy has an edge over the person who gets wiped out, game over, insert more tokens, when they\\u2019re wrong. There are also multiple sides to room for error. Can you survive your assets declining by 30%? On a spreadsheet, maybe yes \\u2013 in terms of actually paying your bills and staying cash-flow positive. But what about mentally? It is easy to underestimate what a 30% decline does to your psyche. Your confidence may become shot at the very moment opportunity is at its highest. You \\u2013 or your spouse \\u2013 may decide it\\u2019s time for a new plan, or new career. I know several investors who quit after losses because they were exhausted. Physically exhausted. Spreadsheets can model the historic frequency of big declines. But they cannot model the feeling of coming home, looking at your kids, and wondering if you\\u2019ve made a huge mistake that will impact their lives. 14. A tendency to be influenced by the actions of other people who are playing a different financial game than you are. Cisco stock went up three-fold in 1999. Why? Probably not because people actually thought the company was worth $600 billion. Burton Malkiel once pointed out that Cisco\\u2019s implied growth rate at that valuation meant it would become larger than the entire U.S. economy within 20 years. Its stock price was going up because short-term traders thought it would keep going up. And they were right, for a long time. That was the game they were playing \\u2013 \\u201cthis stock is trading for $60 and I think it\\u2019ll be worth $65 before tomorrow.\\u201d But if you were a long-term investor in 1999, $60 was the only price available to buy. So you may have looked around and said to yourself, \\u201cWow, maybe others know something I don\\u2019t.\\u201d And you went along with it. You even felt smart about it. But then the traders stopped playing their game, and you \\u2013 and your game \\u2013 was annihilated. What you don\\u2019t realize is that the traders moving the marginal price are playing a totally different game than you are. And if you start taking cues from people playing a different game than you are, you are bound to be fooled and eventually become lost, since different games have different rules and different goals. Few things matter more with money than understanding your own time horizon and not being persuaded by the actions and behaviors of people playing different games. This goes beyond investing. How you save, how you spend, what your business strategy is, how you think about money, when you retire, and how you think about risk may all be influenced by the actions and behaviors of people who are playing different games than you are. Personal finance is deeply personal, and one of the hardest parts is learning from others while realizing that their goals and actions might be miles removed from what\\u2019s relevant to your own life. 15. An attachment to financial entertainment due to the fact that money is emotional, and emotions are revved up by argument, extreme views, flashing lights, and threats to your wellbeing. If the average America\\u2019s blood pressure went up by 3%, my guess is a few newspapers would cover it on page 16, nothing would change, and we\\u2019d move on. But if the stock market falls 3%, well, no need to guess how we might respond. This is from 2015: \\u201cPresident Barack Obama has been briefed on Monday\\u2019s choppy global market movement.\\u201d Why does financial news of seemingly low importance overwhelm news that is objectively more important? Because finance is entertaining in a way other things \\u2013 orthodontics, gardening, marine biology \\u2013 are not. Money has competition, rules, upsets, wins, losses, heroes, villains, teams, and fans that makes it tantalizingly close to a sporting event. But it\\u2019s even an addiction level up from that, because money is like a sporting event where you\\u2019re both the fan and the player, with outcomes affecting you both emotionally and directly. Which is dangerous. It helps, I\\u2019ve found, when making money decisions to constantly remind yourself that the purpose of investing is to maximize returns, not minimize boredom. Boring is perfectly fine. Boring is good. If you want to frame this as a strategy, remind yourself: opportunity lives where others aren\\u2019t, and others tend to stay away from what\\u2019s boring. 16. Optimism bias in risk-taking, or \\u201cRussian Roulette should statistically work\\u201d syndrome: An over attachment to favorable odds when the downside is unacceptable in any circumstance. Nassim Taleb says, \\u201cYou can be risk loving and yet completely averse to ruin.\\u201d The idea is that you have to take risk to get ahead, but no risk that could wipe you out is ever worth taking. The odds are in your favor when playing Russian Roulette. But the downside is never worth the potential upside. The odds of something can be in your favor \\u2013 real estate prices go up most years, and most years you\\u2019ll get a paycheck every other week \\u2013 but if something has 95% odds of being right, then 5% odds of being wrong means you will almost certainly experience the downside at some point in your life. And if the cost of the downside is ruin, the upside the other 95% of the time likely isn\\u2019t worth the risk, no matter how appealing it looks. Leverage is the devil here. It pushes routine risks into something capable of producing ruin. The danger is that rational optimism most of the time masks the odds of ruin some of the time in a way that lets us systematically underestimate risk. Housing prices fell 30% last decade. A few companies defaulted on their debt. This is capitalism \\u2013 it happens. But those with leverage had a double wipeout: Not only were they left broke, but being wiped out erased every opportunity to get back in the game at the very moment opportunity was ripe. A homeowner wiped out in 2009 had no chance of taking advantage of cheap mortgage rates in 2010. Lehman Brothers had no chance of investing in cheap debt in 2009. My own money is barbelled. I take risks with one portion and am a terrified turtle with the other. This is not inconsistent, but the psychology of money would lead you to believe that it is. I just want to ensure I can remain standing long enough for my risks to pay off. Again, you have to survive to succeed. A key point here is that few things in money are as valuable as options. The ability to do what you want, when you want, with who you want, and why you want, has infinite ROI. 17. A preference for skills in a field where skills don\\u2019t matter if they aren\\u2019t matched with the right behavior. This is where Grace and Richard come back in. There is a hierarchy of investor needs, and each topic here has to be mastered before the one above it matters: Richard was very skilled at the top of this pyramid, but he failed the bottom blocks, so none of it mattered. Grace mastered the bottom blocks so well that the top blocks were hardly necessary. 18. Denial of inconsistencies between how you think the world should work and how the world actually works, driven by a desire to form a clean narrative of cause and effect despite the inherent complexities of everything involving money. Someone once described Donald Trump as \\u201cUnable to distinguish between what happened and what he thinks should have happened.\\u201d Politics aside, I think everyone does this. There are three parts to this: You see a lot of information in the world. You can\\u2019t process all of it. So you have to filter. You only filter in the information that meshes with the way you think the world should work. Since everyone wants to explain what they see and how the world works with clean narratives, inconsistencies between what we think should happen and what actually happens are buried. An example. Higher taxes should slow economic growth \\u2013 that\\u2019s a common sense narrative. But the correlation between tax rates and growth rates is hard to spot. So, if you hold onto the narrative between taxes and growth, you say there must be something wrong with the data. And you may be right! But if you come across someone else pushing aside data to back up their narrative \\u2013 say, arguing that hedge funds have to generate alpha, otherwise no one would invest in them \\u2013 you spot what you consider a bias. There are a thousand other examples. Everyone just believes what they want to believe, even when the evidence shows something else. Stories over statistics. Accepting that everything involving money is driven by illogical emotions and has more moving parts than anyone can grasp is a good start to remembering that history is the study of things happening that people didn\\u2019t think would or could happen. This is especially true with money. 19. Political beliefs driving financial decisions, influenced by economics being a misbehaved cousin of politics. I once attended a conference where a well known investor began his talk by saying, \\u201cYou know when President Obama talks about clinging to guns and bibles? That is me, folks. And I\\u2019m going to tell you today about how his reckless policies are impacting the economy.\\u201d I don\\u2019t care what your politics are, there is no possible way you can make rational investment decisions with that kind of thinking. But it\\u2019s fairly common. Look at what happens in 2016 on this chart. The rate of GDP growth, jobs growth, stock market growth, interest rates \\u2013 go down the list \\u2013 did not materially change. Only the president did: Years ago I published a bunch of economic performance numbers by president. And it drove people crazy, because the data often didn\\u2019t mesh with how they thought it should based on their political beliefs. Soon after a journalist asked me to comment on a story detailing how, statistically, Democrats preside over stronger economies than Republicans. I said you couldn\\u2019t make that argument because the sample size is way too small. But he pushed and pushed, and wrote a piece that made readers either cheer or sweat, depending on their beliefs. The point is not that politics don\\u2019t influence the economy. But the reason this is such a sensitive topic is because the data often surprises the heck out of people, which itself is a reason to realize that the correlation between politics and economics isn\\u2019t as clear as you\\u2019d like to think it is. 20. The three-month bubble: Extrapolating the recent past into the near future, and then overestimating the extent to which whatever you anticipate will happen in the near future will impact your future. News headlines in the month after 9/11 are interesting. Few entertain the idea that the attack was a one-off; the next massive terrorist attack was certain to be around the corner. \\u201cAnother catastrophic terrorist attack is inevitable and only a matter of time,\\u201d one defense analyst said in 2002. \\u201cA top counterterrorism official says it\\u2019s \\u2018a question of when, not if,\\u201d wrote another headline. Beyond the anticipation that another attack was imminent was a belief that it would affect people the same way. The Today Show ran a segment pitching parachutes for office workers to keep under their desks in case they needed to jump out of a skyscraper. Believing that what just happened will keep happening shows up constantly in psychology. We like patterns and have short memories. The added feeling that a repeat of what just happened will keep affecting you the same way is an offshoot. And when you\\u2019re dealing with money it can be a torment. Every big financial win or loss is followed by mass expectations of more wins and losses. With it comes a level of obsession over the effects of those events repeating that can be wildly disconnected from your long-term goals. Example: The stock market falling 40% in 2008 was followed, uninterrupted for years, with forecasts of another impending plunge. Expecting what just happened to happen soon again is one thing, and an error in itself. But not realizing that your long-term investing goals could remain intact, unharmed, even if we have another big plunge, is the dangerous byproduct of recency bias. \\u201cMarkets tend to recover over time and make new highs\\u201d was not a popular takeaway from the financial crisis; \\u201cMarkets can crash and crashes suck,\\u201d was, despite the former being so much more practical than the latter. Most of the time, something big happening doesn\\u2019t increase the odds of it happening again. It\\u2019s the opposite, as mean reversion is a merciless law of finance. But even when something does happen again, most of the time it doesn\\u2019t \\u2013 or shouldn\\u2019t \\u2013 impact your actions in the way you\\u2019re tempted to think, because most extrapolations are short term while most goals are long term. A stable strategy designed to endure change is almost always superior to one that attempts to guard against whatever just happened happening again. If there\\u2019s a common denominator in these, it\\u2019s a preference for humility, adaptability, long time horizons, and skepticism of popularity around anything involving money. Which can be summed up as: Be prepared to roll with the punches. Jiddu Krishnamurti spent years giving spiritual talks. He became more candid as he got older. In one famous talk, he asked the audience if they\\u2019d like to know his secret. He whispered, \\u201cYou see, I don\\u2019t mind what happens.\\u201d That might be the best trick when dealing with the psychology of money.\",\"The surreal, groundbreaking anime FLCL returns to Adult Swim with two new series, the first of which begins airing tonight.\",\"Former New Jersey Gov. Chris Christie knocked the claim from Donald Trump's legal team that, by nature of his office, the President cannot obstruct justice and could simply shut down the Russia investigation altogether.\",\"Kayla McKeon's job gives her independence - now she's pushing US politicians to help others like her too.\",\"A police officer shot the 53-year-old man in the legs after pepper spray failed to stop his dangerous behaviour\",\"The UK Home Office said today: 'We expect the threat from Islamist terrorism to remain at its current, heightened level for at least the next two years, and that it may increase further.'\",\"It is a major breakthrough in cancer treatment.\",\"North Korea will get relief from international sanctions only when it has shown irreversible moves toward denuclearization, U.S. Secretary of Defense James Mattis said ahead of a summit next week between President Donald Trump and North Korean leader Kim Jong Un.\",\"Croatia can surprise at the World Cup in Russia, as Liverpool did in the Champions League, according to Dejan Lovren.\",\"Liberal challenge to 26-year senator is slow going\",\"\\u2018For countless women, and their doctors, the days of uncertainty are over,\\u2019 say researchers on largest breast cancer\\u00a0treatment trial\",\"Whoever you ask, EVs mean far greater freedom for designers, engineers, and marketers.\",\"Mrs. Trump's decision, via her spokeswoman, is a departure from last year, when she made an international summit debut in Italy\",\"The June 12 summit meeting between President Trump and Kim Jong-un requires figuring out countless details, all of which could be ignored last minute by two leaders known for changing their minds.\",\"Arlene Foster has said keeping the same arrangements in Northern Ireland as in the rest of the EU is a 'red line'\",\"There\\u2019s no secret the tech industry suffers a reputation for harmfully disrupting a community. But not everyone in tech is to blame for the negative effects. In 2015 Ben Kovacs and Joel Lunenfeld founded the non-profit Guardian Gym, a buy-one give-one mixed martial arts gym/after-school program tha\\u2026\",\"Northern Ireland complete their Central American tour with a disappointing defeat by World Cup-bound Costa Rica in San Jose.\",\"Sanjit Dang Contributor Share on Twitter Sanjit Dang is an investment director at Intel Capital. More posts by this contributor What\\u2019s holding back VR? Every year,\\u00a0Time\\u00a0magazine gets swamped with pitches from thousands of companies, all convinced\\u00a0their\\u00a0product deserves to be included in\\u00a0Time\\u2019s \\u201c25 \\u2026\",\"RED founder Jim Jannard is fiercely proud of his company's phone, even if no one winds up buying it.\",\"Asian shares rose to their highest level in two-and-a-half-weeks on Monday as strong U.S. jobs data offset worries that tariff wars between the United States and the rest of the world could drag on global economic growth.\",\"If you have a large brain, certain regions are much bigger than expected and others are smaller \\u2013 but we don\\u2019t know how this affects intelligence yet\",\"The clip shows the man, 53, from Austria, leaping up and down and brandishing the weapon in a tense show down with police at the altar.\",\"Scapple doesn\\u2019t work like your usual piece of software. Rather than helping you handle standard computer tasks like editing photos or organizing spreadsheets or balancing your checkbook, ...\",\"Learn how to make your own independent video game.\",\"Women who are raped and seek abortions in...\",\"President Trump likely has the authority both to pardon himself and to end federal investigations, but is unlikely to do either because it could lead to impeachment, his lawyer Rudy Giuliani said.\",\"Three people were airlifted to safety on Sunday morning as lava from Hawaii's Kilauea volcano threatened an isolated area where they had become trapped, the National Guard said.\",\"Why aren't these everywhere???\",\"As elections near, the president has been nicknamed a \\u2018Caliph in waiting,' reigniting the debate over Turkey\\u2019s identity.\",\"High-tech fireworks.\",\"Donald Trump's lawyer Rudy Giuliani claimed Sunday that the President hypothetically could have shot the former FBI director to end the Russia investigation and not face prosecution for it while in office.\",\"It's likely that the Bundesliga team's logos and stadium will return to FIFA later this year after they ended their current agreement.\",\"Cancer researchers are increasingly exploring whether they can eliminate or scale back treatments to spare patients from tough side effects\\u2014and costs\\u2014without jeopardizing survival.\",\"Police Officer Taylor Saulters claimed the suspect ran into his car and bounced off.\",\"In each episode, HBO droll family drama gets more compelling.\",\"WASHINGTON (AP) \\u2014 A group of top business economists believes the major tax cuts President Donald Trump pushed through Congress will give a significant boost to economic growth this year and next year. But they worry that by 2020, the country could be entering a new recession. The National Association for Business Economics says in its latest quarterly outlook that its panel of 45 economists expects the economy, as measured by the gross domestic product, to expand 2.8 percent this year. That is down slightly from the panel's March forecast, which put GDP growth this year at 2.9 percent.\",\"Six people are reported killed and Guatemala City's airport closes after Fuego spews ash and smoke.\",\"Michael McCormack calls party colleagues the \\u2018finest people in regional Australia\\u2019\",\"Justin Trudeau\\u2019s negotiators made a final push to find a Nafta deal in time to get it through Congress, then hit a wall with Donald Trump.\",\"The assertion by President Trump\\u2019s lawyers that he inherently cannot obstruct justice would essentially mean the president is above the law.\",\"Twenty-five have been killed and hundreds injured after Guatemala's Fuego volcano erupted, officials say.\",\"Netflix\\u2019s revival of Arrested Development may have had a mixed reception from critics and fans, but the dysfunctional Bluth family isn\\u2019t done yet. Five years after the premiere of the much-anticipated fourth season, Arrested Development is back for season five \\u2014 or rather, the first eig\\u2026\",\"Ariya Jutanugarn wins the US Women's Open at the fourth play-off hole against Hyo Joo Kim at Shoal Creek in Alabama.\",\"The demographics are evolving fast in the once reliably Republican suburbs of Southern California, but what that will mean at the ballot box remains a big question mark for the midterms.\",\"Lava closes roads, destroys a freshwater lake as National Guard evacuates residents.\",\"Pruitt's close ties to coal baron one more concern about EPA chief.\",\"His lawyer says he \\\"probably\\\" has the power to pardon himself in the Russia collusion investigation.\",\"BBC News went to the IAEA\\u2019s labs near Vienna to find out how they inspect the world's nuclear sites.\",\"A volcano erupted southwest of Guatemala City on Sunday, killing several people. An undetermined number of people are missing following the eruption, which spewed gas four miles into the sky.\",\"The president\\u2019s lawyer says Trump may have the constitutional authority to pardon himself but says the political consequences would be extreme.\",\"The deed has been done. Hue Jackson has taken the plunge. The Browns coach on Friday made good on his guarantee to jump into Lake Erie if his team didn't win more than one game in 2017.\",\"Sustainable Energy takes a look at 10 countries embracing wind power.\",\"St Helens knock out Challenge Cup holders Hull FC in a feisty game to seal a place in the semi-finals.\",\"The pilot whale was starving to death because its stomach was so full of plastic waste.\",\"Michelle Wolf ripped Roseanne Barr in the wake of controversy over a racist tweet sent by the actor.\",\"Slovenia Democratic party on course to win 25% of the vote according to early results\",\"EL RODEO, Guatemala (AP) \\u2014 The Latest on the deadly volcano eruption in Guatemala (all times local): 10:40 p.m. Authorities in Guatemala say 18 more people have been confirmed killed by a volcanic eruption, raising the death toll to 25. Disaster agency spokesman David de Leon said late Sunday the bodies were found in the community of San Miguel Los Lotes. Seven deaths were confirmed previously. Rescuers have struggled to reach rural residents cut off by the eruption, which has also injured at least 20. Authorities have been unable to account for an undetermined number of people and say they fear the death toll could rise.\",\"The demo for Beware is a short horror and exploration game set on a dark and deserted road. The player must find clues and solve small puzzles all while being chased by unknown assailants.\",\"People aren't 100% convinced the image hasn't been altered.\",\"Former Real Madrid goalkeeper Francisco Buyo hit out at Barcelona star Lionel Messi.\",\"SUNRISE, Fla. (AP) \\u2014 Graduating seniors at the Florida high school where a gunman killed 17 people in February received diplomas Sunday and heard from surprise commencement speaker Jimmy Fallon, who urged them to move forward and \\\"don't let anything stop you.\\\" Four families received diplomas on behalf of loved ones slain in the attack that gave rise to a campaign by teens for gun control. Principal Ty Thompson underscored the honors for the dead students in a tweet. \\\"Remember those not with us, and celebrate all the successes the Class of 2018 has brought to the community and the world!\\\" Thompson tweeted.\",\"Simon Cowell had teased earlier in the week that the winner would pick up more than just \\u00a3250,000 and a spot at the Royal Variety Performance\",\"A study looking at the health of\\u00a0\\u00a0birds that supplement their diets at rubbish dumps and landfill sites suggests they may be paying heavy price for easy calories and weight gain\",\"Karim Benzema denied he got lucky for his Champions League final goal against Liverpool.\",\"Sometimes the best SUV is a minivan.\",\"If Democrats let Republicans run with anti-immigrant messaging during the primaries, it could be hard for them to regain control of the narrative in a general election.\",\"Microsoft will reportedly announce it has acquired GitHub as early as Monday\",\"We\\u2019ve all been there. Bounced around to different departments, put on hold, shifted from agent to agent, forced to repeat our mailing address or ticket number or describe the problem ...\",\"One of the greatest players on the planet is back with a bang, just in time for the World Cup. Neymar had been out with a fractured metatarsal and sprained ankle since February but returned as a substitute for Brazil in a friendly against Croatia at Anfield.\\u00a0 It took the world's most expensive player just\\u00a023 minutes and 33 seconds to find his feet, and it was classic Neymar. He recieved the ball just inside the box and\\u00a0cut inside, beating two men\\u00a0before rifling the ball in off the crossbar.\",\"Rob Gronkowski shaved his head for charity on Sunday. He also alleviated concerns about his status going forward, telling reporters he will be in attendance for Patriots mandatory minicamp.\",\"Full Frontal with Samantha Bee is set to return on Wednesday and she will reportedly address the Ivanka Trump c-word controversy.\",\"Caisse de Depot et Placement du Quebec is constructing a railway for Montreal. It's already in talks for similar projects in the U.S.\",\"Obama did \\\"more to exacerbate racism in this country,\\\" Santorum claims.\",\"RSPCA says Berejiklian government\\u2019s plan ignores evidence and should be reconsidered\",\"An essay by Philippe Legrain written in three parts over a week based on reader feedback\",\"It can happen within two weeks of Brexit\",\"China warned Sunday after another round of talks on a sprawling trade dispute with Washington that any deals they produce \\\"will not take effect\\\" if President Donald Trump's threatened tariff hike on Chinese goods goes ahead.\",\"Sorry people: you shouldn't hold your breath for new hardware at WWDC.\",\"Philippe Coutinho has claimed Mohamed Salah and Neymar have a \\u201cserious chance\\u201d of\\u00a0eclipsing\\u00a0Lionel Messi and Cristiano Ronaldo and becoming\\u00a0the world\\u2019s best players.\\u00a0 Coutinho has played alongside Salah and Neymar\\u00a0and currently plays with Neymar for the Brazil national team.\\u00a0 Brazil\\u2019s star man, who now plies his trade at PSG, has been brilliant since he signed for Barca in June 2013 but has struggled to reach the same level as the Argentine and Portuguese poster boys.\",\"A coach's challenge system on referees' calls will get an experimental test run during this year's NBA Summer League in Las Vegas, league sources say.\",\"Footage shows crustacean making bid for freedom at restaurant in China\",\"#relationshipgoals\",\"Why can't we just have this? It would be absolutely epic.\",\"The prospect of a summit between Donald Trump and Kim Jong Un this month is sharpening focus on the dividends should North Korea -- one of the world\\u2019s poorest nations -- become plugged into one of the globe\\u2019s most dynamic economic regions.\",\"She's already appeared in campaigns for ASOS magazine and H&M.\",\"What is Han's real name, anyway?\",\"The Geordie Shore lasses are getting to the bottom about what's going on.\",\"The desperate animal made a drastic bid for freedom from the hot soup.\",\"Rough Guide readers were asked to vote for a destination.\",\"Orange lipstick under eyes. Gun control messages on tassels and caps. Here's how Parkland students and teachers silently raised their voices at graduation.\",\"Trump is using creative interpretations of old laws to authorize radical interventions in the economy. That should worry conservatives.\",\"Daniel Salloi, Wan Kuzain, Cristian Lobato and Diego Rubio helped extend Sporting Kansas City's unbeaten streak in MLS on Sunday.\",\"The imminent demise of Mariano Rajoy\",\"President Donald Trump's lawyers are gambling with the special counsel Robert Mueller, who is spearheading the FBI's Russia investigation, as they prepare to duke it out with him in either Congress or the courts.\",\"There's a stark contrast between the top retailers in 1970 compared with last year.\",\"A new album, majestic horses, Kid Cudi \\u2014 MTV News was there for it all\",\"North Korea's top three military officials have been replaced ahead of an historic summit between leader Kim Jong Un and US President Donald Trump, according to multiple reports.\",\"The last couple years have brought a number of great typecheckers to JavaScript: Facebook\\u2019s Flow and Microsoft\\u2019s TypeScript have both been\\u2026\",\"The hottest planets in the universe are half star, half cloudy oasis. In the light, it\\u2019s too hot for molecules to hold together, but they reform into clouds on the dark side\",\"The multiplayer-only Evolve Stage 2 will have its virtual currency bundles removed from purchase on July 2.\",\"Ben opts for a risky conversational gambit when he admits to cheating on his teenage girlfriend, who he dated between the ages of 15-19\",\"The planned June 12 Trump-Kim summit took centre stage at the Asian security conference in Singapore.\",\"The United States urges China to make a full public account of those killed, detained or who went missing during a crackdown on student-led pro-democracy protests in and around Beijing's Tiananmen Square in 1989, Secretary of State Mike Pompeo said.\",\"With a lack of earnings and major economic reports, markets could focus more heavily on trade-related headlines in the coming week, and they could get nasty as President Donald Trump prepares to meet world leaders in Canada.\",\"Dreams help us store memories, enabling us to learn. Now a study has revealed that it\\u2019s the boring dreams we have during deep sleep that are the most important\",\"Winning online requires familiarity with a deep toolset\",\"We found out how good Canada\\u2019s chief executive officers are at the game.\",\"Samsung's biggest phone is coming sooner than usual\",\"US officials believe there was dissent over Kim Jong-un\\u2019s approach to foreign diplomacy\",\"Australia's largest lender was accused of breaching money laundering and terror financing laws.\",\"India Business News: Having decided to turn down frivolous concerns raised by investigative agencies, the government has put in place a detailed protocol for clearing all\",\"Researchers observe time crystal and quasicrystal, throw in supersolid for fun.\",\"The Lyon attacker is on the move to Anfield.\",\"Take a step into the world of Harry Potter at the official tour in London's Warner Bros. studio. See iconic sets featured in the films, such as the Great...\",\"The singer's quick rise to fame has left him wondering 'what next?'...\",\"It's easy to get addicted to your smartphone...\",\"17105 points and 408 comments so far on reddit\",\"Although U.N. sanctions have limited growth, North Korea\\u2019s financial health \\u2014 and the physical health of its people \\u2014 seem to be stabilizing\",\"Bernard finds himself dealing with new programming while the Mesa comes under attack.\",\"The Super Eagles might have a difficult in Russia including Argentina but they'll have the best players in the World Cup.\",\"Canberra man Graham Dillon is sentenced to 41 years in jail, 36 of them for the murder of his nine-year-old son Bradyn.\",\"If Donald Trump prevails in his clash with Special Counsel Robert Mueller, one of his legacies may be to redefine the limits of presidential power -- a constitutional concept so amorphous that even his own lawyers\\u2019 views on the matter appear to evolve.\",\"6643 points and 94 comments so far on reddit\",\"improv isn\\u2019t just about comedy \\u2014 in fact, it didn\\u2019t even start out that way. Instead, it could be used to hone social skills and make you a better leader, Second City directors Anne Libera and Kelly Leonard said at the Code Conference.\",\"The security company is on the upswing of late.\",\"Aviation authorities closed the capital\\u2019s international airport because of the danger posed to planes by the ash.\",\"Rudy Giuliani, an attorney for Donald Trump, says the president \\u2018has no need\\u2019 to pardon himself, \\u2018he\\u2019s done nothing wrong\\u2019\",\"Together, the eleven singletons were spotted gaining access to the surveillance complex in Mallorca, Spain, on Sunday afternoon...\",\"Plus, insight into the newest expansion Victory is Life.\",\"Just two weeks after it successfully launched a batch of satellites into orbit, SpaceX will launch a SES-12 satellite from Cape Canaveral in Florida, with its launch window beginning at 12:29 AM EDT on Monday morning.\",\"What's in store for Apple's set top box line?\",\"One witness was concerned enough to start taking pictures and even timed how long it took for the dog's owner to return\",\"In an interview with Business Insider, Philip...\",\"But it\\u2019s not available until Holiday 2018\",\"EL RODEO, Guatemala (AP) \\u2014 A fiery volcanic eruption in Guatemala sent lava flowing into rural communities, killing at least 25 as rescuers struggled to reach people where homes and roads were charred and blanketed with ash. The death toll rose late Sunday with 18 bodies found in the community of San Miguel Los Lotes, disaster agency spokesman David de Leon said, adding to the seven victims previously confirmed elsewhere earlier in the day. At least 20 people were injured, and authorities have said they feared the death toll could rise with an undetermined number of people unaccounted for.\",\"Why the Iqaluit folk-rock quintet are putting their Inuit roots front and centre.\",\"Michael Crabtree is in his new digs, where he's realized he's suddenly the wise veteran among his fellow receivers. That means he'll have to lead, whether he likes it or not.\",\"Police identify hit-and-run suspect as 58-year-old Mona Elease Williams; it's not immediately clear if she has an attorney who can comment on her behalf\",\"The Treasury secretary, Steven Mnuchin, has managed to stay in President Trump\\u2019s good graces while advocating a more free-trade approach, but that balancing act is showing signs of strain.\",\"Imgur\",\"Ben Dickson Contributor Ben Dickson is a software engineer and the founder of TechTalks. More posts by this contributor Unlocking the potential of eye tracking technology Can you trust crypto-token crowdfunding? A while back, a blockchain startup approached me with their pitch, a decentralized soci\\u2026\",\"Palestinian Football Association chief Jibril Rajoub called for fans to target Lionel Messi in Argentina's friendly against Israel.\",\"So little time, so many electronics.\",\"With the Scotiabank SCENE Banking Bundle, you can have date nights on lock for life. But is your inner age more drawn to the classics or is it rated 14A?\",\"US & Canada News News: The search has been on for nine years, since his team in 2009 came up with the first inorganic blue in 200 years, which soon became a billion-dollar c\",\"The prospect of 30-mile tailbacks at Dover rears its head\",\"President Trump may have put a big target on Senator Jon Tester\\u2019s back, but the Democrat is confident that Montanans know where he stands.\",\"Nigeria captain John Obi Mikel reckons England are potential World Cup winners. England beat the Super Eagles 2-1 at Wembley\\u00a0on Saturday as goals from Gary Cahill and captain Harry Kane kicked off the Three Lions'\\u00a0preparations for Russia with a win. Arsenal's Alex Iwobi pulled one back for the visitors, who are also World Cup-bound, but the hosts did enough to secure the victory.\",\"Borussia Monchengladbach are in negotiations for Inter full-back Dalbert, but the Nerazzurri want to make back their money.\",\"'You bring color to my life, baby' \\ud83c\\udf08\",\"17425 points and 161 comments so far on reddit\",\"Many more people have been injured after the huge eruption triggered fiery explosions of ash and molten rock in Guatemala.\",\"Guatemala's Fuego volcano erupted on Sunday, leaving at least 25 people dead and 20 injured, as Guatemalan officials warned of continued volcanic activity.\",\"Action fans have a lot to discover on Netflix, including ultraviolent thrillers, adventures for all ages, buddy cop comedies and classic animation. These are the best action movies on Netflix Streaming right now.\",\"Manchester United are plotting a \\u00a350 million move for Fulham starlet Ryan Sessegnon, but the player reportedly would prefer a move to Liverpool. According to The Sun, Tottenham Hotspur, Arsenal and Chelsea are all tracking the burgeoning star, but it is United who will make a \\u00a350 million move for him this summer. The 18-year-old enjoyed an incredible season as he helped the Cottagers back to the Premier League and the club have maintained he is not for sale. However, should a move materialise, it seems as though Manchester United would be in pole position.\",\"Dancing around the transactional nature of love on SATC.\",\"Whether you\\u2019re a small e-commerce startup or a multinational online sales platform, your need for accurate data analysis is at a premium. You need customer and visitor data in order ...\",\"BEIJING (AP) \\u2014 China has balked at stepping up its purchases of American products, raising the odds of a trade war, if President Donald Trump follows through on his threat to tax billions of dollars' worth of Chinese imports. The warning from Beijing came after delegations led by U.S. Commerce Secretary Wilbur Ross and China's top economic official, Vice Premier Liu He, wrapped up talks on Beijing's pledge to narrow its trade surplus. White House advisers were insisting on fundamental changes in ties between the world's two biggest economic powers.\",\"'I'm busy ballin' / I ain't even stoppin''\",\"A combination of Microsoft and GitHub would make a lot of sense from a product and customer perspective.\",\"Paper suggests some dark matter atoms; charges are much smaller than an electron's.\",\"Apple's iOS 12 beta is poised to launch next week, June 4\",\"Over the years, psychologists and marketers alike have conducted extensive research to figure out what it is that makes us tick. Why do we do what we do? What influences our decisions? ...\",\"Just ten minutes of brisk walking, around 1,000 steps, can cut our chances of an early death by up to 15 per cent, according to new guidance from Public Health England and the Royal College of GPs.\",\"The House majority leader deflected twice, saying he was \\\"more concerned\\\" about the economy and trade discussions.\",\"This will leave everyone poorer\",\"WASHINGTON (AP) \\u2014 This was supposed to be the quiet time on Capitol Hill, but Congress returns to work Monday facing a showdown in the House over immigration while Senate Republicans are trying to stop an all-out trade war after President Donald Trump's decision to impose import tariffs on close U.S. allies. Tensions are running particularly high as Senate Majority Leader Mitch McConnell is threatening to cancel the traditional August recess as he fights Democratic opposition to GOP priorities in a show of busy-work before the midterm election.\",\"The \\\"Miniatur Wunderland\\\" exhibition, located...\",\"Former champion Novak Djokovic beats Fernando Verdasco in straight sets to reach the French Open quarter-finals.\",\"Everton defender Ashley Williams has revealed he suffered a collapsed lung during Tuesday\\u2019s draw between Wales and Mexico. The centre-half was forced off in the 20th minute of the clash at the Rose Bowl when he collided with West Ham United striker Javier Hernandez. He was rushed to the Ronald Reagan UCLA hospital in Beverly Hills, where doctors discovered he had also sustained \\u2018multiple breaks\\u2019 on two separate ribs. The 33-year-old took to his official Facebook page to assure fans he was alright, despite the gruesome injury.\",\"It is the strangest of strange bedfellows \\u2014 a CFMEU-backed super fund working in cahoots with the Catholics' super scheme to lobby for Macquarie.\",\"The front-runner to replace Jerry Brown, Lt. Gov. Gavin Newsom, has campaigned on fierce opposition to President Trump and stands to gain national prominence if elected in November.\",\"Britain's Geraint Thomas is 21 seconds adrift of race leader and Team Sky team-mate Michal Kwiatkowski after crashing in the Criterium du Dauphine prologue.\",\"\\\"There are no penalty rates in Victoria anymore mate,\\\" the bar owner wrote in an email.\",\"WASHINGTON (AP) \\u2014 First lady Melania Trump isn't joining her husband at the G7 summit in Quebec this week or planning to accompany him to the expected meeting with North Korea's leader in Singapore the week after, spokeswoman Stephanie Grisham said Sunday. Mrs. Trump's decision not to go to Quebec is a departure from last year, when she made an international summit debut at the G7 meeting in Italy and followed up at the forum of G20 industrialized and developing nations in Germany. Spouses typically get together at events of their own during the meetings of world leaders.\",\"Milan patron Yonghong Li has agreed to accept an outside investor to help refinance his debt to Elliott Management, claim Mediaset Premium.\",\"Nikon and Canon have full-frame mirrorless cameras coming, but Sony have raised the bar.\",\"Executives at Apple Inc.\\u2019s annual developers conference Monday have to not only wow the audience with new features but also shore up confidence that Apple can deliver quality software.\",\"\\\"There are injured, burned and dead people.\\\"\",\"7344 points and 216 comments so far on reddit\",\"A gene that evolved in humans over 3 millions years ago accelerated brain growth\\u00a0 - but there was a serious trade-off\",\"On the 29th anniversary of the crackdown in Beijing, protesters are reenacting the historic face-off between a lone man and a Chinese tank\",\"Early on Sunday morning, the sand mining mafia tried to mow down a sub-divisional magistrate (SDM) of Gunnaur in Sambhal district with tractor trolley\",\"Felix Sater says he lived a double life, building Trump Towers by day and hunting terrorists by night. Now he finds himself at the centre of the story of the century.\",\"The public servant has faced scrutiny about his membership of the rightwing thinktank, the Institute of Public Affairs\",\"WASHINGTON (AP) \\u2014 As the White House sharpened its legal and political defenses against the special counsel Russia probe, an attorney for President Donald Trump's legal team made it clear that it would combat any effort to force the president to testify in front of a grand jury. Rudy Giuliani on Sunday underscored one of the main arguments in a newly unveiled letter sent by Trump's lawyers to special counsel Robert Mueller back in January: that a president can't be given a grand jury subpoena as part of the investigation into foreign meddling in the 2016 election.\",\"Former PM questioned over insulation program in class action brought by more than 140 suppliers and installers\",\"Catherine Healy, who helped decriminalise prostitution, honoured with an Order of Merit for services to the rights of sex workers\",\"Italy's anti-immigrant interior minister will likely run into obstacles, but his party is less constrained than before.\"],\"index\":[0,1,2,3,4,5,6,7,8,9,10,11,12,13,14,15,16,17,18,19,20,21,22,23,24,25,26,27,28,29,30,31,32,33,34,35,36,37,38,39,40,41,42,43,44,45,46,47,48,49,50,51,52,53,54,55,56,57,58,59,60,61,62,63,64,65,66,67,68,69,70,71,72,73,74,75,76,77,78,79,80,81,82,83,84,85,86,87,88,89,90,91,92,93,94,95,96,97,98,99,100,101,102,103,104,105,106,107,108,109,110,111,112,113,114,115,116,117,118,119,120,121,122,123,124,125,126,127,128,129,130,131,132,133,134,135,136,137,138,139,140,141,142,143,144,145,146,147,148,149,150,151,152,153,154,155,156,157,158,159,160,161,162,163,164,165,166,167,168,169,170,171,172,173,174,175,176,177,178,179,180,181,182,183,184,185,186,187,188,189,190,191,192,193,194,195,196,197,198,199,200,201,202,203,204,205,206,207,208,209,210,211,212,213,214,215,216,217,218,219,220,221,222,223,224,225,226,227,228,229,230,231,232,233,234,235,236,237,238,239,240,241,242,243,244,245,246,247,248,249,250,251,252,253,254,255,256,257,258,259,260,261,262,263,264,265,266,267,268,269,270,271,272,273,274,275,276,277,278,279,280,281,282,283,284,285,286,287,288,289,290,291,292,293,294,295,296,297,298,299,300,301,302,303,304,305,306,307,308,309,310,311,312,313,314,315,316,317,318,319,320,321,322,323,324,325,326,327,328,329,330,331,332,333,334,335,336,337,338,339,340,341,342,343,344,345,346,347,348,349,350,351,352,353,354,355,356,357,358,359,360,361,362,363,364,365,366,367,368,369,370,371,372,373,374,375,376,377,378,379,380,381,382,383,384,385,386,387,388,389,390,391,392,393,394,395,396,397,398,399],\"x\":{\"__ndarray__\":\"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\",\"dtype\":\"float32\",\"shape\":[400]},\"y\":{\"__ndarray__\":\"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\",\"dtype\":\"float32\",\"shape\":[400]}},\"selected\":{\"id\":\"c71ba281-e8c7-46ea-b361-20d538291683\",\"type\":\"Selection\"},\"selection_policy\":{\"id\":\"b67be597-01f2-43e9-923a-1733f47253e0\",\"type\":\"UnionRenderers\"}},\"id\":\"80f40d6a-b2f5-49e5-823f-7a37522801b9\",\"type\":\"ColumnDataSource\"},{\"attributes\":{\"factors\":[\"technology\",\"sports\",\"general\",\"entertainment\",\"science\",\"business\"],\"palette\":[\"#1f77b4\",\"#ff7f0e\",\"#2ca02c\",\"#d62728\",\"#9467bd\",\"#8c564b\"]},\"id\":\"23d645b4-4e11-4b69-91bf-51c172eff18a\",\"type\":\"CategoricalColorMapper\"}],\"root_ids\":[\"35bea9f8-f2a0-4aa5-b3c8-7d873b1c2073\"]},\"title\":\"Bokeh Application\",\"version\":\"0.12.16\"}};\n",
       "  var render_items = [{\"docid\":\"855771db-981f-44ab-bc99-ba12746b32cc\",\"elementid\":\"64fd5f9f-fb80-43af-a374-608d9e1ddec6\",\"modelid\":\"35bea9f8-f2a0-4aa5-b3c8-7d873b1c2073\"}];\n",
       "  root.Bokeh.embed.embed_items_notebook(docs_json, render_items);\n",
       "\n",
       "  }\n",
       "  if (root.Bokeh !== undefined) {\n",
       "    embed_document(root);\n",
       "  } else {\n",
       "    var attempts = 0;\n",
       "    var timer = setInterval(function(root) {\n",
       "      if (root.Bokeh !== undefined) {\n",
       "        embed_document(root);\n",
       "        clearInterval(timer);\n",
       "      }\n",
       "      attempts++;\n",
       "      if (attempts > 100) {\n",
       "        console.log(\"Bokeh: ERROR: Unable to run BokehJS code because BokehJS library is missing\")\n",
       "        clearInterval(timer);\n",
       "      }\n",
       "    }, 10, root)\n",
       "  }\n",
       "})(window);"
      ],
      "application/vnd.bokehjs_exec.v0+json": ""
     },
     "metadata": {
      "application/vnd.bokehjs_exec.v0+json": {
       "id": "35bea9f8-f2a0-4aa5-b3c8-7d873b1c2073"
      }
     },
     "output_type": "display_data"
    }
   ],
   "source": [
    "output_notebook()\n",
    "plot_tfidf = bp.figure(plot_width=700, plot_height=600, title=\"tf-idf clustering of the news\",\n",
    "    tools=\"pan,wheel_zoom,box_zoom,reset,hover,previewsave\",\n",
    "    x_axis_type=None, y_axis_type=None, min_border=1)\n",
    "\n",
    "palette = d3['Category10'][len(tsne_tfidf_df['category'].unique())]\n",
    "color_map = bmo.CategoricalColorMapper(factors=tsne_tfidf_df['category'].map(str).unique(), palette=palette)\n",
    "\n",
    "plot_tfidf.scatter(x='x', y='y', color={'field': 'category', 'transform': color_map}, \n",
    "                   legend='category', source=tsne_tfidf_df)\n",
    "hover = plot_tfidf.select(dict(type=HoverTool))\n",
    "hover.tooltips={\"description\": \"@description\", \"category\":\"@category\"}\n",
    "\n",
    "show(plot_tfidf)\n",
    "plt.show()"
   ]
  },
  {
   "cell_type": "markdown",
   "metadata": {},
   "source": [
    "- We see a 2D projection of a high dimensional data. \n",
    "- Each dot is a document and the color encodes its category: notice that documents belonging to the general category (green) are scattered all over the plot while those belonging to sports (orange) are close to each other.\n",
    "- We can also hover on each data point to see the corresponding description and category"
   ]
  },
  {
   "cell_type": "markdown",
   "metadata": {},
   "source": [
    "## Topic modeling"
   ]
  },
  {
   "cell_type": "markdown",
   "metadata": {},
   "source": [
    "Our starting point is the tf-idf matrix vz. Let's check its size again."
   ]
  },
  {
   "cell_type": "code",
   "execution_count": null,
   "metadata": {},
   "outputs": [],
   "source": [
    "vz.shape"
   ]
  },
  {
   "cell_type": "markdown",
   "metadata": {},
   "source": [
    "This matrix can be seen as a collection of (x) high-dimensional vectors (y). Some algorithms like K-means can crunch this data structure and produce blocks of similar or \"close\" data points based on some similarity measure like the euclidean distance.\n",
    "\n",
    "Kmeans needs the number of cluster as parameter. This number is usually determined by trying out different values until the result satisfies a given metrics (silhouette score or distorsion)"
   ]
  },
  {
   "cell_type": "code",
   "execution_count": null,
   "metadata": {},
   "outputs": [],
   "source": [
    "import warnings\n",
    "warnings.filterwarnings(\"ignore\", category=DeprecationWarning)\n",
    "from sklearn.cluster import MiniBatchKMeans, KMeans\n",
    "from sklearn.metrics import silhouette_score\n",
    "\n",
    "from sklearn.pipeline import make_pipeline\n",
    "from sklearn.preprocessing import Normalizer"
   ]
  },
  {
   "cell_type": "markdown",
   "metadata": {},
   "source": [
    "We can pick the number of clusters by varying it in a range of possible values and compute the silhouette score and the distorsion at every iteration. The optimal number is the one that maximizes the first and minimizes the second."
   ]
  },
  {
   "cell_type": "code",
   "execution_count": null,
   "metadata": {},
   "outputs": [],
   "source": [
    "distorsions = []\n",
    "sil_scores = []\n",
    "k_max = 80\n",
    "for k in tqdm_notebook(range(2, k_max)):\n",
    "    kmeans_model = MiniBatchKMeans(n_clusters=k, init='k-means++', n_init=1, random_state=42,  \n",
    "                         init_size=1000, verbose=False, max_iter=1000)\n",
    "    kmeans_model.fit(vz)\n",
    "    sil_score = silhouette_score(vz, kmeans_model.labels_)\n",
    "    sil_scores.append(sil_score)\n",
    "    distorsions.append(kmeans_model.inertia_)"
   ]
  },
  {
   "cell_type": "code",
   "execution_count": null,
   "metadata": {
    "scrolled": false
   },
   "outputs": [],
   "source": [
    "f, (ax1, ax2) = plt.subplots(2, 1, sharex=True, figsize=(15, 10))\n",
    "\n",
    "ax1.plot(range(2, k_max), distorsions)\n",
    "ax1.set_title('Distorsion vs num of clusters')\n",
    "ax1.grid(True)\n",
    "\n",
    "ax2.plot(range(2, k_max), sil_scores)\n",
    "ax2.set_title('Silhouette score vs num of clusters')\n",
    "ax2.grid(True)"
   ]
  },
  {
   "cell_type": "markdown",
   "metadata": {},
   "source": [
    "![alt text](images/article_2/silhouette_score_and_distorsion_vs_num_clusters.png)"
   ]
  },
  {
   "cell_type": "markdown",
   "metadata": {},
   "source": [
    "So how to select the optimal number of clusters from these two plots? this is tricky. \n",
    "A small number of cluster may not capture enough topics while a large number (that can although maximize the silhouette score) may induce noise. \n",
    "\n",
    "I chose 40 for two reasons:\n",
    "\n",
    "- when you smooth the silhouette score and ignore the values before k = 10 you notice a peak around this value \n",
    "- the elbow curve (distorsion) starts to plateau at 40 clusters\n",
    "\n",
    "40 clusters. This basically means 40 main topics in a two-week period. Given that we have 8 categories of news, this results in an average number of 5 topics per category. \n",
    "\n",
    "Of course you'll have much more topics in reality. But these topics we're detecting are the most important. The recurrent ones, the ones that have been relayed many times by the media."
   ]
  },
  {
   "cell_type": "code",
   "execution_count": null,
   "metadata": {},
   "outputs": [],
   "source": [
    "num_clusters = 40\n",
    "kmeans_model = MiniBatchKMeans(n_clusters=num_clusters, init='k-means++', n_init=1, random_state=42,                       \n",
    "                         init_size=1000, batch_size=1000, verbose=False, max_iter=1000, )\n",
    "kmeans = kmeans_model.fit(vz)\n",
    "kmeans_clusters = kmeans.predict(vz)\n",
    "kmeans_distances = kmeans.transform(vz)"
   ]
  },
  {
   "cell_type": "markdown",
   "metadata": {},
   "source": [
    "Let's see the five first description and the associated cluster"
   ]
  },
  {
   "cell_type": "code",
   "execution_count": null,
   "metadata": {},
   "outputs": [],
   "source": [
    "for (i, desc),category in zip(enumerate(data.description),data['category']):\n",
    "    if(i < 5):\n",
    "        print(\"Cluster \" + str(kmeans_clusters[i]) + \": \" + desc + \n",
    "              \"(distance: \" + str(kmeans_distances[i][kmeans_clusters[i]]) + \")\")\n",
    "        print('category: ',category)\n",
    "        print('---')"
   ]
  },
  {
   "cell_type": "markdown",
   "metadata": {},
   "source": [
    "This doesn't tell us much. What we need to look up are the \"hot\" keywords that describe each clusters. "
   ]
  },
  {
   "cell_type": "code",
   "execution_count": null,
   "metadata": {},
   "outputs": [],
   "source": [
    "sorted_centroids = kmeans.cluster_centers_.argsort()[:, ::-1]\n",
    "terms = vectorizer.get_feature_names()\n",
    "all_keywords = []\n",
    "for i in range(num_clusters):\n",
    "    topic_keywords = []\n",
    "    for j in sorted_centroids[i, :10]:\n",
    "        topic_keywords.append(terms[j])\n",
    "    all_keywords.append(topic_keywords)\n",
    "\n",
    "keywords_df = pd.DataFrame(index=['topic_{0}'.format(i) for i in range(num_clusters)], \n",
    "                           columns=['keyword_{0}'.format(i) for i in range(10)],\n",
    "                           data=all_keywords)\n",
    "keywords_df"
   ]
  },
  {
   "cell_type": "markdown",
   "metadata": {},
   "source": [
    "Let's look at some topics, and *try* to summarize them in one sentence based on their keywords:\n",
    "\n",
    "- topic 0: A spoiler alert about movies (ex.  the walking dead)\n",
    "- topic 1: The super bowl event\n",
    "- topic 5: Obamacare plan to provide affordable healthcare\n",
    "- topic 7: British Football (Manchester United) and Zlatan\n",
    "- topic 18: La La Land movie release and the Oscar ceremony\n",
    "- topic 30: French political news about François Fillion (ex. french minister) and the presidential elections\n",
    "- topic 33: Oscar nominations\n",
    "- topic 36: News about the Brexit\n",
    "\n",
    "Looking at these clusters you can roughly have an idea of what's going on.\n",
    "\n",
    "Let's plot them, to have an interactive view."
   ]
  },
  {
   "cell_type": "code",
   "execution_count": null,
   "metadata": {},
   "outputs": [],
   "source": [
    "run = False\n",
    "if run:\n",
    "    tsne_model = TSNE(n_components=2, verbose=1, random_state=0, n_iter=500)\n",
    "    tsne_kmeans = tsne_model.fit_transform(svd_kmeans)\n",
    "    kmeans_df = pd.DataFrame(tsne_kmeans, columns=['x', 'y'])\n",
    "    kmeans_df['cluster'] = kmeans_clusters\n",
    "    kmeans_df['cluster'] = kmeans_df['cluster'].map(str)\n",
    "    kmeans_df['description'] = data['description']\n",
    "    kmeans_df['category'] = data['category']\n",
    "    kmeans_df.to_csv('./data/tsne_kmeans.csv', index=False, encoding='utf-8')\n",
    "else:\n",
    "    kmeans_df = pd.read_csv('./data/tsne_kmeans.csv')\n",
    "    kmeans_df['cluster'] = kmeans_df['cluster'].map(str)"
   ]
  },
  {
   "cell_type": "code",
   "execution_count": null,
   "metadata": {},
   "outputs": [],
   "source": [
    "reset_output()\n",
    "output_notebook()\n",
    "plot_kmeans = bp.figure(plot_width=700, plot_height=600, title=\"KMeans clustering of the news\",\n",
    "    tools=\"pan,wheel_zoom,box_zoom,reset,hover,previewsave\",\n",
    "    x_axis_type=None, y_axis_type=None, min_border=1)\n",
    "\n",
    "palette = d3['Category20'][20] + d3['Category20b'][20] \n",
    "color_map = bmo.CategoricalColorMapper(factors=kmeans_df['cluster'].unique(), palette=palette)\n",
    "\n",
    "plot_kmeans.scatter('x', 'y', source=kmeans_df, \n",
    "                    color={'field': 'cluster', 'transform': color_map}, \n",
    "                    legend='cluster')\n",
    "hover = plot_kmeans.select(dict(type=HoverTool))\n",
    "hover.tooltips={\"description\": \"@description\", \"cluster\": \"@cluster\", \"category\": \"@category\"}\n",
    "\n",
    "show(plot_kmeans)"
   ]
  },
  {
   "cell_type": "markdown",
   "metadata": {},
   "source": [
    "It looks that there is a dominant cluster scattered all over the space: this is mainly due to the general category of news. \n",
    "\n",
    "By hovering on each point you can see the corresponding description. At first sight you could notice that they deal approximately with the same topic. This is coherent since we build our clusters using similarities between relevant keywords.\n",
    "\n",
    "You can look up a topic in the dataframe above (based on its keywords), and switch to this plot and see the corresponding articles.\n",
    "\n",
    "Kmeans separates the documents into disjoint clusters. the assumption is that each cluster is attributed a single topic.\n",
    "\n",
    "However, descriptions may in reality be characterized by a \"mixture\" of topics. For example, let's take an article that deals with the hearing that Zuckerberg had in front of the congress: you'll obviously have different topics rising based on the keywords: Privacy, Technology, Facebook app, data, etc.\n",
    "\n",
    "We'll cover how to deal with this problem with the LDA algorithm."
   ]
  },
  {
   "cell_type": "markdown",
   "metadata": {},
   "source": [
    "### LDS (Latent Dirichlet Allocation)"
   ]
  },
  {
   "cell_type": "markdown",
   "metadata": {},
   "source": [
    "Kmeans separates the documents into disjoint clusters under the assumption that each cluster corresponds to a single topic. However, documents may in reality be characterized by a mixture of topics. This problem is dealt with by the LDA (Latent Dirichlet Allocation) algorithm.\n",
    "\n",
    "LDA considers two things:\n",
    "\n",
    "- Each document in a corpus is a weighted combination of several topics \n",
    "- Each topic has its collection of representative keywords\n",
    "\n",
    "Ultimately, these are two probability distributions that the algorithm tries to approximate, starting from a random initialization until convergence:\n",
    "\n",
    "1. For a given document, what is the distribution of topics that describe it?\n",
    "2. For a given topic, what is the distribution of its words. Put differently, what is the importance of each word in defining the topic nature? \n",
    "\n",
    "The main hyperparameter that we have to set correctly in LDA models is the number of topics.\n",
    "\n",
    "Given the number of topics, LDA starts shuffling the topic distribution in each document and the word distribution in each topic until the final results shows a high segregation of topics."
   ]
  },
  {
   "cell_type": "code",
   "execution_count": 79,
   "metadata": {},
   "outputs": [
    {
     "data": {
      "application/vnd.jupyter.widget-view+json": {
       "model_id": "bc5ab625d5bc46de9193f52d0b457eca",
       "version_major": 2,
       "version_minor": 0
      },
      "text/html": [
       "<p>Failed to display Jupyter Widget of type <code>HBox</code>.</p>\n",
       "<p>\n",
       "  If you're reading this message in the Jupyter Notebook or JupyterLab Notebook, it may mean\n",
       "  that the widgets JavaScript is still loading. If this message persists, it\n",
       "  likely means that the widgets JavaScript library is either not installed or\n",
       "  not enabled. See the <a href=\"https://ipywidgets.readthedocs.io/en/stable/user_install.html\">Jupyter\n",
       "  Widgets Documentation</a> for setup instructions.\n",
       "</p>\n",
       "<p>\n",
       "  If you're reading this message in another frontend (for example, a static\n",
       "  rendering on GitHub or <a href=\"https://nbviewer.jupyter.org/\">NBViewer</a>),\n",
       "  it may mean that your frontend doesn't currently support widgets.\n",
       "</p>\n"
      ],
      "text/plain": [
       "HBox(children=(IntProgress(value=0, max=400), HTML(value='')))"
      ]
     },
     "metadata": {},
     "output_type": "display_data"
    }
   ],
   "source": [
    "# Create a corpus and a dictionary using bigram tokens\n",
    "df = data.copy()\n",
    "\n",
    "bigram = gensim.models.Phrases(df['tokens'], min_count=5, threshold=100)\n",
    "bigram_mod = gensim.models.phrases.Phraser(bigram)\n",
    "df['tokens_bigram'] = df['tokens'].progress_map(lambda tokens: bigram_mod[tokens])\n",
    "\n",
    "id2word = corpora.Dictionary(df['tokens_bigram'])\n",
    "texts = df['tokens_bigram'].values\n",
    "corpus = [id2word.doc2bow(text) for text in texts]"
   ]
  },
  {
   "cell_type": "code",
   "execution_count": 82,
   "metadata": {},
   "outputs": [
    {
     "data": {
      "application/vnd.jupyter.widget-view+json": {
       "model_id": "e30967994f194727be8b53bd5edfd352",
       "version_major": 2,
       "version_minor": 0
      },
      "text/html": [
       "<p>Failed to display Jupyter Widget of type <code>HBox</code>.</p>\n",
       "<p>\n",
       "  If you're reading this message in the Jupyter Notebook or JupyterLab Notebook, it may mean\n",
       "  that the widgets JavaScript is still loading. If this message persists, it\n",
       "  likely means that the widgets JavaScript library is either not installed or\n",
       "  not enabled. See the <a href=\"https://ipywidgets.readthedocs.io/en/stable/user_install.html\">Jupyter\n",
       "  Widgets Documentation</a> for setup instructions.\n",
       "</p>\n",
       "<p>\n",
       "  If you're reading this message in another frontend (for example, a static\n",
       "  rendering on GitHub or <a href=\"https://nbviewer.jupyter.org/\">NBViewer</a>),\n",
       "  it may mean that your frontend doesn't currently support widgets.\n",
       "</p>\n"
      ],
      "text/plain": [
       "HBox(children=(IntProgress(value=0, max=16), HTML(value='')))"
      ]
     },
     "metadata": {},
     "output_type": "display_data"
    },
    {
     "data": {
      "application/vnd.jupyter.widget-view+json": {
       "model_id": "6d3d75bf6a7e478b971b7234b1d76102",
       "version_major": 2,
       "version_minor": 0
      },
      "text/html": [
       "<p>Failed to display Jupyter Widget of type <code>HBox</code>.</p>\n",
       "<p>\n",
       "  If you're reading this message in the Jupyter Notebook or JupyterLab Notebook, it may mean\n",
       "  that the widgets JavaScript is still loading. If this message persists, it\n",
       "  likely means that the widgets JavaScript library is either not installed or\n",
       "  not enabled. See the <a href=\"https://ipywidgets.readthedocs.io/en/stable/user_install.html\">Jupyter\n",
       "  Widgets Documentation</a> for setup instructions.\n",
       "</p>\n",
       "<p>\n",
       "  If you're reading this message in another frontend (for example, a static\n",
       "  rendering on GitHub or <a href=\"https://nbviewer.jupyter.org/\">NBViewer</a>),\n",
       "  it may mean that your frontend doesn't currently support widgets.\n",
       "</p>\n"
      ],
      "text/plain": [
       "HBox(children=(IntProgress(value=0, max=400), HTML(value='')))"
      ]
     },
     "metadata": {},
     "output_type": "display_data"
    },
    {
     "data": {
      "application/vnd.jupyter.widget-view+json": {
       "model_id": "87ed3b306f5342a8854be65ee418d6c4",
       "version_major": 2,
       "version_minor": 0
      },
      "text/html": [
       "<p>Failed to display Jupyter Widget of type <code>HBox</code>.</p>\n",
       "<p>\n",
       "  If you're reading this message in the Jupyter Notebook or JupyterLab Notebook, it may mean\n",
       "  that the widgets JavaScript is still loading. If this message persists, it\n",
       "  likely means that the widgets JavaScript library is either not installed or\n",
       "  not enabled. See the <a href=\"https://ipywidgets.readthedocs.io/en/stable/user_install.html\">Jupyter\n",
       "  Widgets Documentation</a> for setup instructions.\n",
       "</p>\n",
       "<p>\n",
       "  If you're reading this message in another frontend (for example, a static\n",
       "  rendering on GitHub or <a href=\"https://nbviewer.jupyter.org/\">NBViewer</a>),\n",
       "  it may mean that your frontend doesn't currently support widgets.\n",
       "</p>\n"
      ],
      "text/plain": [
       "HBox(children=(IntProgress(value=0, max=400), HTML(value='')))"
      ]
     },
     "metadata": {},
     "output_type": "display_data"
    },
    {
     "data": {
      "application/vnd.jupyter.widget-view+json": {
       "model_id": "a6bff5cd0931478e957b233b75d4f00f",
       "version_major": 2,
       "version_minor": 0
      },
      "text/html": [
       "<p>Failed to display Jupyter Widget of type <code>HBox</code>.</p>\n",
       "<p>\n",
       "  If you're reading this message in the Jupyter Notebook or JupyterLab Notebook, it may mean\n",
       "  that the widgets JavaScript is still loading. If this message persists, it\n",
       "  likely means that the widgets JavaScript library is either not installed or\n",
       "  not enabled. See the <a href=\"https://ipywidgets.readthedocs.io/en/stable/user_install.html\">Jupyter\n",
       "  Widgets Documentation</a> for setup instructions.\n",
       "</p>\n",
       "<p>\n",
       "  If you're reading this message in another frontend (for example, a static\n",
       "  rendering on GitHub or <a href=\"https://nbviewer.jupyter.org/\">NBViewer</a>),\n",
       "  it may mean that your frontend doesn't currently support widgets.\n",
       "</p>\n"
      ],
      "text/plain": [
       "HBox(children=(IntProgress(value=0, max=400), HTML(value='')))"
      ]
     },
     "metadata": {},
     "output_type": "display_data"
    },
    {
     "data": {
      "application/vnd.jupyter.widget-view+json": {
       "model_id": "848cdaedd85c48b7bfabbf17ed13aced",
       "version_major": 2,
       "version_minor": 0
      },
      "text/html": [
       "<p>Failed to display Jupyter Widget of type <code>HBox</code>.</p>\n",
       "<p>\n",
       "  If you're reading this message in the Jupyter Notebook or JupyterLab Notebook, it may mean\n",
       "  that the widgets JavaScript is still loading. If this message persists, it\n",
       "  likely means that the widgets JavaScript library is either not installed or\n",
       "  not enabled. See the <a href=\"https://ipywidgets.readthedocs.io/en/stable/user_install.html\">Jupyter\n",
       "  Widgets Documentation</a> for setup instructions.\n",
       "</p>\n",
       "<p>\n",
       "  If you're reading this message in another frontend (for example, a static\n",
       "  rendering on GitHub or <a href=\"https://nbviewer.jupyter.org/\">NBViewer</a>),\n",
       "  it may mean that your frontend doesn't currently support widgets.\n",
       "</p>\n"
      ],
      "text/plain": [
       "HBox(children=(IntProgress(value=0, max=400), HTML(value='')))"
      ]
     },
     "metadata": {},
     "output_type": "display_data"
    },
    {
     "data": {
      "application/vnd.jupyter.widget-view+json": {
       "model_id": "e7ae4ca26918402c83ac2cc9702e8c6d",
       "version_major": 2,
       "version_minor": 0
      },
      "text/html": [
       "<p>Failed to display Jupyter Widget of type <code>HBox</code>.</p>\n",
       "<p>\n",
       "  If you're reading this message in the Jupyter Notebook or JupyterLab Notebook, it may mean\n",
       "  that the widgets JavaScript is still loading. If this message persists, it\n",
       "  likely means that the widgets JavaScript library is either not installed or\n",
       "  not enabled. See the <a href=\"https://ipywidgets.readthedocs.io/en/stable/user_install.html\">Jupyter\n",
       "  Widgets Documentation</a> for setup instructions.\n",
       "</p>\n",
       "<p>\n",
       "  If you're reading this message in another frontend (for example, a static\n",
       "  rendering on GitHub or <a href=\"https://nbviewer.jupyter.org/\">NBViewer</a>),\n",
       "  it may mean that your frontend doesn't currently support widgets.\n",
       "</p>\n"
      ],
      "text/plain": [
       "HBox(children=(IntProgress(value=0, max=400), HTML(value='')))"
      ]
     },
     "metadata": {},
     "output_type": "display_data"
    },
    {
     "data": {
      "application/vnd.jupyter.widget-view+json": {
       "model_id": "75d8c33ddb1a45f08300152761789ccb",
       "version_major": 2,
       "version_minor": 0
      },
      "text/html": [
       "<p>Failed to display Jupyter Widget of type <code>HBox</code>.</p>\n",
       "<p>\n",
       "  If you're reading this message in the Jupyter Notebook or JupyterLab Notebook, it may mean\n",
       "  that the widgets JavaScript is still loading. If this message persists, it\n",
       "  likely means that the widgets JavaScript library is either not installed or\n",
       "  not enabled. See the <a href=\"https://ipywidgets.readthedocs.io/en/stable/user_install.html\">Jupyter\n",
       "  Widgets Documentation</a> for setup instructions.\n",
       "</p>\n",
       "<p>\n",
       "  If you're reading this message in another frontend (for example, a static\n",
       "  rendering on GitHub or <a href=\"https://nbviewer.jupyter.org/\">NBViewer</a>),\n",
       "  it may mean that your frontend doesn't currently support widgets.\n",
       "</p>\n"
      ],
      "text/plain": [
       "HBox(children=(IntProgress(value=0, max=400), HTML(value='')))"
      ]
     },
     "metadata": {},
     "output_type": "display_data"
    },
    {
     "data": {
      "application/vnd.jupyter.widget-view+json": {
       "model_id": "a894380a733f4efb83e0a78ef9b2683d",
       "version_major": 2,
       "version_minor": 0
      },
      "text/html": [
       "<p>Failed to display Jupyter Widget of type <code>HBox</code>.</p>\n",
       "<p>\n",
       "  If you're reading this message in the Jupyter Notebook or JupyterLab Notebook, it may mean\n",
       "  that the widgets JavaScript is still loading. If this message persists, it\n",
       "  likely means that the widgets JavaScript library is either not installed or\n",
       "  not enabled. See the <a href=\"https://ipywidgets.readthedocs.io/en/stable/user_install.html\">Jupyter\n",
       "  Widgets Documentation</a> for setup instructions.\n",
       "</p>\n",
       "<p>\n",
       "  If you're reading this message in another frontend (for example, a static\n",
       "  rendering on GitHub or <a href=\"https://nbviewer.jupyter.org/\">NBViewer</a>),\n",
       "  it may mean that your frontend doesn't currently support widgets.\n",
       "</p>\n"
      ],
      "text/plain": [
       "HBox(children=(IntProgress(value=0, max=400), HTML(value='')))"
      ]
     },
     "metadata": {},
     "output_type": "display_data"
    },
    {
     "data": {
      "application/vnd.jupyter.widget-view+json": {
       "model_id": "83c0b93a880f4e80a0d43618a91c5ead",
       "version_major": 2,
       "version_minor": 0
      },
      "text/html": [
       "<p>Failed to display Jupyter Widget of type <code>HBox</code>.</p>\n",
       "<p>\n",
       "  If you're reading this message in the Jupyter Notebook or JupyterLab Notebook, it may mean\n",
       "  that the widgets JavaScript is still loading. If this message persists, it\n",
       "  likely means that the widgets JavaScript library is either not installed or\n",
       "  not enabled. See the <a href=\"https://ipywidgets.readthedocs.io/en/stable/user_install.html\">Jupyter\n",
       "  Widgets Documentation</a> for setup instructions.\n",
       "</p>\n",
       "<p>\n",
       "  If you're reading this message in another frontend (for example, a static\n",
       "  rendering on GitHub or <a href=\"https://nbviewer.jupyter.org/\">NBViewer</a>),\n",
       "  it may mean that your frontend doesn't currently support widgets.\n",
       "</p>\n"
      ],
      "text/plain": [
       "HBox(children=(IntProgress(value=0, max=400), HTML(value='')))"
      ]
     },
     "metadata": {},
     "output_type": "display_data"
    },
    {
     "data": {
      "application/vnd.jupyter.widget-view+json": {
       "model_id": "2df9c56df31b44a596d95820e3b9287e",
       "version_major": 2,
       "version_minor": 0
      },
      "text/html": [
       "<p>Failed to display Jupyter Widget of type <code>HBox</code>.</p>\n",
       "<p>\n",
       "  If you're reading this message in the Jupyter Notebook or JupyterLab Notebook, it may mean\n",
       "  that the widgets JavaScript is still loading. If this message persists, it\n",
       "  likely means that the widgets JavaScript library is either not installed or\n",
       "  not enabled. See the <a href=\"https://ipywidgets.readthedocs.io/en/stable/user_install.html\">Jupyter\n",
       "  Widgets Documentation</a> for setup instructions.\n",
       "</p>\n",
       "<p>\n",
       "  If you're reading this message in another frontend (for example, a static\n",
       "  rendering on GitHub or <a href=\"https://nbviewer.jupyter.org/\">NBViewer</a>),\n",
       "  it may mean that your frontend doesn't currently support widgets.\n",
       "</p>\n"
      ],
      "text/plain": [
       "HBox(children=(IntProgress(value=0, max=400), HTML(value='')))"
      ]
     },
     "metadata": {},
     "output_type": "display_data"
    },
    {
     "data": {
      "application/vnd.jupyter.widget-view+json": {
       "model_id": "5d516ef2e77b4d17bb312029eb4a1691",
       "version_major": 2,
       "version_minor": 0
      },
      "text/html": [
       "<p>Failed to display Jupyter Widget of type <code>HBox</code>.</p>\n",
       "<p>\n",
       "  If you're reading this message in the Jupyter Notebook or JupyterLab Notebook, it may mean\n",
       "  that the widgets JavaScript is still loading. If this message persists, it\n",
       "  likely means that the widgets JavaScript library is either not installed or\n",
       "  not enabled. See the <a href=\"https://ipywidgets.readthedocs.io/en/stable/user_install.html\">Jupyter\n",
       "  Widgets Documentation</a> for setup instructions.\n",
       "</p>\n",
       "<p>\n",
       "  If you're reading this message in another frontend (for example, a static\n",
       "  rendering on GitHub or <a href=\"https://nbviewer.jupyter.org/\">NBViewer</a>),\n",
       "  it may mean that your frontend doesn't currently support widgets.\n",
       "</p>\n"
      ],
      "text/plain": [
       "HBox(children=(IntProgress(value=0, max=400), HTML(value='')))"
      ]
     },
     "metadata": {},
     "output_type": "display_data"
    },
    {
     "data": {
      "application/vnd.jupyter.widget-view+json": {
       "model_id": "fa30c3479ee7466b86373af03016b7ab",
       "version_major": 2,
       "version_minor": 0
      },
      "text/html": [
       "<p>Failed to display Jupyter Widget of type <code>HBox</code>.</p>\n",
       "<p>\n",
       "  If you're reading this message in the Jupyter Notebook or JupyterLab Notebook, it may mean\n",
       "  that the widgets JavaScript is still loading. If this message persists, it\n",
       "  likely means that the widgets JavaScript library is either not installed or\n",
       "  not enabled. See the <a href=\"https://ipywidgets.readthedocs.io/en/stable/user_install.html\">Jupyter\n",
       "  Widgets Documentation</a> for setup instructions.\n",
       "</p>\n",
       "<p>\n",
       "  If you're reading this message in another frontend (for example, a static\n",
       "  rendering on GitHub or <a href=\"https://nbviewer.jupyter.org/\">NBViewer</a>),\n",
       "  it may mean that your frontend doesn't currently support widgets.\n",
       "</p>\n"
      ],
      "text/plain": [
       "HBox(children=(IntProgress(value=0, max=400), HTML(value='')))"
      ]
     },
     "metadata": {},
     "output_type": "display_data"
    },
    {
     "data": {
      "application/vnd.jupyter.widget-view+json": {
       "model_id": "8334f35832b04a58bc0eb87a1b7d99ef",
       "version_major": 2,
       "version_minor": 0
      },
      "text/html": [
       "<p>Failed to display Jupyter Widget of type <code>HBox</code>.</p>\n",
       "<p>\n",
       "  If you're reading this message in the Jupyter Notebook or JupyterLab Notebook, it may mean\n",
       "  that the widgets JavaScript is still loading. If this message persists, it\n",
       "  likely means that the widgets JavaScript library is either not installed or\n",
       "  not enabled. See the <a href=\"https://ipywidgets.readthedocs.io/en/stable/user_install.html\">Jupyter\n",
       "  Widgets Documentation</a> for setup instructions.\n",
       "</p>\n",
       "<p>\n",
       "  If you're reading this message in another frontend (for example, a static\n",
       "  rendering on GitHub or <a href=\"https://nbviewer.jupyter.org/\">NBViewer</a>),\n",
       "  it may mean that your frontend doesn't currently support widgets.\n",
       "</p>\n"
      ],
      "text/plain": [
       "HBox(children=(IntProgress(value=0, max=400), HTML(value='')))"
      ]
     },
     "metadata": {},
     "output_type": "display_data"
    },
    {
     "data": {
      "application/vnd.jupyter.widget-view+json": {
       "model_id": "6eaf0d2032fa4dd0a1fda7e7c9474177",
       "version_major": 2,
       "version_minor": 0
      },
      "text/html": [
       "<p>Failed to display Jupyter Widget of type <code>HBox</code>.</p>\n",
       "<p>\n",
       "  If you're reading this message in the Jupyter Notebook or JupyterLab Notebook, it may mean\n",
       "  that the widgets JavaScript is still loading. If this message persists, it\n",
       "  likely means that the widgets JavaScript library is either not installed or\n",
       "  not enabled. See the <a href=\"https://ipywidgets.readthedocs.io/en/stable/user_install.html\">Jupyter\n",
       "  Widgets Documentation</a> for setup instructions.\n",
       "</p>\n",
       "<p>\n",
       "  If you're reading this message in another frontend (for example, a static\n",
       "  rendering on GitHub or <a href=\"https://nbviewer.jupyter.org/\">NBViewer</a>),\n",
       "  it may mean that your frontend doesn't currently support widgets.\n",
       "</p>\n"
      ],
      "text/plain": [
       "HBox(children=(IntProgress(value=0, max=400), HTML(value='')))"
      ]
     },
     "metadata": {},
     "output_type": "display_data"
    },
    {
     "data": {
      "application/vnd.jupyter.widget-view+json": {
       "model_id": "e5ef44db650444be9deee4faea28d4f4",
       "version_major": 2,
       "version_minor": 0
      },
      "text/html": [
       "<p>Failed to display Jupyter Widget of type <code>HBox</code>.</p>\n",
       "<p>\n",
       "  If you're reading this message in the Jupyter Notebook or JupyterLab Notebook, it may mean\n",
       "  that the widgets JavaScript is still loading. If this message persists, it\n",
       "  likely means that the widgets JavaScript library is either not installed or\n",
       "  not enabled. See the <a href=\"https://ipywidgets.readthedocs.io/en/stable/user_install.html\">Jupyter\n",
       "  Widgets Documentation</a> for setup instructions.\n",
       "</p>\n",
       "<p>\n",
       "  If you're reading this message in another frontend (for example, a static\n",
       "  rendering on GitHub or <a href=\"https://nbviewer.jupyter.org/\">NBViewer</a>),\n",
       "  it may mean that your frontend doesn't currently support widgets.\n",
       "</p>\n"
      ],
      "text/plain": [
       "HBox(children=(IntProgress(value=0, max=400), HTML(value='')))"
      ]
     },
     "metadata": {},
     "output_type": "display_data"
    },
    {
     "data": {
      "application/vnd.jupyter.widget-view+json": {
       "model_id": "152463bcd4a94a7a8c56f0c38ebf7c56",
       "version_major": 2,
       "version_minor": 0
      },
      "text/html": [
       "<p>Failed to display Jupyter Widget of type <code>HBox</code>.</p>\n",
       "<p>\n",
       "  If you're reading this message in the Jupyter Notebook or JupyterLab Notebook, it may mean\n",
       "  that the widgets JavaScript is still loading. If this message persists, it\n",
       "  likely means that the widgets JavaScript library is either not installed or\n",
       "  not enabled. See the <a href=\"https://ipywidgets.readthedocs.io/en/stable/user_install.html\">Jupyter\n",
       "  Widgets Documentation</a> for setup instructions.\n",
       "</p>\n",
       "<p>\n",
       "  If you're reading this message in another frontend (for example, a static\n",
       "  rendering on GitHub or <a href=\"https://nbviewer.jupyter.org/\">NBViewer</a>),\n",
       "  it may mean that your frontend doesn't currently support widgets.\n",
       "</p>\n"
      ],
      "text/plain": [
       "HBox(children=(IntProgress(value=0, max=400), HTML(value='')))"
      ]
     },
     "metadata": {},
     "output_type": "display_data"
    },
    {
     "data": {
      "application/vnd.jupyter.widget-view+json": {
       "model_id": "3e90c48f38814d56ba971cb4023c05fa",
       "version_major": 2,
       "version_minor": 0
      },
      "text/html": [
       "<p>Failed to display Jupyter Widget of type <code>HBox</code>.</p>\n",
       "<p>\n",
       "  If you're reading this message in the Jupyter Notebook or JupyterLab Notebook, it may mean\n",
       "  that the widgets JavaScript is still loading. If this message persists, it\n",
       "  likely means that the widgets JavaScript library is either not installed or\n",
       "  not enabled. See the <a href=\"https://ipywidgets.readthedocs.io/en/stable/user_install.html\">Jupyter\n",
       "  Widgets Documentation</a> for setup instructions.\n",
       "</p>\n",
       "<p>\n",
       "  If you're reading this message in another frontend (for example, a static\n",
       "  rendering on GitHub or <a href=\"https://nbviewer.jupyter.org/\">NBViewer</a>),\n",
       "  it may mean that your frontend doesn't currently support widgets.\n",
       "</p>\n"
      ],
      "text/plain": [
       "HBox(children=(IntProgress(value=0, max=400), HTML(value='')))"
      ]
     },
     "metadata": {},
     "output_type": "display_data"
    },
    {
     "data": {
      "image/png": "[encoded data removed]",
      "text/plain": [
       "<matplotlib.figure.Figure at 0x28c26f1dc88>"
      ]
     },
     "metadata": {},
     "output_type": "display_data"
    }
   ],
   "source": [
    "coherences, models = explore_models(df, rg=range(5, 85, 5))"
   ]
  },
  {
   "cell_type": "markdown",
   "metadata": {},
   "source": [
    "30 seems to be a good number of topics."
   ]
  },
  {
   "cell_type": "code",
   "execution_count": 83,
   "metadata": {},
   "outputs": [
    {
     "data": {
      "application/vnd.jupyter.widget-view+json": {
       "model_id": "22ab0adb363940f69cb5b34b308dd11d",
       "version_major": 2,
       "version_minor": 0
      },
      "text/html": [
       "<p>Failed to display Jupyter Widget of type <code>HBox</code>.</p>\n",
       "<p>\n",
       "  If you're reading this message in the Jupyter Notebook or JupyterLab Notebook, it may mean\n",
       "  that the widgets JavaScript is still loading. If this message persists, it\n",
       "  likely means that the widgets JavaScript library is either not installed or\n",
       "  not enabled. See the <a href=\"https://ipywidgets.readthedocs.io/en/stable/user_install.html\">Jupyter\n",
       "  Widgets Documentation</a> for setup instructions.\n",
       "</p>\n",
       "<p>\n",
       "  If you're reading this message in another frontend (for example, a static\n",
       "  rendering on GitHub or <a href=\"https://nbviewer.jupyter.org/\">NBViewer</a>),\n",
       "  it may mean that your frontend doesn't currently support widgets.\n",
       "</p>\n"
      ],
      "text/plain": [
       "HBox(children=(IntProgress(value=0, max=400), HTML(value='')))"
      ]
     },
     "metadata": {},
     "output_type": "display_data"
    }
   ],
   "source": [
    "best_model = LDA_model(num_topics=30, passes=5)"
   ]
  },
  {
   "cell_type": "code",
   "execution_count": 98,
   "metadata": {},
   "outputs": [
    {
     "data": {
      "text/html": [
       "<div>\n",
       "<style scoped>\n",
       "    .dataframe tbody tr th:only-of-type {\n",
       "        vertical-align: middle;\n",
       "    }\n",
       "\n",
       "    .dataframe tbody tr th {\n",
       "        vertical-align: top;\n",
       "    }\n",
       "\n",
       "    .dataframe thead th {\n",
       "        text-align: right;\n",
       "    }\n",
       "</style>\n",
       "<table border=\"1\" class=\"dataframe\">\n",
       "  <thead>\n",
       "    <tr style=\"text-align: right;\">\n",
       "      <th></th>\n",
       "      <th>keyword_1</th>\n",
       "      <th>keyword_2</th>\n",
       "      <th>keyword_3</th>\n",
       "      <th>keyword_4</th>\n",
       "      <th>keyword_5</th>\n",
       "      <th>keyword_6</th>\n",
       "      <th>keyword_7</th>\n",
       "      <th>keyword_8</th>\n",
       "      <th>keyword_9</th>\n",
       "      <th>keyword_10</th>\n",
       "    </tr>\n",
       "  </thead>\n",
       "  <tbody>\n",
       "    <tr>\n",
       "      <th>topic_0</th>\n",
       "      <td>news</td>\n",
       "      <td>years</td>\n",
       "      <td>striker</td>\n",
       "      <td>liverpool</td>\n",
       "      <td>cup</td>\n",
       "      <td>offer</td>\n",
       "      <td>intelligence</td>\n",
       "      <td>gains</td>\n",
       "      <td>earned</td>\n",
       "      <td>smaller</td>\n",
       "    </tr>\n",
       "    <tr>\n",
       "      <th>topic_1</th>\n",
       "      <td>table</td>\n",
       "      <td>hands</td>\n",
       "      <td>obama</td>\n",
       "      <td>piece</td>\n",
       "      <td>bottom</td>\n",
       "      <td>families</td>\n",
       "      <td>people</td>\n",
       "      <td>heard</td>\n",
       "      <td>class</td>\n",
       "      <td>github</td>\n",
       "    </tr>\n",
       "    <tr>\n",
       "      <th>topic_2</th>\n",
       "      <td>help</td>\n",
       "      <td>video</td>\n",
       "      <td>michael</td>\n",
       "      <td>huge</td>\n",
       "      <td>weeks</td>\n",
       "      <td>learn</td>\n",
       "      <td>general</td>\n",
       "      <td>debt</td>\n",
       "      <td>year</td>\n",
       "      <td>joel</td>\n",
       "    </tr>\n",
       "    <tr>\n",
       "      <th>topic_3</th>\n",
       "      <td>trump</td>\n",
       "      <td>special</td>\n",
       "      <td>counsel</td>\n",
       "      <td>clear</td>\n",
       "      <td>robert</td>\n",
       "      <td>attorney</td>\n",
       "      <td>mueller</td>\n",
       "      <td>main</td>\n",
       "      <td>grand</td>\n",
       "      <td>appeal</td>\n",
       "    </tr>\n",
       "    <tr>\n",
       "      <th>topic_4</th>\n",
       "      <td>cut</td>\n",
       "      <td>president</td>\n",
       "      <td>big</td>\n",
       "      <td>amazon</td>\n",
       "      <td>trump</td>\n",
       "      <td>inside</td>\n",
       "      <td>month</td>\n",
       "      <td>america</td>\n",
       "      <td>easy</td>\n",
       "      <td>kim_jong</td>\n",
       "    </tr>\n",
       "    <tr>\n",
       "      <th>topic_5</th>\n",
       "      <td>year</td>\n",
       "      <td>trump</td>\n",
       "      <td>president_donald</td>\n",
       "      <td>economists</td>\n",
       "      <td>top</td>\n",
       "      <td>business</td>\n",
       "      <td>growth</td>\n",
       "      <td>dreams</td>\n",
       "      <td>congress</td>\n",
       "      <td>percent</td>\n",
       "    </tr>\n",
       "    <tr>\n",
       "      <th>topic_6</th>\n",
       "      <td>year</td>\n",
       "      <td>fund</td>\n",
       "      <td>neymar</td>\n",
       "      <td>wwdc</td>\n",
       "      <td>capital</td>\n",
       "      <td>super</td>\n",
       "      <td>season</td>\n",
       "      <td>trade</td>\n",
       "      <td>star</td>\n",
       "      <td>brazil</td>\n",
       "    </tr>\n",
       "    <tr>\n",
       "      <th>topic_7</th>\n",
       "      <td>time</td>\n",
       "      <td>war</td>\n",
       "      <td>apple</td>\n",
       "      <td>monday</td>\n",
       "      <td>top</td>\n",
       "      <td>beijing</td>\n",
       "      <td>customers</td>\n",
       "      <td>trade</td>\n",
       "      <td>offers</td>\n",
       "      <td>annual</td>\n",
       "    </tr>\n",
       "    <tr>\n",
       "      <th>topic_8</th>\n",
       "      <td>president</td>\n",
       "      <td>early</td>\n",
       "      <td>russia</td>\n",
       "      <td>action</td>\n",
       "      <td>office</td>\n",
       "      <td>driving</td>\n",
       "      <td>games</td>\n",
       "      <td>donald_trump</td>\n",
       "      <td>vehicles</td>\n",
       "      <td>netflix</td>\n",
       "    </tr>\n",
       "    <tr>\n",
       "      <th>topic_9</th>\n",
       "      <td>sunday</td>\n",
       "      <td>hold</td>\n",
       "      <td>workers</td>\n",
       "      <td>charity</td>\n",
       "      <td>ahead</td>\n",
       "      <td>second</td>\n",
       "      <td>agent</td>\n",
       "      <td>manafort</td>\n",
       "      <td>players</td>\n",
       "      <td>international</td>\n",
       "    </tr>\n",
       "    <tr>\n",
       "      <th>topic_10</th>\n",
       "      <td>jobs</td>\n",
       "      <td>women</td>\n",
       "      <td>minister</td>\n",
       "      <td>side</td>\n",
       "      <td>reports</td>\n",
       "      <td>enrique</td>\n",
       "      <td>conte</td>\n",
       "      <td>journalist</td>\n",
       "      <td>persons</td>\n",
       "      <td>quarters</td>\n",
       "    </tr>\n",
       "    <tr>\n",
       "      <th>topic_11</th>\n",
       "      <td>president</td>\n",
       "      <td>trump</td>\n",
       "      <td>pardon</td>\n",
       "      <td>rudy_giuliani</td>\n",
       "      <td>power</td>\n",
       "      <td>president_donald</td>\n",
       "      <td>paper</td>\n",
       "      <td>impeachment</td>\n",
       "      <td>attempt</td>\n",
       "      <td>pc</td>\n",
       "    </tr>\n",
       "    <tr>\n",
       "      <th>topic_12</th>\n",
       "      <td>half</td>\n",
       "      <td>remain</td>\n",
       "      <td>president</td>\n",
       "      <td>news</td>\n",
       "      <td>trump</td>\n",
       "      <td>conservatives</td>\n",
       "      <td>government</td>\n",
       "      <td>hot</td>\n",
       "      <td>consequences</td>\n",
       "      <td>barack</td>\n",
       "    </tr>\n",
       "    <tr>\n",
       "      <th>topic_13</th>\n",
       "      <td>rest</td>\n",
       "      <td>lawyer</td>\n",
       "      <td>growth</td>\n",
       "      <td>northern</td>\n",
       "      <td>ireland</td>\n",
       "      <td>states</td>\n",
       "      <td>evolved</td>\n",
       "      <td>currency</td>\n",
       "      <td>serious</td>\n",
       "      <td>broke</td>\n",
       "    </tr>\n",
       "    <tr>\n",
       "      <th>topic_14</th>\n",
       "      <td>trump</td>\n",
       "      <td>barcelona</td>\n",
       "      <td>public</td>\n",
       "      <td>president</td>\n",
       "      <td>zhao</td>\n",
       "      <td>science</td>\n",
       "      <td>tesla</td>\n",
       "      <td>fen</td>\n",
       "      <td>samuel</td>\n",
       "      <td>umtiti</td>\n",
       "    </tr>\n",
       "    <tr>\n",
       "      <th>topic_15</th>\n",
       "      <td>people</td>\n",
       "      <td>money</td>\n",
       "      <td>things</td>\n",
       "      <td>time</td>\n",
       "      <td>hard</td>\n",
       "      <td>don</td>\n",
       "      <td>investing</td>\n",
       "      <td>financial</td>\n",
       "      <td>car</td>\n",
       "      <td>finance</td>\n",
       "    </tr>\n",
       "    <tr>\n",
       "      <th>topic_16</th>\n",
       "      <td>lost</td>\n",
       "      <td>titles</td>\n",
       "      <td>fans</td>\n",
       "      <td>heavyweight</td>\n",
       "      <td>mattered</td>\n",
       "      <td>quarter</td>\n",
       "      <td>parent</td>\n",
       "      <td>cash</td>\n",
       "      <td>demands</td>\n",
       "      <td>separate</td>\n",
       "    </tr>\n",
       "    <tr>\n",
       "      <th>topic_17</th>\n",
       "      <td>open</td>\n",
       "      <td>quebec</td>\n",
       "      <td>summit</td>\n",
       "      <td>trump</td>\n",
       "      <td>meeting</td>\n",
       "      <td>head</td>\n",
       "      <td>expected</td>\n",
       "      <td>week</td>\n",
       "      <td>alike</td>\n",
       "      <td>figure</td>\n",
       "    </tr>\n",
       "    <tr>\n",
       "      <th>topic_18</th>\n",
       "      <td>cup</td>\n",
       "      <td>week</td>\n",
       "      <td>captain</td>\n",
       "      <td>set</td>\n",
       "      <td>advice</td>\n",
       "      <td>three</td>\n",
       "      <td>game</td>\n",
       "      <td>trump</td>\n",
       "      <td>england</td>\n",
       "      <td>returned</td>\n",
       "    </tr>\n",
       "    <tr>\n",
       "      <th>topic_19</th>\n",
       "      <td>affect</td>\n",
       "      <td>assets</td>\n",
       "      <td>third</td>\n",
       "      <td>increase</td>\n",
       "      <td>team</td>\n",
       "      <td>john</td>\n",
       "      <td>years</td>\n",
       "      <td>microsoft</td>\n",
       "      <td>party</td>\n",
       "      <td>guide</td>\n",
       "    </tr>\n",
       "    <tr>\n",
       "      <th>topic_20</th>\n",
       "      <td>friendly</td>\n",
       "      <td>start</td>\n",
       "      <td>deal</td>\n",
       "      <td>cup</td>\n",
       "      <td>squad</td>\n",
       "      <td>city</td>\n",
       "      <td>fred</td>\n",
       "      <td>medical</td>\n",
       "      <td>portfolio</td>\n",
       "      <td>exploded</td>\n",
       "    </tr>\n",
       "    <tr>\n",
       "      <th>topic_21</th>\n",
       "      <td>billion</td>\n",
       "      <td>reports</td>\n",
       "      <td>money</td>\n",
       "      <td>people</td>\n",
       "      <td>announced</td>\n",
       "      <td>deal</td>\n",
       "      <td>microsoft</td>\n",
       "      <td>bloomberg</td>\n",
       "      <td>github</td>\n",
       "      <td>cornerstone</td>\n",
       "    </tr>\n",
       "    <tr>\n",
       "      <th>topic_22</th>\n",
       "      <td>public</td>\n",
       "      <td>face</td>\n",
       "      <td>gym</td>\n",
       "      <td>tech</td>\n",
       "      <td>profit</td>\n",
       "      <td>lights</td>\n",
       "      <td>imgur</td>\n",
       "      <td>arm</td>\n",
       "      <td>told</td>\n",
       "      <td>historic</td>\n",
       "    </tr>\n",
       "    <tr>\n",
       "      <th>topic_23</th>\n",
       "      <td>year</td>\n",
       "      <td>bn</td>\n",
       "      <td>vr</td>\n",
       "      <td>cup</td>\n",
       "      <td>trade</td>\n",
       "      <td>observed</td>\n",
       "      <td>forecasts</td>\n",
       "      <td>graham</td>\n",
       "      <td>economist</td>\n",
       "      <td>steven</td>\n",
       "    </tr>\n",
       "    <tr>\n",
       "      <th>topic_24</th>\n",
       "      <td>rsquo</td>\n",
       "      <td>jimmy</td>\n",
       "      <td>efficient</td>\n",
       "      <td>disappointing</td>\n",
       "      <td>sample</td>\n",
       "      <td>starting</td>\n",
       "      <td>size</td>\n",
       "      <td>bound</td>\n",
       "      <td>held</td>\n",
       "      <td>forces</td>\n",
       "    </tr>\n",
       "    <tr>\n",
       "      <th>topic_25</th>\n",
       "      <td>points</td>\n",
       "      <td>comments</td>\n",
       "      <td>reddit</td>\n",
       "      <td>top</td>\n",
       "      <td>cancer</td>\n",
       "      <td>trudeau</td>\n",
       "      <td>trump</td>\n",
       "      <td>highly</td>\n",
       "      <td>standing</td>\n",
       "      <td>blood</td>\n",
       "    </tr>\n",
       "    <tr>\n",
       "      <th>topic_26</th>\n",
       "      <td>police</td>\n",
       "      <td>officer</td>\n",
       "      <td>sunday</td>\n",
       "      <td>weapon</td>\n",
       "      <td>shot</td>\n",
       "      <td>morning</td>\n",
       "      <td>man</td>\n",
       "      <td>year</td>\n",
       "      <td>league</td>\n",
       "      <td>suspect</td>\n",
       "    </tr>\n",
       "    <tr>\n",
       "      <th>topic_27</th>\n",
       "      <td>making</td>\n",
       "      <td>wondering</td>\n",
       "      <td>broke</td>\n",
       "      <td>people</td>\n",
       "      <td>data</td>\n",
       "      <td>economic</td>\n",
       "      <td>sales</td>\n",
       "      <td>january</td>\n",
       "      <td>reports</td>\n",
       "      <td>mid</td>\n",
       "    </tr>\n",
       "    <tr>\n",
       "      <th>topic_28</th>\n",
       "      <td>guatemala</td>\n",
       "      <td>death</td>\n",
       "      <td>eruption</td>\n",
       "      <td>game</td>\n",
       "      <td>toll</td>\n",
       "      <td>confirmed</td>\n",
       "      <td>sunday</td>\n",
       "      <td>people</td>\n",
       "      <td>study</td>\n",
       "      <td>authorities</td>\n",
       "    </tr>\n",
       "    <tr>\n",
       "      <th>topic_29</th>\n",
       "      <td>move</td>\n",
       "      <td>officials</td>\n",
       "      <td>prices</td>\n",
       "      <td>year</td>\n",
       "      <td>monday</td>\n",
       "      <td>medicare</td>\n",
       "      <td>reportedly</td>\n",
       "      <td>prescriptions</td>\n",
       "      <td>liverpool</td>\n",
       "      <td>straight</td>\n",
       "    </tr>\n",
       "  </tbody>\n",
       "</table>\n",
       "</div>"
      ],
      "text/plain": [
       "          keyword_1  keyword_2         keyword_3      keyword_4  keyword_5  \\\n",
       "topic_0        news      years           striker      liverpool        cup   \n",
       "topic_1       table      hands             obama          piece     bottom   \n",
       "topic_2        help      video           michael           huge      weeks   \n",
       "topic_3       trump    special           counsel          clear     robert   \n",
       "topic_4         cut  president               big         amazon      trump   \n",
       "topic_5        year      trump  president_donald     economists        top   \n",
       "topic_6        year       fund            neymar           wwdc    capital   \n",
       "topic_7        time        war             apple         monday        top   \n",
       "topic_8   president      early            russia         action     office   \n",
       "topic_9      sunday       hold           workers        charity      ahead   \n",
       "topic_10       jobs      women          minister           side    reports   \n",
       "topic_11  president      trump            pardon  rudy_giuliani      power   \n",
       "topic_12       half     remain         president           news      trump   \n",
       "topic_13       rest     lawyer            growth       northern    ireland   \n",
       "topic_14      trump  barcelona            public      president       zhao   \n",
       "topic_15     people      money            things           time       hard   \n",
       "topic_16       lost     titles              fans    heavyweight   mattered   \n",
       "topic_17       open     quebec            summit          trump    meeting   \n",
       "topic_18        cup       week           captain            set     advice   \n",
       "topic_19     affect     assets             third       increase       team   \n",
       "topic_20   friendly      start              deal            cup      squad   \n",
       "topic_21    billion    reports             money         people  announced   \n",
       "topic_22     public       face               gym           tech     profit   \n",
       "topic_23       year         bn                vr            cup      trade   \n",
       "topic_24      rsquo      jimmy         efficient  disappointing     sample   \n",
       "topic_25     points   comments            reddit            top     cancer   \n",
       "topic_26     police    officer            sunday         weapon       shot   \n",
       "topic_27     making  wondering             broke         people       data   \n",
       "topic_28  guatemala      death          eruption           game       toll   \n",
       "topic_29       move  officials            prices           year     monday   \n",
       "\n",
       "                 keyword_6     keyword_7      keyword_8     keyword_9  \\\n",
       "topic_0              offer  intelligence          gains        earned   \n",
       "topic_1           families        people          heard         class   \n",
       "topic_2              learn       general           debt          year   \n",
       "topic_3           attorney       mueller           main         grand   \n",
       "topic_4             inside         month        america          easy   \n",
       "topic_5           business        growth         dreams      congress   \n",
       "topic_6              super        season          trade          star   \n",
       "topic_7            beijing     customers          trade        offers   \n",
       "topic_8            driving         games   donald_trump      vehicles   \n",
       "topic_9             second         agent       manafort       players   \n",
       "topic_10           enrique         conte     journalist       persons   \n",
       "topic_11  president_donald         paper    impeachment       attempt   \n",
       "topic_12     conservatives    government            hot  consequences   \n",
       "topic_13            states       evolved       currency       serious   \n",
       "topic_14           science         tesla            fen        samuel   \n",
       "topic_15               don     investing      financial           car   \n",
       "topic_16           quarter        parent           cash       demands   \n",
       "topic_17              head      expected           week         alike   \n",
       "topic_18             three          game          trump       england   \n",
       "topic_19              john         years      microsoft         party   \n",
       "topic_20              city          fred        medical     portfolio   \n",
       "topic_21              deal     microsoft      bloomberg        github   \n",
       "topic_22            lights         imgur            arm          told   \n",
       "topic_23          observed     forecasts         graham     economist   \n",
       "topic_24          starting          size          bound          held   \n",
       "topic_25           trudeau         trump         highly      standing   \n",
       "topic_26           morning           man           year        league   \n",
       "topic_27          economic         sales        january       reports   \n",
       "topic_28         confirmed        sunday         people         study   \n",
       "topic_29          medicare    reportedly  prescriptions     liverpool   \n",
       "\n",
       "             keyword_10  \n",
       "topic_0         smaller  \n",
       "topic_1          github  \n",
       "topic_2            joel  \n",
       "topic_3          appeal  \n",
       "topic_4        kim_jong  \n",
       "topic_5         percent  \n",
       "topic_6          brazil  \n",
       "topic_7          annual  \n",
       "topic_8         netflix  \n",
       "topic_9   international  \n",
       "topic_10       quarters  \n",
       "topic_11             pc  \n",
       "topic_12         barack  \n",
       "topic_13          broke  \n",
       "topic_14         umtiti  \n",
       "topic_15        finance  \n",
       "topic_16       separate  \n",
       "topic_17         figure  \n",
       "topic_18       returned  \n",
       "topic_19          guide  \n",
       "topic_20       exploded  \n",
       "topic_21    cornerstone  \n",
       "topic_22       historic  \n",
       "topic_23         steven  \n",
       "topic_24         forces  \n",
       "topic_25          blood  \n",
       "topic_26        suspect  \n",
       "topic_27            mid  \n",
       "topic_28    authorities  \n",
       "topic_29       straight  "
      ]
     },
     "execution_count": 98,
     "metadata": {},
     "output_type": "execute_result"
    }
   ],
   "source": [
    "# Display the top 10 keywords for each of these topics\n",
    "display_topics(best_model, 10)"
   ]
  },
  {
   "cell_type": "markdown",
   "metadata": {},
   "source": [
    "#### Visualize"
   ]
  },
  {
   "cell_type": "code",
   "execution_count": 103,
   "metadata": {},
   "outputs": [],
   "source": [
    "pyLDAvis.enable_notebook()\n",
    "panel = pyLDAvis.gensim.prepare(best_model, corpus, id2word)"
   ]
  },
  {
   "cell_type": "code",
   "execution_count": 104,
   "metadata": {},
   "outputs": [],
   "source": [
    "pyLDAvis.save_html(panel, './plots/pyLDAvis.html')"
   ]
  },
  {
   "cell_type": "markdown",
   "metadata": {},
   "source": [
    "# References\n",
    "\n",
    "- https://newsapi.org/\n",
    "- http://pythonhosted.org/lda/\n",
    "- <a href=\"http://nbviewer.jupyter.org/github/skipgram/modern-nlp-in-python/blob/master/executable/Modern_NLP_in_Python.ipynb#topic=3&lambda=0.87&term=\">NLP post </a>\n",
    "- <a href=\"https://www.machinelearningplus.com/nlp/topic-modeling-python-sklearn-examples/\"> Topic Modeling python - sklearn</a>\n",
    "- <a href=\"https://www.machinelearningplus.com/nlp/topic-modeling-gensim-python/\"> Topic Modeling python - gensim</a>\n",
    "- https://github.com/ahmedbesbes/How-to-mine-newsfeed-data-and-extract-interactive-insights-in-Python\n",
    "- https://ahmedbesbes.com/how-to-mine-newsfeed-data-and-extract-interactive-insights-in-python.html"
   ]
  }
 ],
 "metadata": {
  "anaconda-cloud": {},
  "kernelspec": {
   "display_name": "Python 3",
   "language": "python",
   "name": "python3"
  },
  "language_info": {
   "codemirror_mode": {
    "name": "ipython",
    "version": 3
   },
   "file_extension": ".py",
   "mimetype": "text/x-python",
   "name": "python",
   "nbconvert_exporter": "python",
   "pygments_lexer": "ipython3",
   "version": "3.6.4"
  },
  "toc": {
   "base_numbering": 1,
   "nav_menu": {},
   "number_sections": true,
   "sideBar": true,
   "skip_h1_title": false,
   "title_cell": "Table of Contents",
   "title_sidebar": "Contents",
   "toc_cell": false,
   "toc_position": {
    "height": "calc(100% - 180px)",
    "left": "10px",
    "top": "150px",
    "width": "307px"
   },
   "toc_section_display": true,
   "toc_window_display": true
  },
  "widgets": {
   "state": {
    "096725bddc2640a387bc975f8170c8a5": {
     "views": [
      {
       "cell_index": 134
      }
     ]
    },
    "37e6f7c391c24e5788bf81156c9e6a59": {
     "views": [
      {
       "cell_index": 118
      }
     ]
    },
    "3b74615e3a81456aa3b1338402509e17": {
     "views": [
      {
       "cell_index": 30
      }
     ]
    },
    "473a9130f2be44548a21c6eb9ede8fc2": {
     "views": [
      {
       "cell_index": 56
      }
     ]
    }
   },
   "version": "1.2.0"
  }
 },
 "nbformat": 4,
 "nbformat_minor": 1
}
